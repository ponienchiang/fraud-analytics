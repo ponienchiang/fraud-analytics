{
 "cells": [
  {
   "cell_type": "code",
   "execution_count": 1,
   "metadata": {},
   "outputs": [],
   "source": [
    "import pandas as pd\n",
    "import numpy as np\n",
    "import matplotlib.pyplot as plt\n",
    "import seaborn as sns\n",
    "import os,re,time\n",
    "from collections import Counter\n",
    "from scipy import stats"
   ]
  },
  {
   "cell_type": "code",
   "execution_count": 2,
   "metadata": {},
   "outputs": [],
   "source": [
    "path = os.getcwd()+'/'"
   ]
  },
  {
   "cell_type": "code",
   "execution_count": 3,
   "metadata": {},
   "outputs": [],
   "source": [
    "data = pd.read_csv(path+'train.csv')"
   ]
  },
  {
   "cell_type": "code",
   "execution_count": 5,
   "metadata": {},
   "outputs": [
    {
     "data": {
      "text/plain": [
       "(83767, 162)"
      ]
     },
     "execution_count": 5,
     "metadata": {},
     "output_type": "execute_result"
    }
   ],
   "source": [
    "data.shape"
   ]
  },
  {
   "cell_type": "code",
   "execution_count": 4,
   "metadata": {},
   "outputs": [
    {
     "data": {
      "text/html": [
       "<div>\n",
       "<style scoped>\n",
       "    .dataframe tbody tr th:only-of-type {\n",
       "        vertical-align: middle;\n",
       "    }\n",
       "\n",
       "    .dataframe tbody tr th {\n",
       "        vertical-align: top;\n",
       "    }\n",
       "\n",
       "    .dataframe thead th {\n",
       "        text-align: right;\n",
       "    }\n",
       "</style>\n",
       "<table border=\"1\" class=\"dataframe\">\n",
       "  <thead>\n",
       "    <tr style=\"text-align: right;\">\n",
       "      <th></th>\n",
       "      <th>Recordnum</th>\n",
       "      <th>cardnum_amount_avg_30</th>\n",
       "      <th>cardnum_amount_avg_15</th>\n",
       "      <th>cardnum_amount_avg_7</th>\n",
       "      <th>cardnum_amount_avg_3</th>\n",
       "      <th>cardnum_amount_avg_1</th>\n",
       "      <th>cardnum_amount_max_30</th>\n",
       "      <th>cardnum_amount_max_15</th>\n",
       "      <th>cardnum_amount_max_7</th>\n",
       "      <th>cardnum_amount_max_3</th>\n",
       "      <th>...</th>\n",
       "      <th>merchantnum_state_15</th>\n",
       "      <th>merchantnum_state_7</th>\n",
       "      <th>merchantnum_state_3</th>\n",
       "      <th>merchantnum_state_1</th>\n",
       "      <th>merchantnum_state_isna_30</th>\n",
       "      <th>merchantnum_state_isna_15</th>\n",
       "      <th>merchantnum_state_isna_7</th>\n",
       "      <th>merchantnum_state_isna_3</th>\n",
       "      <th>merchantnum_state_isna_1</th>\n",
       "      <th>Fraud</th>\n",
       "    </tr>\n",
       "  </thead>\n",
       "  <tbody>\n",
       "    <tr>\n",
       "      <th>0</th>\n",
       "      <td>1</td>\n",
       "      <td>3.62</td>\n",
       "      <td>3.62</td>\n",
       "      <td>3.62</td>\n",
       "      <td>3.62</td>\n",
       "      <td>3.62</td>\n",
       "      <td>3.62</td>\n",
       "      <td>3.62</td>\n",
       "      <td>3.62</td>\n",
       "      <td>3.62</td>\n",
       "      <td>...</td>\n",
       "      <td>1</td>\n",
       "      <td>1</td>\n",
       "      <td>1</td>\n",
       "      <td>1</td>\n",
       "      <td>0</td>\n",
       "      <td>0</td>\n",
       "      <td>0</td>\n",
       "      <td>0</td>\n",
       "      <td>0</td>\n",
       "      <td>0</td>\n",
       "    </tr>\n",
       "    <tr>\n",
       "      <th>1</th>\n",
       "      <td>2</td>\n",
       "      <td>31.42</td>\n",
       "      <td>31.42</td>\n",
       "      <td>31.42</td>\n",
       "      <td>31.42</td>\n",
       "      <td>31.42</td>\n",
       "      <td>31.42</td>\n",
       "      <td>31.42</td>\n",
       "      <td>31.42</td>\n",
       "      <td>31.42</td>\n",
       "      <td>...</td>\n",
       "      <td>1</td>\n",
       "      <td>1</td>\n",
       "      <td>1</td>\n",
       "      <td>1</td>\n",
       "      <td>0</td>\n",
       "      <td>0</td>\n",
       "      <td>0</td>\n",
       "      <td>0</td>\n",
       "      <td>0</td>\n",
       "      <td>0</td>\n",
       "    </tr>\n",
       "    <tr>\n",
       "      <th>2</th>\n",
       "      <td>3</td>\n",
       "      <td>178.49</td>\n",
       "      <td>178.49</td>\n",
       "      <td>178.49</td>\n",
       "      <td>178.49</td>\n",
       "      <td>178.49</td>\n",
       "      <td>178.49</td>\n",
       "      <td>178.49</td>\n",
       "      <td>178.49</td>\n",
       "      <td>178.49</td>\n",
       "      <td>...</td>\n",
       "      <td>1</td>\n",
       "      <td>1</td>\n",
       "      <td>1</td>\n",
       "      <td>1</td>\n",
       "      <td>0</td>\n",
       "      <td>0</td>\n",
       "      <td>0</td>\n",
       "      <td>0</td>\n",
       "      <td>0</td>\n",
       "      <td>0</td>\n",
       "    </tr>\n",
       "    <tr>\n",
       "      <th>3</th>\n",
       "      <td>4</td>\n",
       "      <td>3.62</td>\n",
       "      <td>3.62</td>\n",
       "      <td>3.62</td>\n",
       "      <td>3.62</td>\n",
       "      <td>3.62</td>\n",
       "      <td>3.62</td>\n",
       "      <td>3.62</td>\n",
       "      <td>3.62</td>\n",
       "      <td>3.62</td>\n",
       "      <td>...</td>\n",
       "      <td>1</td>\n",
       "      <td>1</td>\n",
       "      <td>1</td>\n",
       "      <td>1</td>\n",
       "      <td>0</td>\n",
       "      <td>0</td>\n",
       "      <td>0</td>\n",
       "      <td>0</td>\n",
       "      <td>0</td>\n",
       "      <td>0</td>\n",
       "    </tr>\n",
       "    <tr>\n",
       "      <th>4</th>\n",
       "      <td>5</td>\n",
       "      <td>3.62</td>\n",
       "      <td>3.62</td>\n",
       "      <td>3.62</td>\n",
       "      <td>3.62</td>\n",
       "      <td>3.62</td>\n",
       "      <td>3.62</td>\n",
       "      <td>3.62</td>\n",
       "      <td>3.62</td>\n",
       "      <td>3.62</td>\n",
       "      <td>...</td>\n",
       "      <td>1</td>\n",
       "      <td>1</td>\n",
       "      <td>1</td>\n",
       "      <td>1</td>\n",
       "      <td>0</td>\n",
       "      <td>0</td>\n",
       "      <td>0</td>\n",
       "      <td>0</td>\n",
       "      <td>0</td>\n",
       "      <td>0</td>\n",
       "    </tr>\n",
       "  </tbody>\n",
       "</table>\n",
       "<p>5 rows × 162 columns</p>\n",
       "</div>"
      ],
      "text/plain": [
       "   Recordnum  cardnum_amount_avg_30  cardnum_amount_avg_15  \\\n",
       "0          1                   3.62                   3.62   \n",
       "1          2                  31.42                  31.42   \n",
       "2          3                 178.49                 178.49   \n",
       "3          4                   3.62                   3.62   \n",
       "4          5                   3.62                   3.62   \n",
       "\n",
       "   cardnum_amount_avg_7  cardnum_amount_avg_3  cardnum_amount_avg_1  \\\n",
       "0                  3.62                  3.62                  3.62   \n",
       "1                 31.42                 31.42                 31.42   \n",
       "2                178.49                178.49                178.49   \n",
       "3                  3.62                  3.62                  3.62   \n",
       "4                  3.62                  3.62                  3.62   \n",
       "\n",
       "   cardnum_amount_max_30  cardnum_amount_max_15  cardnum_amount_max_7  \\\n",
       "0                   3.62                   3.62                  3.62   \n",
       "1                  31.42                  31.42                 31.42   \n",
       "2                 178.49                 178.49                178.49   \n",
       "3                   3.62                   3.62                  3.62   \n",
       "4                   3.62                   3.62                  3.62   \n",
       "\n",
       "   cardnum_amount_max_3  ...    merchantnum_state_15  merchantnum_state_7  \\\n",
       "0                  3.62  ...                       1                    1   \n",
       "1                 31.42  ...                       1                    1   \n",
       "2                178.49  ...                       1                    1   \n",
       "3                  3.62  ...                       1                    1   \n",
       "4                  3.62  ...                       1                    1   \n",
       "\n",
       "   merchantnum_state_3  merchantnum_state_1  merchantnum_state_isna_30  \\\n",
       "0                    1                    1                          0   \n",
       "1                    1                    1                          0   \n",
       "2                    1                    1                          0   \n",
       "3                    1                    1                          0   \n",
       "4                    1                    1                          0   \n",
       "\n",
       "   merchantnum_state_isna_15  merchantnum_state_isna_7  \\\n",
       "0                          0                         0   \n",
       "1                          0                         0   \n",
       "2                          0                         0   \n",
       "3                          0                         0   \n",
       "4                          0                         0   \n",
       "\n",
       "   merchantnum_state_isna_3  merchantnum_state_isna_1  Fraud  \n",
       "0                         0                         0      0  \n",
       "1                         0                         0      0  \n",
       "2                         0                         0      0  \n",
       "3                         0                         0      0  \n",
       "4                         0                         0      0  \n",
       "\n",
       "[5 rows x 162 columns]"
      ]
     },
     "execution_count": 4,
     "metadata": {},
     "output_type": "execute_result"
    }
   ],
   "source": [
    "data.head()"
   ]
  },
  {
   "cell_type": "markdown",
   "metadata": {},
   "source": [
    "## KS"
   ]
  },
  {
   "cell_type": "code",
   "execution_count": 6,
   "metadata": {},
   "outputs": [
    {
     "data": {
      "text/plain": [
       "(83091, 162)"
      ]
     },
     "execution_count": 6,
     "metadata": {},
     "output_type": "execute_result"
    }
   ],
   "source": [
    "goods = data.query('Fraud == 0')\n",
    "goods.shape"
   ]
  },
  {
   "cell_type": "code",
   "execution_count": 7,
   "metadata": {},
   "outputs": [
    {
     "data": {
      "text/plain": [
       "(676, 162)"
      ]
     },
     "execution_count": 7,
     "metadata": {},
     "output_type": "execute_result"
    }
   ],
   "source": [
    "bads = data.query('Fraud == 1')\n",
    "bads.shape"
   ]
  },
  {
   "cell_type": "code",
   "execution_count": 8,
   "metadata": {},
   "outputs": [
    {
     "name": "stdout",
     "output_type": "stream",
     "text": [
      "time elapsed: 2.40\n"
     ]
    }
   ],
   "source": [
    "start = time.time()\n",
    "\n",
    "variables = np.array([])\n",
    "scores = np.array([])\n",
    "for v in data.columns[:-1]:\n",
    "    variable = v\n",
    "    ks = stats.ks_2samp(goods[v], bads[v])\n",
    "    variables = np.hstack((variables,v))\n",
    "    scores = np.hstack((scores,ks[0]))\n",
    "end = time.time() \n",
    "print('time elapsed: {:.2f}'.format(end-start))"
   ]
  },
  {
   "cell_type": "code",
   "execution_count": 9,
   "metadata": {},
   "outputs": [
    {
     "data": {
      "text/plain": [
       "array([0.60386221, 0.60279067, 0.60211017, 0.60195619, 0.59304725,\n",
       "       0.59247972, 0.59104349, 0.58908179, 0.58606797, 0.58411134,\n",
       "       0.58244107, 0.5797654 , 0.57870226, 0.5783457 , 0.57641068,\n",
       "       0.5724326 , 0.57049062, 0.56546042, 0.56400739, 0.56363633,\n",
       "       0.56332805, 0.56216776, 0.56008729, 0.5598134 , 0.559689  ,\n",
       "       0.5593178 , 0.55908158, 0.5587884 , 0.55874982, 0.55725531,\n",
       "       0.55704463, 0.55686469, 0.55541657, 0.55203575, 0.55189235,\n",
       "       0.55092577, 0.55011435, 0.54921867, 0.54908935, 0.54566153,\n",
       "       0.54560906, 0.54551885, 0.54262887, 0.53991767, 0.53965753,\n",
       "       0.53889961, 0.53841733, 0.53649884, 0.53150898, 0.52912416,\n",
       "       0.52862058, 0.52640222, 0.52611933, 0.52487363, 0.52200712,\n",
       "       0.52168521, 0.51838458, 0.51720964, 0.51510643, 0.51259039,\n",
       "       0.51237144, 0.5116747 , 0.50834882, 0.50754237, 0.50608638,\n",
       "       0.50562905, 0.50379179, 0.49972976, 0.49940596, 0.49810415,\n",
       "       0.49511251, 0.49229023, 0.49061578, 0.48820951, 0.47998395,\n",
       "       0.47967321, 0.47849857, 0.46537504, 0.4620212 , 0.46184779,\n",
       "       0.46083974, 0.45949486, 0.45364384, 0.45145071, 0.43892646,\n",
       "       0.42879052, 0.41676049, 0.40852896, 0.4046817 , 0.40428832,\n",
       "       0.40115023, 0.38532881, 0.34552372, 0.32367411, 0.31050971,\n",
       "       0.30404834, 0.29902212, 0.2746502 , 0.25526414, 0.25410687,\n",
       "       0.25016014, 0.20222375, 0.19511598, 0.1899348 , 0.16911428,\n",
       "       0.13396152, 0.13057319, 0.12621978, 0.12519832, 0.1170688 ,\n",
       "       0.11603191, 0.11563883, 0.11397798, 0.11116994, 0.10980938,\n",
       "       0.09507198, 0.09413661, 0.09128708, 0.08919646, 0.08604573,\n",
       "       0.08473655, 0.07383879, 0.07330141, 0.07166599, 0.07132175,\n",
       "       0.07120414, 0.0667219 , 0.06347593, 0.06333759, 0.06127746,\n",
       "       0.06019936, 0.05926774, 0.05621882, 0.05450319, 0.04361816,\n",
       "       0.04182683, 0.04069497, 0.03997854, 0.03890742, 0.0365345 ,\n",
       "       0.03622401, 0.03524269, 0.03081686, 0.0296151 , 0.0218106 ,\n",
       "       0.02123221, 0.01502678, 0.01490891, 0.01408298, 0.01311469,\n",
       "       0.01220349, 0.01061487, 0.01060283, 0.01050655, 0.01042231,\n",
       "       0.01039824, 0.01037417, 0.01031399, 0.01024178, 0.01018161,\n",
       "       0.01013347])"
      ]
     },
     "execution_count": 9,
     "metadata": {},
     "output_type": "execute_result"
    }
   ],
   "source": [
    "scores[np.argsort(-scores)]"
   ]
  },
  {
   "cell_type": "code",
   "execution_count": 10,
   "metadata": {},
   "outputs": [
    {
     "data": {
      "text/plain": [
       "array(['cardnum_amount_sum_7', 'merchantnum_amount_week_diff_sum_3',\n",
       "       'merchantnum_amount_sum_3', 'merchantnum_amount_sum_7',\n",
       "       'merchantnum_amount_week_diff_max_1',\n",
       "       'merchantnum_amount_month_diff_sum_3', 'merchantnum_amount_max_1',\n",
       "       'merchantnum_amount_month_diff_max_1',\n",
       "       'merchantnum_amount_week_diff_sum_1',\n",
       "       'cardnum_amount_week_diff_sum_3', 'cardnum_amount_sum_3',\n",
       "       'merchantnum_amount_month_diff_max_3', 'merchantnum_amount_max_3',\n",
       "       'merchantnum_amount_month_diff_sum_1',\n",
       "       'merchantnum_amount_week_diff_max_3',\n",
       "       'cardnum_amount_month_diff_sum_3', 'merchantnum_amount_sum_1',\n",
       "       'cardnum_amount_week_diff_sum_7', 'cardnum_amount_max_3',\n",
       "       'cardnum_amount_week_diff_max_3', 'cardnum_amount_week_diff_max_1',\n",
       "       'cardnum_amount_week_diff_sum_1',\n",
       "       'cardnum_amount_month_diff_sum_7', 'merchantnum_amount_avg_1',\n",
       "       'merchantnum_amount_week_diff_avg_1',\n",
       "       'cardnum_amount_month_diff_max_3',\n",
       "       'merchantnum_amount_month_diff_sum_7',\n",
       "       'merchantnum_amount_month_diff_avg_1', 'cardnum_amount_max_1',\n",
       "       'cardnum_amount_month_diff_max_1',\n",
       "       'cardnum_amount_month_diff_sum_1',\n",
       "       'cardnum_amount_week_diff_avg_3',\n",
       "       'cardnum_amount_month_diff_avg_3', 'cardnum_amount_avg_3',\n",
       "       'merchantnum_amount_week_diff_avg_3', 'cardnum_amount_sum_1',\n",
       "       'cardnum_amount_month_diff_avg_1',\n",
       "       'cardnum_amount_month_diff_sum_15',\n",
       "       'merchantnum_amount_month_diff_avg_3',\n",
       "       'cardnum_amount_week_diff_sum_15', 'merchantnum_amount_avg_3',\n",
       "       'cardnum_amount_week_diff_max_7', 'cardnum_amount_week_diff_avg_1',\n",
       "       'cardnum_amount_avg_1', 'cardnum_amount_sum_15',\n",
       "       'cardnum_amount_max_7', 'cardnum_amount_month_diff_max_7',\n",
       "       'merchantnum_amount_week_diff_sum_7',\n",
       "       'merchantnum_amount_month_diff_max_7', 'merchantnum_amount_max_7',\n",
       "       'merchantnum_amount_week_diff_max_7',\n",
       "       'cardnum_amount_month_diff_avg_7',\n",
       "       'cardnum_amount_week_diff_avg_7', 'cardnum_amount_avg_7',\n",
       "       'cardnum_amount_week_diff_max_15',\n",
       "       'cardnum_amount_month_diff_max_15', 'cardnum_amount_max_15',\n",
       "       'cardnum_amount_week_diff_sum_30',\n",
       "       'merchantnum_amount_month_diff_avg_7',\n",
       "       'cardnum_amount_week_diff_avg_15',\n",
       "       'merchantnum_amount_week_diff_avg_7',\n",
       "       'cardnum_amount_month_diff_sum_30',\n",
       "       'cardnum_amount_month_diff_max_30', 'merchantnum_amount_avg_7',\n",
       "       'cardnum_amount_max_30', 'cardnum_amount_week_diff_max_30',\n",
       "       'cardnum_amount_avg_15', 'cardnum_amount_month_diff_avg_15',\n",
       "       'merchantnum_amount_week_diff_max_15', 'merchantnum_amount_max_15',\n",
       "       'merchantnum_amount_month_diff_max_15',\n",
       "       'merchantnum_amount_month_diff_sum_15',\n",
       "       'cardnum_amount_week_diff_avg_30', 'merchantnum_amount_sum_15',\n",
       "       'cardnum_amount_avg_30', 'cardnum_amount_month_diff_avg_30',\n",
       "       'merchantnum_amount_week_diff_sum_15', 'cardnum_amount_sum_30',\n",
       "       'merchantnum_amount_week_diff_max_30',\n",
       "       'merchantnum_amount_month_diff_avg_15',\n",
       "       'merchantnum_amount_max_30',\n",
       "       'merchantnum_amount_month_diff_max_30',\n",
       "       'merchantnum_amount_avg_15', 'merchantnum_amount_week_diff_avg_15',\n",
       "       'merchantnum_amount_month_diff_sum_30',\n",
       "       'merchantnum_amount_week_diff_sum_30', 'merchantnum_amount_sum_30',\n",
       "       'cardnum_7', 'merchantnum_amount_month_diff_avg_30',\n",
       "       'merchantnum_amount_avg_30', 'merchantnum_amount_week_diff_avg_30',\n",
       "       'cardnum_3', 'cardnum_15', 'merchantnum_3', 'merchantnum_7',\n",
       "       'cardnum_1', 'Recordnum', 'merchantnum_15', 'cardnum_30',\n",
       "       'merchantnum_1', 'merchantnum_30', 'newmerch_30', 'newmerch_15',\n",
       "       'cardnum_state_30', 'cardnum_state_15', 'newmerch_7', 'newmerch_1',\n",
       "       'merchantnum_cardnum_3', 'newmerch_3', 'cardnum_merchantnum_15',\n",
       "       'cardnum_merchantnum_30', 'cardnum_zip_30', 'cardnum_zip_7',\n",
       "       'merchantnum_cardnum_7', 'cardnum_zip_15',\n",
       "       'merchantnum_cardnum_15', 'cardnum_merchantnum_7',\n",
       "       'cardnum_state_7', 'cardnum_zip_3', 'merchantnum_cardnum_30',\n",
       "       'cardnum_zip_1', 'cardnum_state_3', 'cardnum_merchantnum_1',\n",
       "       'cardnum_merchantnum_isna_30', 'cardnum_merchantnum_3',\n",
       "       'cardnum_state_1', 'cardnum_zip_isna_3', 'merchantnum_zip_7',\n",
       "       'merchantnum_zip_1', 'cardnum_merchantnum_isna_15',\n",
       "       'merchantnum_zip_isna_30', 'merchantnum_zip_3',\n",
       "       'merchantnum_zip_15', 'cardnum_zip_isna_7',\n",
       "       'merchantnum_cardnum_1', 'cardnum_state_isna_30',\n",
       "       'merchantnum_zip_30', 'merchantnum_zip_isna_3',\n",
       "       'cardnum_zip_isna_1', 'merchantnum_zip_isna_7',\n",
       "       'cardnum_zip_isna_30', 'cardnum_merchantnum_isna_3',\n",
       "       'merchantnum_zip_isna_15', 'cardnum_merchantnum_isna_7',\n",
       "       'cardnum_state_isna_15', 'merchantnum_zip_isna_1',\n",
       "       'cardnum_state_isna_7', 'cardnum_merchantnum_isna_1',\n",
       "       'cardnum_state_isna_3', 'cardnum_zip_isna_15',\n",
       "       'cardnum_state_isna_1', 'merchantnum_state_isna_30',\n",
       "       'merchantnum_state_isna_15', 'merchantnum_state_isna_7',\n",
       "       'merchantnum_state_isna_3', 'merchantnum_state_isna_1',\n",
       "       'merchantnum_state_1', 'merchantnum_state_3',\n",
       "       'merchantnum_state_7', 'merchantnum_state_15',\n",
       "       'merchantnum_state_30'], dtype='<U36')"
      ]
     },
     "execution_count": 10,
     "metadata": {},
     "output_type": "execute_result"
    }
   ],
   "source": [
    "variables[np.argsort(-scores)]"
   ]
  },
  {
   "cell_type": "markdown",
   "metadata": {},
   "source": [
    "## best variable"
   ]
  },
  {
   "cell_type": "code",
   "execution_count": 12,
   "metadata": {},
   "outputs": [
    {
     "data": {
      "image/png": "[encoded data removed]",
      "text/plain": [
       "<matplotlib.figure.Figure at 0x105ab05f8>"
      ]
     },
     "metadata": {},
     "output_type": "display_data"
    }
   ],
   "source": [
    "sns.distplot(goods['cardnum_amount_sum_7'],hist_kws={'cumulative': True}, kde_kws={'cumulative': True})\n",
    "sns.distplot(bads['cardnum_amount_sum_7'],hist_kws={'cumulative': True}, kde_kws={'cumulative': True})\n",
    "plt.xlim(0,200000)\n",
    "plt.show()"
   ]
  },
  {
   "cell_type": "markdown",
   "metadata": {},
   "source": [
    "## best non amount-related variable"
   ]
  },
  {
   "cell_type": "code",
   "execution_count": 13,
   "metadata": {},
   "outputs": [
    {
     "data": {
      "text/plain": [
       "'cardnum_7'"
      ]
     },
     "execution_count": 13,
     "metadata": {},
     "output_type": "execute_result"
    }
   ],
   "source": [
    "[v for v in variables[np.argsort(-scores)] if 'amount' not in v][0]"
   ]
  },
  {
   "cell_type": "code",
   "execution_count": 14,
   "metadata": {},
   "outputs": [
    {
     "data": {
      "text/plain": [
       "(array([87]),)"
      ]
     },
     "execution_count": 14,
     "metadata": {},
     "output_type": "execute_result"
    }
   ],
   "source": [
    "np.where(variables[np.argsort(-scores)]=='cardnum_7')"
   ]
  },
  {
   "cell_type": "code",
   "execution_count": 15,
   "metadata": {},
   "outputs": [
    {
     "data": {
      "text/plain": [
       "0.46184779302709317"
      ]
     },
     "execution_count": 15,
     "metadata": {},
     "output_type": "execute_result"
    }
   ],
   "source": [
    "scores[np.argsort(-scores)][79]"
   ]
  },
  {
   "cell_type": "code",
   "execution_count": 16,
   "metadata": {},
   "outputs": [
    {
     "name": "stderr",
     "output_type": "stream",
     "text": [
      "/Library/Frameworks/Python.framework/Versions/3.6/lib/python3.6/site-packages/numpy/core/numeric.py:492: UserWarning: Warning: converting a masked element to nan.\n",
      "  return array(a, dtype, copy=False, order=order)\n"
     ]
    },
    {
     "data": {
      "image/png": "[encoded data removed]",
      "text/plain": [
       "<matplotlib.figure.Figure at 0x1107db470>"
      ]
     },
     "metadata": {},
     "output_type": "display_data"
    }
   ],
   "source": [
    "sns.set(font_scale=2)\n",
    "ax = sns.countplot(x='cardnum_7', hue = 'Fraud',data = data)\n",
    "ax.set(yscale='symlog')\n",
    "ax.set_ylim([.1,1000000])\n",
    "plt.show()"
   ]
  },
  {
   "cell_type": "markdown",
   "metadata": {},
   "source": [
    "## worst variable"
   ]
  },
  {
   "cell_type": "code",
   "execution_count": 17,
   "metadata": {},
   "outputs": [
    {
     "data": {
      "text/plain": [
       "0.010133468125308397"
      ]
     },
     "execution_count": 17,
     "metadata": {},
     "output_type": "execute_result"
    }
   ],
   "source": [
    "scores[np.argsort(-scores)][-1]"
   ]
  },
  {
   "cell_type": "code",
   "execution_count": 18,
   "metadata": {},
   "outputs": [
    {
     "name": "stderr",
     "output_type": "stream",
     "text": [
      "/Library/Frameworks/Python.framework/Versions/3.6/lib/python3.6/site-packages/numpy/core/numeric.py:492: UserWarning: Warning: converting a masked element to nan.\n",
      "  return array(a, dtype, copy=False, order=order)\n"
     ]
    },
    {
     "data": {
      "image/png": "[encoded data removed]",
      "text/plain": [
       "<matplotlib.figure.Figure at 0x118d837b8>"
      ]
     },
     "metadata": {},
     "output_type": "display_data"
    }
   ],
   "source": [
    "sns.set(font_scale=2)\n",
    "ax = sns.countplot(x='merchantnum_state_30', hue = 'Fraud',data = data)\n",
    "ax.set(yscale='symlog')\n",
    "ax.set_ylim([.1,1000000])\n",
    "plt.show()"
   ]
  },
  {
   "cell_type": "code",
   "execution_count": null,
   "metadata": {},
   "outputs": [],
   "source": []
  }
 ],
 "metadata": {
  "kernelspec": {
   "display_name": "Python 3",
   "language": "python",
   "name": "python3"
  },
  "language_info": {
   "codemirror_mode": {
    "name": "ipython",
    "version": 3
   },
   "file_extension": ".py",
   "mimetype": "text/x-python",
   "name": "python",
   "nbconvert_exporter": "python",
   "pygments_lexer": "ipython3",
   "version": "3.6.3"
  }
 },
 "nbformat": 4,
 "nbformat_minor": 2
}
