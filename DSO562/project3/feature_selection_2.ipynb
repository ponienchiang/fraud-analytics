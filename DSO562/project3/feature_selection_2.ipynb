{
 "cells": [
  {
   "cell_type": "markdown",
   "metadata": {},
   "source": [
    "From `KS` scores we discovered that top `86` variables out of `160` are `amount` related. Since we had a hypothesis of signals of credit card transaction frauds, we selected `40` variables that includes all types of signals as our variable portfolio.\n",
    "\n",
    "Below are the `40` variables selected."
   ]
  },
  {
   "cell_type": "code",
   "execution_count": 1,
   "metadata": {},
   "outputs": [
    {
     "data": {
      "text/plain": [
       "40"
      ]
     },
     "execution_count": 1,
     "metadata": {},
     "output_type": "execute_result"
    }
   ],
   "source": [
    "feature_40 = ['cardnum_amount_sum_7', 'merchantnum_amount_week_diff_sum_3',\n",
    "       'merchantnum_amount_sum_3', 'merchantnum_amount_sum_7',\n",
    "       'merchantnum_amount_week_diff_max_1',\n",
    "       'merchantnum_amount_month_diff_sum_3', 'merchantnum_amount_max_1',\n",
    "       'merchantnum_amount_month_diff_max_1',\n",
    "       'merchantnum_amount_week_diff_sum_1',\n",
    "       'cardnum_amount_week_diff_sum_3', 'cardnum_amount_sum_3',\n",
    "       'merchantnum_amount_month_diff_max_3', 'merchantnum_amount_max_3',\n",
    "       'merchantnum_amount_month_diff_sum_1',\n",
    "       'merchantnum_amount_week_diff_max_3',\n",
    "       'cardnum_amount_month_diff_sum_3', 'merchantnum_amount_sum_1',\n",
    "       'cardnum_amount_week_diff_sum_7', 'cardnum_amount_max_3',\n",
    "       'cardnum_amount_week_diff_max_3','cardnum_amount_week_diff_max_1',\n",
    "       'cardnum_amount_week_diff_sum_1',\n",
    "       'cardnum_amount_month_diff_sum_7', 'merchantnum_amount_avg_1',\n",
    "'merchantnum_amount_week_diff_avg_1',\n",
    "       'cardnum_amount_month_diff_max_3',\n",
    "       'merchantnum_amount_month_diff_sum_7',\n",
    "       'merchantnum_amount_month_diff_avg_1',\n",
    "'newmerch_30', 'newmerch_15',\n",
    "       'cardnum_state_30', 'cardnum_state_15', 'newmerch_7', 'newmerch_1',\n",
    "       'merchantnum_cardnum_3', 'newmerch_3', 'cardnum_merchantnum_15',\n",
    "       'cardnum_merchantnum_30', 'cardnum_zip_30', 'cardnum_zip_7']\n",
    "len(feature_40)"
   ]
  },
  {
   "cell_type": "code",
   "execution_count": 87,
   "metadata": {},
   "outputs": [],
   "source": [
    "import pandas as pd\n",
    "import numpy as np\n",
    "import matplotlib.pyplot as plt\n",
    "import seaborn as sns\n",
    "import os,re,time\n",
    "from sklearn.ensemble import RandomForestClassifier\n",
    "from sklearn import metrics\n",
    "from sklearn.linear_model import LogisticRegression\n",
    "from sklearn.model_selection import train_test_split"
   ]
  },
  {
   "cell_type": "code",
   "execution_count": 3,
   "metadata": {},
   "outputs": [],
   "source": [
    "path = os.getcwd()+'/'"
   ]
  },
  {
   "cell_type": "code",
   "execution_count": 4,
   "metadata": {},
   "outputs": [],
   "source": [
    "data = pd.read_csv(path+'train.csv')\n",
    "ofd = pd.read_csv(path+'out_of_date.csv')"
   ]
  },
  {
   "cell_type": "code",
   "execution_count": 5,
   "metadata": {},
   "outputs": [
    {
     "data": {
      "text/plain": [
       "(83767, 162)"
      ]
     },
     "execution_count": 5,
     "metadata": {},
     "output_type": "execute_result"
    }
   ],
   "source": [
    "data.shape"
   ]
  },
  {
   "cell_type": "code",
   "execution_count": 6,
   "metadata": {},
   "outputs": [
    {
     "data": {
      "text/html": [
       "<div>\n",
       "<style scoped>\n",
       "    .dataframe tbody tr th:only-of-type {\n",
       "        vertical-align: middle;\n",
       "    }\n",
       "\n",
       "    .dataframe tbody tr th {\n",
       "        vertical-align: top;\n",
       "    }\n",
       "\n",
       "    .dataframe thead th {\n",
       "        text-align: right;\n",
       "    }\n",
       "</style>\n",
       "<table border=\"1\" class=\"dataframe\">\n",
       "  <thead>\n",
       "    <tr style=\"text-align: right;\">\n",
       "      <th></th>\n",
       "      <th>Recordnum</th>\n",
       "      <th>cardnum_amount_avg_30</th>\n",
       "      <th>cardnum_amount_avg_15</th>\n",
       "      <th>cardnum_amount_avg_7</th>\n",
       "      <th>cardnum_amount_avg_3</th>\n",
       "      <th>cardnum_amount_avg_1</th>\n",
       "      <th>cardnum_amount_max_30</th>\n",
       "      <th>cardnum_amount_max_15</th>\n",
       "      <th>cardnum_amount_max_7</th>\n",
       "      <th>cardnum_amount_max_3</th>\n",
       "      <th>...</th>\n",
       "      <th>merchantnum_state_15</th>\n",
       "      <th>merchantnum_state_7</th>\n",
       "      <th>merchantnum_state_3</th>\n",
       "      <th>merchantnum_state_1</th>\n",
       "      <th>merchantnum_state_isna_30</th>\n",
       "      <th>merchantnum_state_isna_15</th>\n",
       "      <th>merchantnum_state_isna_7</th>\n",
       "      <th>merchantnum_state_isna_3</th>\n",
       "      <th>merchantnum_state_isna_1</th>\n",
       "      <th>Fraud</th>\n",
       "    </tr>\n",
       "  </thead>\n",
       "  <tbody>\n",
       "    <tr>\n",
       "      <th>0</th>\n",
       "      <td>1</td>\n",
       "      <td>3.62</td>\n",
       "      <td>3.62</td>\n",
       "      <td>3.62</td>\n",
       "      <td>3.62</td>\n",
       "      <td>3.62</td>\n",
       "      <td>3.62</td>\n",
       "      <td>3.62</td>\n",
       "      <td>3.62</td>\n",
       "      <td>3.62</td>\n",
       "      <td>...</td>\n",
       "      <td>1</td>\n",
       "      <td>1</td>\n",
       "      <td>1</td>\n",
       "      <td>1</td>\n",
       "      <td>0</td>\n",
       "      <td>0</td>\n",
       "      <td>0</td>\n",
       "      <td>0</td>\n",
       "      <td>0</td>\n",
       "      <td>0</td>\n",
       "    </tr>\n",
       "    <tr>\n",
       "      <th>1</th>\n",
       "      <td>2</td>\n",
       "      <td>31.42</td>\n",
       "      <td>31.42</td>\n",
       "      <td>31.42</td>\n",
       "      <td>31.42</td>\n",
       "      <td>31.42</td>\n",
       "      <td>31.42</td>\n",
       "      <td>31.42</td>\n",
       "      <td>31.42</td>\n",
       "      <td>31.42</td>\n",
       "      <td>...</td>\n",
       "      <td>1</td>\n",
       "      <td>1</td>\n",
       "      <td>1</td>\n",
       "      <td>1</td>\n",
       "      <td>0</td>\n",
       "      <td>0</td>\n",
       "      <td>0</td>\n",
       "      <td>0</td>\n",
       "      <td>0</td>\n",
       "      <td>0</td>\n",
       "    </tr>\n",
       "    <tr>\n",
       "      <th>2</th>\n",
       "      <td>3</td>\n",
       "      <td>178.49</td>\n",
       "      <td>178.49</td>\n",
       "      <td>178.49</td>\n",
       "      <td>178.49</td>\n",
       "      <td>178.49</td>\n",
       "      <td>178.49</td>\n",
       "      <td>178.49</td>\n",
       "      <td>178.49</td>\n",
       "      <td>178.49</td>\n",
       "      <td>...</td>\n",
       "      <td>1</td>\n",
       "      <td>1</td>\n",
       "      <td>1</td>\n",
       "      <td>1</td>\n",
       "      <td>0</td>\n",
       "      <td>0</td>\n",
       "      <td>0</td>\n",
       "      <td>0</td>\n",
       "      <td>0</td>\n",
       "      <td>0</td>\n",
       "    </tr>\n",
       "    <tr>\n",
       "      <th>3</th>\n",
       "      <td>4</td>\n",
       "      <td>3.62</td>\n",
       "      <td>3.62</td>\n",
       "      <td>3.62</td>\n",
       "      <td>3.62</td>\n",
       "      <td>3.62</td>\n",
       "      <td>3.62</td>\n",
       "      <td>3.62</td>\n",
       "      <td>3.62</td>\n",
       "      <td>3.62</td>\n",
       "      <td>...</td>\n",
       "      <td>1</td>\n",
       "      <td>1</td>\n",
       "      <td>1</td>\n",
       "      <td>1</td>\n",
       "      <td>0</td>\n",
       "      <td>0</td>\n",
       "      <td>0</td>\n",
       "      <td>0</td>\n",
       "      <td>0</td>\n",
       "      <td>0</td>\n",
       "    </tr>\n",
       "    <tr>\n",
       "      <th>4</th>\n",
       "      <td>5</td>\n",
       "      <td>3.62</td>\n",
       "      <td>3.62</td>\n",
       "      <td>3.62</td>\n",
       "      <td>3.62</td>\n",
       "      <td>3.62</td>\n",
       "      <td>3.62</td>\n",
       "      <td>3.62</td>\n",
       "      <td>3.62</td>\n",
       "      <td>3.62</td>\n",
       "      <td>...</td>\n",
       "      <td>1</td>\n",
       "      <td>1</td>\n",
       "      <td>1</td>\n",
       "      <td>1</td>\n",
       "      <td>0</td>\n",
       "      <td>0</td>\n",
       "      <td>0</td>\n",
       "      <td>0</td>\n",
       "      <td>0</td>\n",
       "      <td>0</td>\n",
       "    </tr>\n",
       "  </tbody>\n",
       "</table>\n",
       "<p>5 rows × 162 columns</p>\n",
       "</div>"
      ],
      "text/plain": [
       "   Recordnum  cardnum_amount_avg_30  cardnum_amount_avg_15  \\\n",
       "0          1                   3.62                   3.62   \n",
       "1          2                  31.42                  31.42   \n",
       "2          3                 178.49                 178.49   \n",
       "3          4                   3.62                   3.62   \n",
       "4          5                   3.62                   3.62   \n",
       "\n",
       "   cardnum_amount_avg_7  cardnum_amount_avg_3  cardnum_amount_avg_1  \\\n",
       "0                  3.62                  3.62                  3.62   \n",
       "1                 31.42                 31.42                 31.42   \n",
       "2                178.49                178.49                178.49   \n",
       "3                  3.62                  3.62                  3.62   \n",
       "4                  3.62                  3.62                  3.62   \n",
       "\n",
       "   cardnum_amount_max_30  cardnum_amount_max_15  cardnum_amount_max_7  \\\n",
       "0                   3.62                   3.62                  3.62   \n",
       "1                  31.42                  31.42                 31.42   \n",
       "2                 178.49                 178.49                178.49   \n",
       "3                   3.62                   3.62                  3.62   \n",
       "4                   3.62                   3.62                  3.62   \n",
       "\n",
       "   cardnum_amount_max_3  ...    merchantnum_state_15  merchantnum_state_7  \\\n",
       "0                  3.62  ...                       1                    1   \n",
       "1                 31.42  ...                       1                    1   \n",
       "2                178.49  ...                       1                    1   \n",
       "3                  3.62  ...                       1                    1   \n",
       "4                  3.62  ...                       1                    1   \n",
       "\n",
       "   merchantnum_state_3  merchantnum_state_1  merchantnum_state_isna_30  \\\n",
       "0                    1                    1                          0   \n",
       "1                    1                    1                          0   \n",
       "2                    1                    1                          0   \n",
       "3                    1                    1                          0   \n",
       "4                    1                    1                          0   \n",
       "\n",
       "   merchantnum_state_isna_15  merchantnum_state_isna_7  \\\n",
       "0                          0                         0   \n",
       "1                          0                         0   \n",
       "2                          0                         0   \n",
       "3                          0                         0   \n",
       "4                          0                         0   \n",
       "\n",
       "   merchantnum_state_isna_3  merchantnum_state_isna_1  Fraud  \n",
       "0                         0                         0      0  \n",
       "1                         0                         0      0  \n",
       "2                         0                         0      0  \n",
       "3                         0                         0      0  \n",
       "4                         0                         0      0  \n",
       "\n",
       "[5 rows x 162 columns]"
      ]
     },
     "execution_count": 6,
     "metadata": {},
     "output_type": "execute_result"
    }
   ],
   "source": [
    "data.head()"
   ]
  },
  {
   "cell_type": "code",
   "execution_count": 7,
   "metadata": {},
   "outputs": [
    {
     "data": {
      "text/plain": [
       "(12586, 162)"
      ]
     },
     "execution_count": 7,
     "metadata": {},
     "output_type": "execute_result"
    }
   ],
   "source": [
    "ofd.shape"
   ]
  },
  {
   "cell_type": "code",
   "execution_count": 8,
   "metadata": {},
   "outputs": [],
   "source": [
    "data_40 = pd.concat([data.loc[:,feature_40],data['Fraud']],axis=1)\n",
    "ofd_40 = pd.concat([ofd.loc[:,feature_40],ofd['Fraud']],axis=1)"
   ]
  },
  {
   "cell_type": "code",
   "execution_count": 9,
   "metadata": {},
   "outputs": [
    {
     "data": {
      "text/html": [
       "<div>\n",
       "<style scoped>\n",
       "    .dataframe tbody tr th:only-of-type {\n",
       "        vertical-align: middle;\n",
       "    }\n",
       "\n",
       "    .dataframe tbody tr th {\n",
       "        vertical-align: top;\n",
       "    }\n",
       "\n",
       "    .dataframe thead th {\n",
       "        text-align: right;\n",
       "    }\n",
       "</style>\n",
       "<table border=\"1\" class=\"dataframe\">\n",
       "  <thead>\n",
       "    <tr style=\"text-align: right;\">\n",
       "      <th></th>\n",
       "      <th>cardnum_amount_sum_7</th>\n",
       "      <th>merchantnum_amount_week_diff_sum_3</th>\n",
       "      <th>merchantnum_amount_sum_3</th>\n",
       "      <th>merchantnum_amount_sum_7</th>\n",
       "      <th>merchantnum_amount_week_diff_max_1</th>\n",
       "      <th>merchantnum_amount_month_diff_sum_3</th>\n",
       "      <th>merchantnum_amount_max_1</th>\n",
       "      <th>merchantnum_amount_month_diff_max_1</th>\n",
       "      <th>merchantnum_amount_week_diff_sum_1</th>\n",
       "      <th>cardnum_amount_week_diff_sum_3</th>\n",
       "      <th>...</th>\n",
       "      <th>cardnum_state_15</th>\n",
       "      <th>newmerch_7</th>\n",
       "      <th>newmerch_1</th>\n",
       "      <th>merchantnum_cardnum_3</th>\n",
       "      <th>newmerch_3</th>\n",
       "      <th>cardnum_merchantnum_15</th>\n",
       "      <th>cardnum_merchantnum_30</th>\n",
       "      <th>cardnum_zip_30</th>\n",
       "      <th>cardnum_zip_7</th>\n",
       "      <th>Fraud</th>\n",
       "    </tr>\n",
       "  </thead>\n",
       "  <tbody>\n",
       "    <tr>\n",
       "      <th>0</th>\n",
       "      <td>3.62</td>\n",
       "      <td>-364.485464</td>\n",
       "      <td>3.62</td>\n",
       "      <td>3.62</td>\n",
       "      <td>-364.485464</td>\n",
       "      <td>-349.932108</td>\n",
       "      <td>3.62</td>\n",
       "      <td>-349.932108</td>\n",
       "      <td>-364.485464</td>\n",
       "      <td>-364.485464</td>\n",
       "      <td>...</td>\n",
       "      <td>1</td>\n",
       "      <td>1</td>\n",
       "      <td>1</td>\n",
       "      <td>1</td>\n",
       "      <td>1</td>\n",
       "      <td>1</td>\n",
       "      <td>1</td>\n",
       "      <td>1</td>\n",
       "      <td>1</td>\n",
       "      <td>0</td>\n",
       "    </tr>\n",
       "    <tr>\n",
       "      <th>1</th>\n",
       "      <td>31.42</td>\n",
       "      <td>-336.685464</td>\n",
       "      <td>31.42</td>\n",
       "      <td>31.42</td>\n",
       "      <td>-336.685464</td>\n",
       "      <td>-322.132108</td>\n",
       "      <td>31.42</td>\n",
       "      <td>-322.132108</td>\n",
       "      <td>-336.685464</td>\n",
       "      <td>-336.685464</td>\n",
       "      <td>...</td>\n",
       "      <td>1</td>\n",
       "      <td>1</td>\n",
       "      <td>1</td>\n",
       "      <td>1</td>\n",
       "      <td>1</td>\n",
       "      <td>1</td>\n",
       "      <td>1</td>\n",
       "      <td>1</td>\n",
       "      <td>1</td>\n",
       "      <td>0</td>\n",
       "    </tr>\n",
       "    <tr>\n",
       "      <th>2</th>\n",
       "      <td>178.49</td>\n",
       "      <td>-189.615464</td>\n",
       "      <td>178.49</td>\n",
       "      <td>178.49</td>\n",
       "      <td>-189.615464</td>\n",
       "      <td>-175.062108</td>\n",
       "      <td>178.49</td>\n",
       "      <td>-175.062108</td>\n",
       "      <td>-189.615464</td>\n",
       "      <td>-189.615464</td>\n",
       "      <td>...</td>\n",
       "      <td>1</td>\n",
       "      <td>1</td>\n",
       "      <td>1</td>\n",
       "      <td>1</td>\n",
       "      <td>1</td>\n",
       "      <td>1</td>\n",
       "      <td>1</td>\n",
       "      <td>1</td>\n",
       "      <td>1</td>\n",
       "      <td>0</td>\n",
       "    </tr>\n",
       "    <tr>\n",
       "      <th>3</th>\n",
       "      <td>3.62</td>\n",
       "      <td>-728.970927</td>\n",
       "      <td>7.24</td>\n",
       "      <td>7.24</td>\n",
       "      <td>-364.485464</td>\n",
       "      <td>-699.864216</td>\n",
       "      <td>3.62</td>\n",
       "      <td>-349.932108</td>\n",
       "      <td>-728.970927</td>\n",
       "      <td>-364.485464</td>\n",
       "      <td>...</td>\n",
       "      <td>1</td>\n",
       "      <td>0</td>\n",
       "      <td>0</td>\n",
       "      <td>2</td>\n",
       "      <td>0</td>\n",
       "      <td>1</td>\n",
       "      <td>1</td>\n",
       "      <td>1</td>\n",
       "      <td>1</td>\n",
       "      <td>0</td>\n",
       "    </tr>\n",
       "    <tr>\n",
       "      <th>4</th>\n",
       "      <td>7.24</td>\n",
       "      <td>-1093.456391</td>\n",
       "      <td>10.86</td>\n",
       "      <td>10.86</td>\n",
       "      <td>-364.485464</td>\n",
       "      <td>-1049.796324</td>\n",
       "      <td>3.62</td>\n",
       "      <td>-349.932108</td>\n",
       "      <td>-1093.456391</td>\n",
       "      <td>-728.970927</td>\n",
       "      <td>...</td>\n",
       "      <td>1</td>\n",
       "      <td>1</td>\n",
       "      <td>1</td>\n",
       "      <td>2</td>\n",
       "      <td>1</td>\n",
       "      <td>1</td>\n",
       "      <td>1</td>\n",
       "      <td>1</td>\n",
       "      <td>1</td>\n",
       "      <td>0</td>\n",
       "    </tr>\n",
       "  </tbody>\n",
       "</table>\n",
       "<p>5 rows × 41 columns</p>\n",
       "</div>"
      ],
      "text/plain": [
       "   cardnum_amount_sum_7  merchantnum_amount_week_diff_sum_3  \\\n",
       "0                  3.62                         -364.485464   \n",
       "1                 31.42                         -336.685464   \n",
       "2                178.49                         -189.615464   \n",
       "3                  3.62                         -728.970927   \n",
       "4                  7.24                        -1093.456391   \n",
       "\n",
       "   merchantnum_amount_sum_3  merchantnum_amount_sum_7  \\\n",
       "0                      3.62                      3.62   \n",
       "1                     31.42                     31.42   \n",
       "2                    178.49                    178.49   \n",
       "3                      7.24                      7.24   \n",
       "4                     10.86                     10.86   \n",
       "\n",
       "   merchantnum_amount_week_diff_max_1  merchantnum_amount_month_diff_sum_3  \\\n",
       "0                         -364.485464                          -349.932108   \n",
       "1                         -336.685464                          -322.132108   \n",
       "2                         -189.615464                          -175.062108   \n",
       "3                         -364.485464                          -699.864216   \n",
       "4                         -364.485464                         -1049.796324   \n",
       "\n",
       "   merchantnum_amount_max_1  merchantnum_amount_month_diff_max_1  \\\n",
       "0                      3.62                          -349.932108   \n",
       "1                     31.42                          -322.132108   \n",
       "2                    178.49                          -175.062108   \n",
       "3                      3.62                          -349.932108   \n",
       "4                      3.62                          -349.932108   \n",
       "\n",
       "   merchantnum_amount_week_diff_sum_1  cardnum_amount_week_diff_sum_3  ...    \\\n",
       "0                         -364.485464                     -364.485464  ...     \n",
       "1                         -336.685464                     -336.685464  ...     \n",
       "2                         -189.615464                     -189.615464  ...     \n",
       "3                         -728.970927                     -364.485464  ...     \n",
       "4                        -1093.456391                     -728.970927  ...     \n",
       "\n",
       "   cardnum_state_15  newmerch_7  newmerch_1  merchantnum_cardnum_3  \\\n",
       "0                 1           1           1                      1   \n",
       "1                 1           1           1                      1   \n",
       "2                 1           1           1                      1   \n",
       "3                 1           0           0                      2   \n",
       "4                 1           1           1                      2   \n",
       "\n",
       "   newmerch_3  cardnum_merchantnum_15  cardnum_merchantnum_30  cardnum_zip_30  \\\n",
       "0           1                       1                       1               1   \n",
       "1           1                       1                       1               1   \n",
       "2           1                       1                       1               1   \n",
       "3           0                       1                       1               1   \n",
       "4           1                       1                       1               1   \n",
       "\n",
       "   cardnum_zip_7  Fraud  \n",
       "0              1      0  \n",
       "1              1      0  \n",
       "2              1      0  \n",
       "3              1      0  \n",
       "4              1      0  \n",
       "\n",
       "[5 rows x 41 columns]"
      ]
     },
     "execution_count": 9,
     "metadata": {},
     "output_type": "execute_result"
    }
   ],
   "source": [
    "data_40.head()"
   ]
  },
  {
   "cell_type": "code",
   "execution_count": 10,
   "metadata": {},
   "outputs": [
    {
     "data": {
      "text/plain": [
       "(83767, 41)"
      ]
     },
     "execution_count": 10,
     "metadata": {},
     "output_type": "execute_result"
    }
   ],
   "source": [
    "data_40.shape"
   ]
  },
  {
   "cell_type": "code",
   "execution_count": 11,
   "metadata": {},
   "outputs": [
    {
     "data": {
      "text/plain": [
       "123.91568047337277"
      ]
     },
     "execution_count": 11,
     "metadata": {},
     "output_type": "execute_result"
    }
   ],
   "source": [
    "1/np.mean(data_40['Fraud'])"
   ]
  },
  {
   "cell_type": "code",
   "execution_count": 12,
   "metadata": {},
   "outputs": [],
   "source": [
    "x = data_40.iloc[:,:-1]\n",
    "y = data_40.iloc[:,-1]"
   ]
  },
  {
   "cell_type": "markdown",
   "metadata": {},
   "source": [
    "### here for measuring the performance of model (naive though) we do a train test split"
   ]
  },
  {
   "cell_type": "code",
   "execution_count": 88,
   "metadata": {},
   "outputs": [],
   "source": [
    "x_train, x_test, y_train, y_test = train_test_split(x, y, test_size=0.2, random_state=0)"
   ]
  },
  {
   "cell_type": "code",
   "execution_count": 89,
   "metadata": {},
   "outputs": [
    {
     "data": {
      "text/plain": [
       "(67013, 40)"
      ]
     },
     "execution_count": 89,
     "metadata": {},
     "output_type": "execute_result"
    }
   ],
   "source": [
    "x_train.shape"
   ]
  },
  {
   "cell_type": "code",
   "execution_count": 91,
   "metadata": {},
   "outputs": [
    {
     "data": {
      "text/plain": [
       "(16754, 40)"
      ]
     },
     "execution_count": 91,
     "metadata": {},
     "output_type": "execute_result"
    }
   ],
   "source": [
    "x_test.shape"
   ]
  },
  {
   "cell_type": "markdown",
   "metadata": {},
   "source": [
    "## 1. random forest"
   ]
  },
  {
   "cell_type": "markdown",
   "metadata": {},
   "source": [
    "### The main hypothesis I wanna test here is whether balanced data performed better (given this highly imbalanced fraud dataset)"
   ]
  },
  {
   "cell_type": "code",
   "execution_count": 93,
   "metadata": {},
   "outputs": [
    {
     "data": {
      "text/plain": [
       "RandomForestClassifier(bootstrap=True, class_weight='balanced',\n",
       "            criterion='gini', max_depth=None, max_features='auto',\n",
       "            max_leaf_nodes=None, min_impurity_decrease=0.0,\n",
       "            min_impurity_split=None, min_samples_leaf=1,\n",
       "            min_samples_split=2, min_weight_fraction_leaf=0.0,\n",
       "            n_estimators=100, n_jobs=1, oob_score=False, random_state=0,\n",
       "            verbose=0, warm_start=False)"
      ]
     },
     "execution_count": 93,
     "metadata": {},
     "output_type": "execute_result"
    }
   ],
   "source": [
    "rf = RandomForestClassifier(class_weight = 'balanced',random_state=0,n_estimators=100)\n",
    "rf.fit(x_train, y_train)"
   ]
  },
  {
   "cell_type": "code",
   "execution_count": 94,
   "metadata": {},
   "outputs": [
    {
     "data": {
      "text/plain": [
       "RandomForestClassifier(bootstrap=True, class_weight=None, criterion='gini',\n",
       "            max_depth=None, max_features='auto', max_leaf_nodes=None,\n",
       "            min_impurity_decrease=0.0, min_impurity_split=None,\n",
       "            min_samples_leaf=1, min_samples_split=2,\n",
       "            min_weight_fraction_leaf=0.0, n_estimators=100, n_jobs=1,\n",
       "            oob_score=False, random_state=0, verbose=0, warm_start=False)"
      ]
     },
     "execution_count": 94,
     "metadata": {},
     "output_type": "execute_result"
    }
   ],
   "source": [
    "rf_2 = RandomForestClassifier(random_state=0,n_estimators=100)\n",
    "rf_2.fit(x_train, y_train)"
   ]
  },
  {
   "cell_type": "code",
   "execution_count": 99,
   "metadata": {},
   "outputs": [
    {
     "name": "stdout",
     "output_type": "stream",
     "text": [
      "             precision    recall  f1-score   support\n",
      "\n",
      "          0       1.00      1.00      1.00     16620\n",
      "          1       0.99      0.49      0.66       134\n",
      "\n",
      "avg / total       1.00      1.00      1.00     16754\n",
      "\n"
     ]
    }
   ],
   "source": [
    "predicted = rf.predict(x_test)\n",
    "print(metrics.classification_report(y_test, predicted,target_names = ['0','1']))"
   ]
  },
  {
   "cell_type": "code",
   "execution_count": 100,
   "metadata": {},
   "outputs": [
    {
     "name": "stdout",
     "output_type": "stream",
     "text": [
      "             precision    recall  f1-score   support\n",
      "\n",
      "          0       1.00      1.00      1.00     16620\n",
      "          1       0.97      0.55      0.70       134\n",
      "\n",
      "avg / total       1.00      1.00      1.00     16754\n",
      "\n"
     ]
    }
   ],
   "source": [
    "predicted = rf_2.predict(x_test)\n",
    "print(metrics.classification_report(y_test, predicted,target_names = ['0','1']))"
   ]
  },
  {
   "cell_type": "markdown",
   "metadata": {},
   "source": [
    "### from the performance matrics above, we can discover that surprisingly random forest performs better if the data is not balanced (by artificially given weight)\n",
    "\n",
    "### below I list the feature importances"
   ]
  },
  {
   "cell_type": "code",
   "execution_count": 106,
   "metadata": {},
   "outputs": [
    {
     "data": {
      "image/png": "[encoded data removed]",
      "text/plain": [
       "<matplotlib.figure.Figure at 0x11086bdd8>"
      ]
     },
     "metadata": {},
     "output_type": "display_data"
    }
   ],
   "source": [
    "plt.bar(range(x_train.shape[1]), rf.feature_importances_[np.argsort(rf.feature_importances_)[::-1]])\n",
    "plt.title('feature importance distribution - balanced rf')\n",
    "plt.show()"
   ]
  },
  {
   "cell_type": "code",
   "execution_count": 117,
   "metadata": {},
   "outputs": [
    {
     "data": {
      "text/plain": [
       "Index(['merchantnum_amount_sum_3', 'cardnum_amount_sum_3',\n",
       "       'cardnum_amount_sum_7', 'merchantnum_amount_sum_7',\n",
       "       'merchantnum_amount_week_diff_sum_3',\n",
       "       'merchantnum_amount_month_diff_sum_3',\n",
       "       'merchantnum_amount_week_diff_sum_1',\n",
       "       'merchantnum_amount_week_diff_max_1', 'cardnum_amount_week_diff_sum_3',\n",
       "       'merchantnum_amount_max_1', 'merchantnum_amount_month_diff_max_3',\n",
       "       'merchantnum_amount_month_diff_max_1', 'merchantnum_amount_sum_1',\n",
       "       'cardnum_amount_month_diff_sum_7', 'newmerch_30', 'cardnum_state_30',\n",
       "       'merchantnum_amount_max_3', 'cardnum_amount_week_diff_sum_7',\n",
       "       'merchantnum_amount_month_diff_sum_1',\n",
       "       'cardnum_amount_month_diff_sum_3'],\n",
       "      dtype='object')"
      ]
     },
     "execution_count": 117,
     "metadata": {},
     "output_type": "execute_result"
    }
   ],
   "source": [
    "x_train.columns[np.argsort(rf.feature_importances_)[::-1]][:20]"
   ]
  },
  {
   "cell_type": "code",
   "execution_count": 107,
   "metadata": {},
   "outputs": [
    {
     "data": {
      "image/png": "[encoded data removed]",
      "text/plain": [
       "<matplotlib.figure.Figure at 0x115c02ba8>"
      ]
     },
     "metadata": {},
     "output_type": "display_data"
    }
   ],
   "source": [
    "plt.bar(range(x_train.shape[1]), rf_2.feature_importances_[np.argsort(rf_2.feature_importances_)[::-1]])\n",
    "plt.title('feature importance distribution - imbalanced rf')\n",
    "plt.show()"
   ]
  },
  {
   "cell_type": "code",
   "execution_count": 119,
   "metadata": {},
   "outputs": [
    {
     "data": {
      "text/plain": [
       "Index(['cardnum_amount_sum_3', 'cardnum_amount_week_diff_sum_3',\n",
       "       'merchantnum_amount_sum_3', 'cardnum_amount_month_diff_sum_3',\n",
       "       'cardnum_amount_sum_7', 'cardnum_amount_week_diff_max_3',\n",
       "       'merchantnum_amount_week_diff_sum_3',\n",
       "       'merchantnum_amount_month_diff_sum_3', 'cardnum_amount_week_diff_sum_1',\n",
       "       'merchantnum_amount_max_3', 'cardnum_amount_month_diff_max_3',\n",
       "       'cardnum_amount_max_3', 'merchantnum_amount_week_diff_max_3',\n",
       "       'merchantnum_amount_month_diff_max_3',\n",
       "       'merchantnum_amount_month_diff_sum_7', 'cardnum_merchantnum_30',\n",
       "       'cardnum_amount_week_diff_max_1', 'merchantnum_amount_sum_7',\n",
       "       'merchantnum_amount_week_diff_max_1',\n",
       "       'cardnum_amount_month_diff_sum_7'],\n",
       "      dtype='object')"
      ]
     },
     "execution_count": 119,
     "metadata": {},
     "output_type": "execute_result"
    }
   ],
   "source": [
    "x_train.columns[np.argsort(rf_2.feature_importances_)[::-1]][:20]"
   ]
  },
  {
   "cell_type": "markdown",
   "metadata": {},
   "source": [
    "### Since imbalanced rf performed better on valiadation set, we will use the variables suggested by it"
   ]
  },
  {
   "cell_type": "code",
   "execution_count": 120,
   "metadata": {},
   "outputs": [],
   "source": [
    "v_rf = list(x_train.columns[np.argsort(rf_2.feature_importances_)[::-1]][:20])"
   ]
  },
  {
   "cell_type": "markdown",
   "metadata": {},
   "source": [
    "## 2. logistic regression"
   ]
  },
  {
   "cell_type": "markdown",
   "metadata": {},
   "source": [
    "### Again I wanna test if imbalanced data performed better (little bit counter intuitive)"
   ]
  },
  {
   "cell_type": "code",
   "execution_count": 110,
   "metadata": {},
   "outputs": [
    {
     "data": {
      "text/plain": [
       "RandomForestClassifier(bootstrap=True, class_weight='balanced',\n",
       "            criterion='gini', max_depth=None, max_features='auto',\n",
       "            max_leaf_nodes=None, min_impurity_decrease=0.0,\n",
       "            min_impurity_split=None, min_samples_leaf=1,\n",
       "            min_samples_split=2, min_weight_fraction_leaf=0.0,\n",
       "            n_estimators=10, n_jobs=1, oob_score=False, random_state=0,\n",
       "            verbose=0, warm_start=False)"
      ]
     },
     "execution_count": 110,
     "metadata": {},
     "output_type": "execute_result"
    }
   ],
   "source": [
    "lr = RandomForestClassifier(class_weight = 'balanced',random_state=0)\n",
    "lr.fit(x_train, y_train)"
   ]
  },
  {
   "cell_type": "code",
   "execution_count": 111,
   "metadata": {},
   "outputs": [
    {
     "data": {
      "text/plain": [
       "RandomForestClassifier(bootstrap=True, class_weight=None, criterion='gini',\n",
       "            max_depth=None, max_features='auto', max_leaf_nodes=None,\n",
       "            min_impurity_decrease=0.0, min_impurity_split=None,\n",
       "            min_samples_leaf=1, min_samples_split=2,\n",
       "            min_weight_fraction_leaf=0.0, n_estimators=10, n_jobs=1,\n",
       "            oob_score=False, random_state=0, verbose=0, warm_start=False)"
      ]
     },
     "execution_count": 111,
     "metadata": {},
     "output_type": "execute_result"
    }
   ],
   "source": [
    "lr_2 = RandomForestClassifier(random_state=0)\n",
    "lr_2.fit(x_train, y_train)"
   ]
  },
  {
   "cell_type": "code",
   "execution_count": 112,
   "metadata": {},
   "outputs": [
    {
     "name": "stdout",
     "output_type": "stream",
     "text": [
      "             precision    recall  f1-score   support\n",
      "\n",
      "          0       1.00      1.00      1.00     16620\n",
      "          1       1.00      0.46      0.63       134\n",
      "\n",
      "avg / total       1.00      1.00      0.99     16754\n",
      "\n"
     ]
    }
   ],
   "source": [
    "predicted = lr.predict(x_test)\n",
    "print(metrics.classification_report(y_test, predicted,target_names = ['0','1']))"
   ]
  },
  {
   "cell_type": "code",
   "execution_count": 113,
   "metadata": {},
   "outputs": [
    {
     "name": "stdout",
     "output_type": "stream",
     "text": [
      "             precision    recall  f1-score   support\n",
      "\n",
      "          0       1.00      1.00      1.00     16620\n",
      "          1       0.96      0.49      0.65       134\n",
      "\n",
      "avg / total       1.00      1.00      1.00     16754\n",
      "\n"
     ]
    }
   ],
   "source": [
    "predicted = lr_2.predict(x_test)\n",
    "print(metrics.classification_report(y_test, predicted,target_names = ['0','1']))"
   ]
  },
  {
   "cell_type": "markdown",
   "metadata": {},
   "source": [
    "### counter intuitive as it is, we can't argue with data... imbalanced data do perform better (or at least not worse if we assume this phenomenon was caused by random_state)"
   ]
  },
  {
   "cell_type": "code",
   "execution_count": 121,
   "metadata": {},
   "outputs": [
    {
     "data": {
      "image/png": "[encoded data removed]",
      "text/plain": [
       "<matplotlib.figure.Figure at 0x118f79390>"
      ]
     },
     "metadata": {},
     "output_type": "display_data"
    }
   ],
   "source": [
    "plt.bar(range(x_train.shape[1]), lr.feature_importances_[np.argsort(lr.feature_importances_)[::-1]])\n",
    "plt.title('feature importance distribution - balanced lr')\n",
    "plt.show()"
   ]
  },
  {
   "cell_type": "code",
   "execution_count": 122,
   "metadata": {},
   "outputs": [
    {
     "data": {
      "text/plain": [
       "Index(['cardnum_amount_sum_7', 'merchantnum_amount_sum_7',\n",
       "       'merchantnum_amount_week_diff_max_1',\n",
       "       'merchantnum_amount_week_diff_sum_1',\n",
       "       'merchantnum_amount_week_diff_sum_3', 'merchantnum_amount_sum_1',\n",
       "       'merchantnum_amount_month_diff_sum_1',\n",
       "       'merchantnum_amount_month_diff_max_1', 'cardnum_amount_sum_3',\n",
       "       'merchantnum_amount_max_1', 'cardnum_amount_week_diff_sum_3',\n",
       "       'newmerch_30', 'merchantnum_amount_month_diff_max_3',\n",
       "       'cardnum_state_30', 'cardnum_amount_week_diff_sum_7',\n",
       "       'merchantnum_amount_sum_3', 'cardnum_amount_week_diff_max_3',\n",
       "       'merchantnum_amount_month_diff_sum_7',\n",
       "       'cardnum_amount_month_diff_sum_7', 'merchantnum_amount_avg_1'],\n",
       "      dtype='object')"
      ]
     },
     "execution_count": 122,
     "metadata": {},
     "output_type": "execute_result"
    }
   ],
   "source": [
    "x_train.columns[np.argsort(lr.feature_importances_)[::-1]][:20]"
   ]
  },
  {
   "cell_type": "code",
   "execution_count": 123,
   "metadata": {},
   "outputs": [
    {
     "data": {
      "image/png": "[encoded data removed]",
      "text/plain": [
       "<matplotlib.figure.Figure at 0x1153b5c50>"
      ]
     },
     "metadata": {},
     "output_type": "display_data"
    }
   ],
   "source": [
    "plt.bar(range(x_train.shape[1]), lr_2.feature_importances_[np.argsort(lr_2.feature_importances_)[::-1]])\n",
    "plt.title('feature importance distribution - imbalanced lr')\n",
    "plt.show()"
   ]
  },
  {
   "cell_type": "code",
   "execution_count": 124,
   "metadata": {},
   "outputs": [
    {
     "data": {
      "text/plain": [
       "Index(['cardnum_amount_sum_3', 'cardnum_amount_week_diff_sum_3',\n",
       "       'cardnum_amount_week_diff_sum_1', 'merchantnum_amount_week_diff_sum_3',\n",
       "       'cardnum_merchantnum_30', 'cardnum_amount_month_diff_max_3',\n",
       "       'merchantnum_amount_sum_3', 'cardnum_amount_month_diff_sum_3',\n",
       "       'merchantnum_amount_sum_7', 'cardnum_amount_sum_7',\n",
       "       'merchantnum_amount_max_3', 'merchantnum_amount_week_diff_sum_1',\n",
       "       'cardnum_amount_week_diff_max_3', 'merchantnum_amount_week_diff_max_3',\n",
       "       'cardnum_amount_max_3', 'merchantnum_amount_month_diff_max_3',\n",
       "       'merchantnum_amount_month_diff_sum_3', 'cardnum_zip_30',\n",
       "       'cardnum_merchantnum_15', 'merchantnum_amount_week_diff_max_1'],\n",
       "      dtype='object')"
      ]
     },
     "execution_count": 124,
     "metadata": {},
     "output_type": "execute_result"
    }
   ],
   "source": [
    "x_train.columns[np.argsort(lr_2.feature_importances_)[::-1]][:20]"
   ]
  },
  {
   "cell_type": "markdown",
   "metadata": {},
   "source": [
    "### suggested by data, we inclined to imbalanced data. There's one more thing to note that balanced data tend to give best variable higher importance..."
   ]
  },
  {
   "cell_type": "code",
   "execution_count": 125,
   "metadata": {},
   "outputs": [],
   "source": [
    "v_lr = list(x_train.columns[np.argsort(lr_2.feature_importances_)[::-1]][:20])"
   ]
  },
  {
   "cell_type": "markdown",
   "metadata": {},
   "source": [
    "## 3. manual selection"
   ]
  },
  {
   "cell_type": "markdown",
   "metadata": {},
   "source": [
    "### In this part I manually selected better performing variables in each hypothetical fraud signal "
   ]
  },
  {
   "cell_type": "code",
   "execution_count": 130,
   "metadata": {},
   "outputs": [
    {
     "data": {
      "text/plain": [
       "Index(['cardnum_amount_sum_3', 'cardnum_amount_week_diff_sum_3',\n",
       "       'merchantnum_amount_sum_3', 'cardnum_amount_month_diff_sum_3',\n",
       "       'cardnum_amount_sum_7', 'cardnum_amount_week_diff_max_3',\n",
       "       'merchantnum_amount_week_diff_sum_3',\n",
       "       'merchantnum_amount_month_diff_sum_3', 'cardnum_amount_week_diff_sum_1',\n",
       "       'merchantnum_amount_max_3', 'cardnum_amount_month_diff_max_3',\n",
       "       'cardnum_amount_max_3', 'merchantnum_amount_week_diff_max_3',\n",
       "       'merchantnum_amount_month_diff_max_3',\n",
       "       'merchantnum_amount_month_diff_sum_7', 'cardnum_merchantnum_30',\n",
       "       'cardnum_amount_week_diff_max_1', 'merchantnum_amount_sum_7',\n",
       "       'merchantnum_amount_week_diff_max_1', 'cardnum_amount_month_diff_sum_7',\n",
       "       'cardnum_zip_30', 'cardnum_amount_week_diff_sum_7',\n",
       "       'merchantnum_amount_avg_1', 'merchantnum_amount_month_diff_max_1',\n",
       "       'merchantnum_amount_sum_1', 'merchantnum_amount_max_1',\n",
       "       'merchantnum_amount_month_diff_avg_1', 'cardnum_merchantnum_15',\n",
       "       'merchantnum_amount_month_diff_sum_1', 'newmerch_30',\n",
       "       'merchantnum_amount_week_diff_sum_1', 'cardnum_state_30',\n",
       "       'merchantnum_amount_week_diff_avg_1', 'cardnum_zip_7',\n",
       "       'cardnum_state_15', 'newmerch_15', 'merchantnum_cardnum_3',\n",
       "       'newmerch_7', 'newmerch_3', 'newmerch_1'],\n",
       "      dtype='object')"
      ]
     },
     "execution_count": 130,
     "metadata": {},
     "output_type": "execute_result"
    }
   ],
   "source": [
    "x_train.columns[np.argsort(rf_2.feature_importances_)[::-1]]"
   ]
  },
  {
   "cell_type": "code",
   "execution_count": 131,
   "metadata": {},
   "outputs": [],
   "source": [
    "v_m = [\n",
    "#abnormal amounts, from merchants\n",
    "'merchantnum_amount_sum_3','merchantnum_amount_week_diff_sum_3',\n",
    "#abnormal amounts, from cardnums\n",
    "'cardnum_amount_sum_3','cardnum_amount_week_diff_sum_3',\n",
    "#burst of unseen merchants -> Employee or merchant invents a fictitious merchant\n",
    "'newmerch_30', 'newmerch_15',\n",
    "#Burst of  merchants, by cardnums\n",
    "'cardnum_merchantnum_30','cardnum_merchantnum_15',\n",
    "#burst of different locations, by merchants  <---can't find, not a good hypothesis I guess\n",
    "\n",
    "#burst of different locations, by cardnums\n",
    "'cardnum_zip_30','cardnum_state_30'\n",
    "]"
   ]
  },
  {
   "cell_type": "markdown",
   "metadata": {},
   "source": [
    "## 4. output"
   ]
  },
  {
   "cell_type": "code",
   "execution_count": 134,
   "metadata": {},
   "outputs": [
    {
     "data": {
      "text/plain": [
       "(83767, 162)"
      ]
     },
     "execution_count": 134,
     "metadata": {},
     "output_type": "execute_result"
    }
   ],
   "source": [
    "data.shape"
   ]
  },
  {
   "cell_type": "code",
   "execution_count": 135,
   "metadata": {},
   "outputs": [
    {
     "data": {
      "text/plain": [
       "(12586, 162)"
      ]
     },
     "execution_count": 135,
     "metadata": {},
     "output_type": "execute_result"
    }
   ],
   "source": [
    "ofd.shape"
   ]
  },
  {
   "cell_type": "code",
   "execution_count": 136,
   "metadata": {},
   "outputs": [],
   "source": [
    "data_40 = pd.concat([data.loc[:,feature_40],data['Fraud']],axis=1)\n",
    "data_rf = pd.concat([data.loc[:,v_rf],data['Fraud']],axis=1)\n",
    "data_lr = pd.concat([data.loc[:,v_lr],data['Fraud']],axis=1)\n",
    "data_m =  pd.concat([data.loc[:,v_m],data['Fraud']],axis=1)\n",
    "ofd_40 = pd.concat([ofd.loc[:,feature_40],ofd['Fraud']],axis=1)\n",
    "ofd_rf = pd.concat([ofd.loc[:,v_rf],ofd['Fraud']],axis=1)\n",
    "ofd_lr = pd.concat([ofd.loc[:,v_lr],ofd['Fraud']],axis=1)\n",
    "ofd_m =  pd.concat([ofd.loc[:,v_m],ofd['Fraud']],axis=1)"
   ]
  },
  {
   "cell_type": "code",
   "execution_count": 139,
   "metadata": {},
   "outputs": [
    {
     "data": {
      "text/html": [
       "<div>\n",
       "<style scoped>\n",
       "    .dataframe tbody tr th:only-of-type {\n",
       "        vertical-align: middle;\n",
       "    }\n",
       "\n",
       "    .dataframe tbody tr th {\n",
       "        vertical-align: top;\n",
       "    }\n",
       "\n",
       "    .dataframe thead th {\n",
       "        text-align: right;\n",
       "    }\n",
       "</style>\n",
       "<table border=\"1\" class=\"dataframe\">\n",
       "  <thead>\n",
       "    <tr style=\"text-align: right;\">\n",
       "      <th></th>\n",
       "      <th>rows</th>\n",
       "      <th>columns</th>\n",
       "    </tr>\n",
       "  </thead>\n",
       "  <tbody>\n",
       "    <tr>\n",
       "      <th>data_40</th>\n",
       "      <td>83767</td>\n",
       "      <td>41</td>\n",
       "    </tr>\n",
       "    <tr>\n",
       "      <th>data_rf</th>\n",
       "      <td>83767</td>\n",
       "      <td>21</td>\n",
       "    </tr>\n",
       "    <tr>\n",
       "      <th>data_lr</th>\n",
       "      <td>83767</td>\n",
       "      <td>21</td>\n",
       "    </tr>\n",
       "    <tr>\n",
       "      <th>data_m</th>\n",
       "      <td>83767</td>\n",
       "      <td>11</td>\n",
       "    </tr>\n",
       "    <tr>\n",
       "      <th>ofd_40</th>\n",
       "      <td>12586</td>\n",
       "      <td>41</td>\n",
       "    </tr>\n",
       "    <tr>\n",
       "      <th>ofd_rf</th>\n",
       "      <td>12586</td>\n",
       "      <td>21</td>\n",
       "    </tr>\n",
       "    <tr>\n",
       "      <th>ofd_lr</th>\n",
       "      <td>12586</td>\n",
       "      <td>21</td>\n",
       "    </tr>\n",
       "    <tr>\n",
       "      <th>ofd_m</th>\n",
       "      <td>12586</td>\n",
       "      <td>11</td>\n",
       "    </tr>\n",
       "  </tbody>\n",
       "</table>\n",
       "</div>"
      ],
      "text/plain": [
       "          rows  columns\n",
       "data_40  83767       41\n",
       "data_rf  83767       21\n",
       "data_lr  83767       21\n",
       "data_m   83767       11\n",
       "ofd_40   12586       41\n",
       "ofd_rf   12586       21\n",
       "ofd_lr   12586       21\n",
       "ofd_m    12586       11"
      ]
     },
     "execution_count": 139,
     "metadata": {},
     "output_type": "execute_result"
    }
   ],
   "source": [
    "pd.DataFrame([data_40.shape,data_rf.shape,data_lr.shape,data_m.shape,\n",
    "             ofd_40.shape,ofd_rf.shape,ofd_lr.shape,ofd_m.shape],\n",
    "            columns = ['rows','columns'],\n",
    "             index=['data_40','data_rf','data_lr','data_m',\n",
    "                   'ofd_40','ofd_rf','ofd_lr','ofd_m'])"
   ]
  },
  {
   "cell_type": "code",
   "execution_count": 140,
   "metadata": {},
   "outputs": [],
   "source": [
    "data_40.to_csv('train_40.csv')\n",
    "data_rf.to_csv('train_rf.csv')\n",
    "data_lr.to_csv('train_lr.csv')\n",
    "data_m.to_csv('train_m.csv')\n",
    "ofd_40.to_csv('out_of_date_40.csv')\n",
    "ofd_rf.to_csv('out_of_date_rf.csv')\n",
    "ofd_lr.to_csv('out_of_date_lr.csv')\n",
    "ofd_m.to_csv('out_of_date_m.csv')"
   ]
  },
  {
   "cell_type": "code",
   "execution_count": null,
   "metadata": {},
   "outputs": [],
   "source": []
  }
 ],
 "metadata": {
  "kernelspec": {
   "display_name": "Python 3",
   "language": "python",
   "name": "python3"
  },
  "language_info": {
   "codemirror_mode": {
    "name": "ipython",
    "version": 3
   },
   "file_extension": ".py",
   "mimetype": "text/x-python",
   "name": "python",
   "nbconvert_exporter": "python",
   "pygments_lexer": "ipython3",
   "version": "3.6.3"
  }
 },
 "nbformat": 4,
 "nbformat_minor": 2
}
