{
 "cells": [
  {
   "cell_type": "code",
   "execution_count": null,
   "metadata": {},
   "outputs": [],
   "source": [
    "#http://scikit-learn.org/stable/auto_examples/linear_model/plot_lasso_model_selection.html\n",
    "#http://scikit-learn.org/stable/modules/generated/sklearn.linear_model.LassoLarsIC.html#sklearn.linear_model.LassoLarsIC\n",
    "#http://scikit-learn.org/stable/modules/feature_selection.html#l1-based-feature-selection\n",
    "#http://scikit-learn.org/stable/modules/generated/sklearn.feature_selection.SelectFromModel.html#sklearn.feature_selection.SelectFromModel"
   ]
  },
  {
   "cell_type": "markdown",
   "metadata": {},
   "source": [
    "## stepwise feature selection in python"
   ]
  },
  {
   "cell_type": "code",
   "execution_count": 72,
   "metadata": {},
   "outputs": [],
   "source": [
    "import pandas as pd\n",
    "import numpy as np\n",
    "import os,time\n",
    "from sklearn.linear_model import LassoLarsIC#,ElasticNetCV\n",
    "from sklearn.feature_selection import SelectFromModel"
   ]
  },
  {
   "cell_type": "code",
   "execution_count": 2,
   "metadata": {},
   "outputs": [],
   "source": [
    "path = os.getcwd()+'/'"
   ]
  },
  {
   "cell_type": "code",
   "execution_count": 3,
   "metadata": {},
   "outputs": [],
   "source": [
    "data = pd.read_csv(path+'train_40.csv')\n",
    "ofd = pd.read_csv(path+'out_of_date_40.csv')"
   ]
  },
  {
   "cell_type": "code",
   "execution_count": 6,
   "metadata": {},
   "outputs": [
    {
     "data": {
      "text/html": [
       "<div>\n",
       "<style scoped>\n",
       "    .dataframe tbody tr th:only-of-type {\n",
       "        vertical-align: middle;\n",
       "    }\n",
       "\n",
       "    .dataframe tbody tr th {\n",
       "        vertical-align: top;\n",
       "    }\n",
       "\n",
       "    .dataframe thead th {\n",
       "        text-align: right;\n",
       "    }\n",
       "</style>\n",
       "<table border=\"1\" class=\"dataframe\">\n",
       "  <thead>\n",
       "    <tr style=\"text-align: right;\">\n",
       "      <th></th>\n",
       "      <th>Unnamed: 0</th>\n",
       "      <th>cardnum_amount_sum_7</th>\n",
       "      <th>merchantnum_amount_week_diff_sum_3</th>\n",
       "      <th>merchantnum_amount_sum_3</th>\n",
       "      <th>merchantnum_amount_sum_7</th>\n",
       "      <th>merchantnum_amount_week_diff_max_1</th>\n",
       "      <th>merchantnum_amount_month_diff_sum_3</th>\n",
       "      <th>merchantnum_amount_max_1</th>\n",
       "      <th>merchantnum_amount_month_diff_max_1</th>\n",
       "      <th>merchantnum_amount_week_diff_sum_1</th>\n",
       "      <th>...</th>\n",
       "      <th>cardnum_state_15</th>\n",
       "      <th>newmerch_7</th>\n",
       "      <th>newmerch_1</th>\n",
       "      <th>merchantnum_cardnum_3</th>\n",
       "      <th>newmerch_3</th>\n",
       "      <th>cardnum_merchantnum_15</th>\n",
       "      <th>cardnum_merchantnum_30</th>\n",
       "      <th>cardnum_zip_30</th>\n",
       "      <th>cardnum_zip_7</th>\n",
       "      <th>Fraud</th>\n",
       "    </tr>\n",
       "  </thead>\n",
       "  <tbody>\n",
       "    <tr>\n",
       "      <th>0</th>\n",
       "      <td>0</td>\n",
       "      <td>3.62</td>\n",
       "      <td>-364.485464</td>\n",
       "      <td>3.62</td>\n",
       "      <td>3.62</td>\n",
       "      <td>-364.485464</td>\n",
       "      <td>-349.932108</td>\n",
       "      <td>3.62</td>\n",
       "      <td>-349.932108</td>\n",
       "      <td>-364.485464</td>\n",
       "      <td>...</td>\n",
       "      <td>1</td>\n",
       "      <td>1</td>\n",
       "      <td>1</td>\n",
       "      <td>1</td>\n",
       "      <td>1</td>\n",
       "      <td>1</td>\n",
       "      <td>1</td>\n",
       "      <td>1</td>\n",
       "      <td>1</td>\n",
       "      <td>0</td>\n",
       "    </tr>\n",
       "    <tr>\n",
       "      <th>1</th>\n",
       "      <td>1</td>\n",
       "      <td>31.42</td>\n",
       "      <td>-336.685464</td>\n",
       "      <td>31.42</td>\n",
       "      <td>31.42</td>\n",
       "      <td>-336.685464</td>\n",
       "      <td>-322.132108</td>\n",
       "      <td>31.42</td>\n",
       "      <td>-322.132108</td>\n",
       "      <td>-336.685464</td>\n",
       "      <td>...</td>\n",
       "      <td>1</td>\n",
       "      <td>1</td>\n",
       "      <td>1</td>\n",
       "      <td>1</td>\n",
       "      <td>1</td>\n",
       "      <td>1</td>\n",
       "      <td>1</td>\n",
       "      <td>1</td>\n",
       "      <td>1</td>\n",
       "      <td>0</td>\n",
       "    </tr>\n",
       "    <tr>\n",
       "      <th>2</th>\n",
       "      <td>2</td>\n",
       "      <td>178.49</td>\n",
       "      <td>-189.615464</td>\n",
       "      <td>178.49</td>\n",
       "      <td>178.49</td>\n",
       "      <td>-189.615464</td>\n",
       "      <td>-175.062108</td>\n",
       "      <td>178.49</td>\n",
       "      <td>-175.062108</td>\n",
       "      <td>-189.615464</td>\n",
       "      <td>...</td>\n",
       "      <td>1</td>\n",
       "      <td>1</td>\n",
       "      <td>1</td>\n",
       "      <td>1</td>\n",
       "      <td>1</td>\n",
       "      <td>1</td>\n",
       "      <td>1</td>\n",
       "      <td>1</td>\n",
       "      <td>1</td>\n",
       "      <td>0</td>\n",
       "    </tr>\n",
       "    <tr>\n",
       "      <th>3</th>\n",
       "      <td>3</td>\n",
       "      <td>3.62</td>\n",
       "      <td>-728.970927</td>\n",
       "      <td>7.24</td>\n",
       "      <td>7.24</td>\n",
       "      <td>-364.485464</td>\n",
       "      <td>-699.864216</td>\n",
       "      <td>3.62</td>\n",
       "      <td>-349.932108</td>\n",
       "      <td>-728.970927</td>\n",
       "      <td>...</td>\n",
       "      <td>1</td>\n",
       "      <td>0</td>\n",
       "      <td>0</td>\n",
       "      <td>2</td>\n",
       "      <td>0</td>\n",
       "      <td>1</td>\n",
       "      <td>1</td>\n",
       "      <td>1</td>\n",
       "      <td>1</td>\n",
       "      <td>0</td>\n",
       "    </tr>\n",
       "    <tr>\n",
       "      <th>4</th>\n",
       "      <td>4</td>\n",
       "      <td>7.24</td>\n",
       "      <td>-1093.456391</td>\n",
       "      <td>10.86</td>\n",
       "      <td>10.86</td>\n",
       "      <td>-364.485464</td>\n",
       "      <td>-1049.796324</td>\n",
       "      <td>3.62</td>\n",
       "      <td>-349.932108</td>\n",
       "      <td>-1093.456391</td>\n",
       "      <td>...</td>\n",
       "      <td>1</td>\n",
       "      <td>1</td>\n",
       "      <td>1</td>\n",
       "      <td>2</td>\n",
       "      <td>1</td>\n",
       "      <td>1</td>\n",
       "      <td>1</td>\n",
       "      <td>1</td>\n",
       "      <td>1</td>\n",
       "      <td>0</td>\n",
       "    </tr>\n",
       "  </tbody>\n",
       "</table>\n",
       "<p>5 rows × 42 columns</p>\n",
       "</div>"
      ],
      "text/plain": [
       "   Unnamed: 0  cardnum_amount_sum_7  merchantnum_amount_week_diff_sum_3  \\\n",
       "0           0                  3.62                         -364.485464   \n",
       "1           1                 31.42                         -336.685464   \n",
       "2           2                178.49                         -189.615464   \n",
       "3           3                  3.62                         -728.970927   \n",
       "4           4                  7.24                        -1093.456391   \n",
       "\n",
       "   merchantnum_amount_sum_3  merchantnum_amount_sum_7  \\\n",
       "0                      3.62                      3.62   \n",
       "1                     31.42                     31.42   \n",
       "2                    178.49                    178.49   \n",
       "3                      7.24                      7.24   \n",
       "4                     10.86                     10.86   \n",
       "\n",
       "   merchantnum_amount_week_diff_max_1  merchantnum_amount_month_diff_sum_3  \\\n",
       "0                         -364.485464                          -349.932108   \n",
       "1                         -336.685464                          -322.132108   \n",
       "2                         -189.615464                          -175.062108   \n",
       "3                         -364.485464                          -699.864216   \n",
       "4                         -364.485464                         -1049.796324   \n",
       "\n",
       "   merchantnum_amount_max_1  merchantnum_amount_month_diff_max_1  \\\n",
       "0                      3.62                          -349.932108   \n",
       "1                     31.42                          -322.132108   \n",
       "2                    178.49                          -175.062108   \n",
       "3                      3.62                          -349.932108   \n",
       "4                      3.62                          -349.932108   \n",
       "\n",
       "   merchantnum_amount_week_diff_sum_1  ...    cardnum_state_15  newmerch_7  \\\n",
       "0                         -364.485464  ...                   1           1   \n",
       "1                         -336.685464  ...                   1           1   \n",
       "2                         -189.615464  ...                   1           1   \n",
       "3                         -728.970927  ...                   1           0   \n",
       "4                        -1093.456391  ...                   1           1   \n",
       "\n",
       "   newmerch_1  merchantnum_cardnum_3  newmerch_3  cardnum_merchantnum_15  \\\n",
       "0           1                      1           1                       1   \n",
       "1           1                      1           1                       1   \n",
       "2           1                      1           1                       1   \n",
       "3           0                      2           0                       1   \n",
       "4           1                      2           1                       1   \n",
       "\n",
       "   cardnum_merchantnum_30  cardnum_zip_30  cardnum_zip_7  Fraud  \n",
       "0                       1               1              1      0  \n",
       "1                       1               1              1      0  \n",
       "2                       1               1              1      0  \n",
       "3                       1               1              1      0  \n",
       "4                       1               1              1      0  \n",
       "\n",
       "[5 rows x 42 columns]"
      ]
     },
     "execution_count": 6,
     "metadata": {},
     "output_type": "execute_result"
    }
   ],
   "source": [
    "data.head()"
   ]
  },
  {
   "cell_type": "code",
   "execution_count": 7,
   "metadata": {},
   "outputs": [],
   "source": [
    "x = data.iloc[:,1:-1]\n",
    "y = data.iloc[:,-1]"
   ]
  },
  {
   "cell_type": "code",
   "execution_count": 16,
   "metadata": {},
   "outputs": [
    {
     "data": {
      "text/plain": [
       "(83767, 40)"
      ]
     },
     "execution_count": 16,
     "metadata": {},
     "output_type": "execute_result"
    }
   ],
   "source": [
    "x.shape"
   ]
  },
  {
   "cell_type": "code",
   "execution_count": 108,
   "metadata": {},
   "outputs": [],
   "source": [
    "# LassoLarsIC: least angle regression (Lars) with BIC/AIC criterion\n",
    "model_bic = LassoLarsIC(criterion='bic')\n",
    "model_aic = LassoLarsIC(criterion='aic')"
   ]
  },
  {
   "cell_type": "code",
   "execution_count": 109,
   "metadata": {},
   "outputs": [
    {
     "data": {
      "text/plain": [
       "LassoLarsIC(copy_X=True, criterion='bic', eps=2.220446049250313e-16,\n",
       "      fit_intercept=True, max_iter=500, normalize=True, positive=False,\n",
       "      precompute='auto', verbose=False)"
      ]
     },
     "execution_count": 109,
     "metadata": {},
     "output_type": "execute_result"
    }
   ],
   "source": [
    "model_bic.fit(x, y)  "
   ]
  },
  {
   "cell_type": "code",
   "execution_count": 110,
   "metadata": {},
   "outputs": [
    {
     "data": {
      "text/plain": [
       "LassoLarsIC(copy_X=True, criterion='aic', eps=2.220446049250313e-16,\n",
       "      fit_intercept=True, max_iter=500, normalize=True, positive=False,\n",
       "      precompute='auto', verbose=False)"
      ]
     },
     "execution_count": 110,
     "metadata": {},
     "output_type": "execute_result"
    }
   ],
   "source": [
    "model_aic.fit(x, y)"
   ]
  },
  {
   "cell_type": "code",
   "execution_count": 111,
   "metadata": {},
   "outputs": [
    {
     "data": {
      "text/plain": [
       "array([ 1.15083444e-06,  8.67554233e-08,  7.10485252e-06,  0.00000000e+00,\n",
       "        2.18096359e-05,  0.00000000e+00,  0.00000000e+00,  0.00000000e+00,\n",
       "        6.85330968e-08,  0.00000000e+00,  4.86132282e-06, -6.99002303e-06,\n",
       "       -8.91866500e-06,  0.00000000e+00,  0.00000000e+00, -2.11611818e-07,\n",
       "       -8.18199385e-06,  5.03099586e-08, -5.41653845e-06,  0.00000000e+00,\n",
       "        5.93675038e-07, -8.29016026e-07,  0.00000000e+00, -9.42477254e-07,\n",
       "        0.00000000e+00,  0.00000000e+00,  8.99758248e-09,  0.00000000e+00,\n",
       "       -1.64988401e-03,  0.00000000e+00, -1.82656367e-03, -1.64479210e-04,\n",
       "       -1.97077497e-03,  0.00000000e+00, -2.76143214e-05,  0.00000000e+00,\n",
       "        6.25751238e-04,  4.14783741e-04,  0.00000000e+00,  2.04198743e-04])"
      ]
     },
     "execution_count": 111,
     "metadata": {},
     "output_type": "execute_result"
    }
   ],
   "source": [
    "model_bic.coef_"
   ]
  },
  {
   "cell_type": "code",
   "execution_count": 112,
   "metadata": {},
   "outputs": [
    {
     "name": "stdout",
     "output_type": "stream",
     "text": [
      "1.5023773462418434e-07 1.0576307040167576e-07\n"
     ]
    }
   ],
   "source": [
    "#the larger alpha is, the fewer features selected\n",
    "print(model_bic.alpha_,model_aic.alpha_)"
   ]
  },
  {
   "cell_type": "code",
   "execution_count": 113,
   "metadata": {},
   "outputs": [
    {
     "data": {
      "text/plain": [
       "9"
      ]
     },
     "execution_count": 113,
     "metadata": {},
     "output_type": "execute_result"
    }
   ],
   "source": [
    "len(model_bic.coef_[abs(model_bic.coef_) >= 1e-5 ])"
   ]
  },
  {
   "cell_type": "code",
   "execution_count": 114,
   "metadata": {},
   "outputs": [
    {
     "data": {
      "text/plain": [
       "10"
      ]
     },
     "execution_count": 114,
     "metadata": {},
     "output_type": "execute_result"
    }
   ],
   "source": [
    "len(model_aic.coef_[abs(model_aic.coef_) >= 1e-5 ])"
   ]
  },
  {
   "cell_type": "code",
   "execution_count": 131,
   "metadata": {},
   "outputs": [],
   "source": [
    "bic_var = list(x.columns[abs(model_bic.coef_) >= 1e-5 ])\n",
    "bic_var.append('Fraud')\n",
    "aic_var = list(x.columns[abs(model_aic.coef_) >= 1e-5 ])\n",
    "aic_var.append('Fraud')"
   ]
  },
  {
   "cell_type": "code",
   "execution_count": 132,
   "metadata": {},
   "outputs": [
    {
     "data": {
      "text/plain": [
       "['merchantnum_amount_week_diff_max_1',\n",
       " 'newmerch_30',\n",
       " 'cardnum_state_30',\n",
       " 'cardnum_state_15',\n",
       " 'newmerch_7',\n",
       " 'merchantnum_cardnum_3',\n",
       " 'cardnum_merchantnum_15',\n",
       " 'cardnum_merchantnum_30',\n",
       " 'cardnum_zip_7',\n",
       " 'Fraud']"
      ]
     },
     "execution_count": 132,
     "metadata": {},
     "output_type": "execute_result"
    }
   ],
   "source": [
    "bic_var"
   ]
  },
  {
   "cell_type": "code",
   "execution_count": 133,
   "metadata": {},
   "outputs": [
    {
     "data": {
      "text/plain": [
       "['merchantnum_amount_week_diff_max_1',\n",
       " 'merchantnum_amount_max_3',\n",
       " 'newmerch_30',\n",
       " 'cardnum_state_30',\n",
       " 'cardnum_state_15',\n",
       " 'newmerch_7',\n",
       " 'merchantnum_cardnum_3',\n",
       " 'cardnum_merchantnum_15',\n",
       " 'cardnum_merchantnum_30',\n",
       " 'cardnum_zip_7',\n",
       " 'Fraud']"
      ]
     },
     "execution_count": 133,
     "metadata": {},
     "output_type": "execute_result"
    }
   ],
   "source": [
    "aic_var"
   ]
  },
  {
   "cell_type": "code",
   "execution_count": 134,
   "metadata": {},
   "outputs": [],
   "source": [
    "train_bic = data.loc[:,bic_var]\n",
    "out_of_date_bic = ofd.loc[:,bic_var]\n",
    "train_aic = data.loc[:,aic_var]\n",
    "out_of_date_aic = ofd.loc[:,aic_var]"
   ]
  },
  {
   "cell_type": "code",
   "execution_count": 135,
   "metadata": {},
   "outputs": [],
   "source": [
    "train_bic.to_csv('train_bic.csv')\n",
    "out_of_date_bic.to_csv('out_of_date_bic.csv')\n",
    "train_aic.to_csv('train_aic.csv')\n",
    "out_of_date_aic.to_csv('out_of_date_aic.csv')"
   ]
  },
  {
   "cell_type": "code",
   "execution_count": null,
   "metadata": {},
   "outputs": [],
   "source": []
  }
 ],
 "metadata": {
  "kernelspec": {
   "display_name": "Python 3",
   "language": "python",
   "name": "python3"
  },
  "language_info": {
   "codemirror_mode": {
    "name": "ipython",
    "version": 3
   },
   "file_extension": ".py",
   "mimetype": "text/x-python",
   "name": "python",
   "nbconvert_exporter": "python",
   "pygments_lexer": "ipython3",
   "version": "3.6.3"
  }
 },
 "nbformat": 4,
 "nbformat_minor": 2
}
