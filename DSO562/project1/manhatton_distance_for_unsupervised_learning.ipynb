{
 "cells": [
  {
   "cell_type": "code",
   "execution_count": 1,
   "metadata": {},
   "outputs": [],
   "source": [
    "import pandas as pd\n",
    "import numpy as np"
   ]
  },
  {
   "cell_type": "code",
   "execution_count": 2,
   "metadata": {},
   "outputs": [],
   "source": [
    "import os"
   ]
  },
  {
   "cell_type": "code",
   "execution_count": 3,
   "metadata": {},
   "outputs": [],
   "source": [
    "path = os.getcwd()+'/Desktop/USC/s2/DSO562/project1/'"
   ]
  },
  {
   "cell_type": "code",
   "execution_count": 6,
   "metadata": {},
   "outputs": [],
   "source": [
    "data_pca = pd.read_csv(path+'data_pca.csv')"
   ]
  },
  {
   "cell_type": "code",
   "execution_count": 13,
   "metadata": {},
   "outputs": [],
   "source": [
    "data_pca = data_pca.iloc[:,1:]"
   ]
  },
  {
   "cell_type": "code",
   "execution_count": 14,
   "metadata": {},
   "outputs": [
    {
     "data": {
      "text/html": [
       "<div>\n",
       "<style scoped>\n",
       "    .dataframe tbody tr th:only-of-type {\n",
       "        vertical-align: middle;\n",
       "    }\n",
       "\n",
       "    .dataframe tbody tr th {\n",
       "        vertical-align: top;\n",
       "    }\n",
       "\n",
       "    .dataframe thead th {\n",
       "        text-align: right;\n",
       "    }\n",
       "</style>\n",
       "<table border=\"1\" class=\"dataframe\">\n",
       "  <thead>\n",
       "    <tr style=\"text-align: right;\">\n",
       "      <th></th>\n",
       "      <th>0</th>\n",
       "      <th>1</th>\n",
       "      <th>2</th>\n",
       "      <th>3</th>\n",
       "      <th>4</th>\n",
       "      <th>5</th>\n",
       "      <th>6</th>\n",
       "      <th>7</th>\n",
       "      <th>8</th>\n",
       "      <th>9</th>\n",
       "    </tr>\n",
       "  </thead>\n",
       "  <tbody>\n",
       "    <tr>\n",
       "      <th>0</th>\n",
       "      <td>1.843671</td>\n",
       "      <td>-0.282595</td>\n",
       "      <td>-1.526464</td>\n",
       "      <td>0.658715</td>\n",
       "      <td>0.408708</td>\n",
       "      <td>-1.508330</td>\n",
       "      <td>0.017859</td>\n",
       "      <td>-0.854488</td>\n",
       "      <td>-0.070930</td>\n",
       "      <td>0.219346</td>\n",
       "    </tr>\n",
       "    <tr>\n",
       "      <th>1</th>\n",
       "      <td>2.821386</td>\n",
       "      <td>-0.171525</td>\n",
       "      <td>-0.760807</td>\n",
       "      <td>0.540012</td>\n",
       "      <td>0.244024</td>\n",
       "      <td>1.082071</td>\n",
       "      <td>-0.742929</td>\n",
       "      <td>0.533236</td>\n",
       "      <td>0.126557</td>\n",
       "      <td>-0.059273</td>\n",
       "    </tr>\n",
       "    <tr>\n",
       "      <th>2</th>\n",
       "      <td>0.530436</td>\n",
       "      <td>0.223873</td>\n",
       "      <td>-0.054932</td>\n",
       "      <td>0.897608</td>\n",
       "      <td>4.568520</td>\n",
       "      <td>-0.534166</td>\n",
       "      <td>1.554958</td>\n",
       "      <td>-0.856839</td>\n",
       "      <td>0.593765</td>\n",
       "      <td>1.487371</td>\n",
       "    </tr>\n",
       "    <tr>\n",
       "      <th>3</th>\n",
       "      <td>-0.808517</td>\n",
       "      <td>0.880687</td>\n",
       "      <td>7.321889</td>\n",
       "      <td>-0.488665</td>\n",
       "      <td>7.488479</td>\n",
       "      <td>2.487562</td>\n",
       "      <td>1.466470</td>\n",
       "      <td>-1.926587</td>\n",
       "      <td>1.599867</td>\n",
       "      <td>1.254525</td>\n",
       "    </tr>\n",
       "    <tr>\n",
       "      <th>4</th>\n",
       "      <td>-9.559798</td>\n",
       "      <td>48.440824</td>\n",
       "      <td>3.290873</td>\n",
       "      <td>6.075000</td>\n",
       "      <td>6.654299</td>\n",
       "      <td>0.320679</td>\n",
       "      <td>-1.735520</td>\n",
       "      <td>-2.732186</td>\n",
       "      <td>-1.158503</td>\n",
       "      <td>-0.764386</td>\n",
       "    </tr>\n",
       "  </tbody>\n",
       "</table>\n",
       "</div>"
      ],
      "text/plain": [
       "          0          1         2         3         4         5         6  \\\n",
       "0  1.843671  -0.282595 -1.526464  0.658715  0.408708 -1.508330  0.017859   \n",
       "1  2.821386  -0.171525 -0.760807  0.540012  0.244024  1.082071 -0.742929   \n",
       "2  0.530436   0.223873 -0.054932  0.897608  4.568520 -0.534166  1.554958   \n",
       "3 -0.808517   0.880687  7.321889 -0.488665  7.488479  2.487562  1.466470   \n",
       "4 -9.559798  48.440824  3.290873  6.075000  6.654299  0.320679 -1.735520   \n",
       "\n",
       "          7         8         9  \n",
       "0 -0.854488 -0.070930  0.219346  \n",
       "1  0.533236  0.126557 -0.059273  \n",
       "2 -0.856839  0.593765  1.487371  \n",
       "3 -1.926587  1.599867  1.254525  \n",
       "4 -2.732186 -1.158503 -0.764386  "
      ]
     },
     "execution_count": 14,
     "metadata": {},
     "output_type": "execute_result"
    }
   ],
   "source": [
    "data_pca.head()"
   ]
  },
  {
   "cell_type": "code",
   "execution_count": 15,
   "metadata": {},
   "outputs": [
    {
     "data": {
      "text/html": [
       "<div>\n",
       "<style scoped>\n",
       "    .dataframe tbody tr th:only-of-type {\n",
       "        vertical-align: middle;\n",
       "    }\n",
       "\n",
       "    .dataframe tbody tr th {\n",
       "        vertical-align: top;\n",
       "    }\n",
       "\n",
       "    .dataframe thead th {\n",
       "        text-align: right;\n",
       "    }\n",
       "</style>\n",
       "<table border=\"1\" class=\"dataframe\">\n",
       "  <thead>\n",
       "    <tr style=\"text-align: right;\">\n",
       "      <th></th>\n",
       "      <th>0</th>\n",
       "      <th>1</th>\n",
       "      <th>2</th>\n",
       "      <th>3</th>\n",
       "      <th>4</th>\n",
       "      <th>5</th>\n",
       "      <th>6</th>\n",
       "      <th>7</th>\n",
       "      <th>8</th>\n",
       "      <th>9</th>\n",
       "    </tr>\n",
       "  </thead>\n",
       "  <tbody>\n",
       "    <tr>\n",
       "      <th>count</th>\n",
       "      <td>1.048575e+06</td>\n",
       "      <td>1.048575e+06</td>\n",
       "      <td>1.048575e+06</td>\n",
       "      <td>1.048575e+06</td>\n",
       "      <td>1.048575e+06</td>\n",
       "      <td>1.048575e+06</td>\n",
       "      <td>1.048575e+06</td>\n",
       "      <td>1.048575e+06</td>\n",
       "      <td>1.048575e+06</td>\n",
       "      <td>1.048575e+06</td>\n",
       "    </tr>\n",
       "    <tr>\n",
       "      <th>mean</th>\n",
       "      <td>-1.003208e-14</td>\n",
       "      <td>1.043056e-13</td>\n",
       "      <td>-1.841066e-14</td>\n",
       "      <td>1.608968e-14</td>\n",
       "      <td>-2.438807e-15</td>\n",
       "      <td>1.068753e-14</td>\n",
       "      <td>-1.842106e-14</td>\n",
       "      <td>2.309136e-15</td>\n",
       "      <td>-8.492347e-15</td>\n",
       "      <td>6.278594e-15</td>\n",
       "    </tr>\n",
       "    <tr>\n",
       "      <th>std</th>\n",
       "      <td>3.438560e+00</td>\n",
       "      <td>3.010794e+00</td>\n",
       "      <td>2.581744e+00</td>\n",
       "      <td>2.403965e+00</td>\n",
       "      <td>1.942608e+00</td>\n",
       "      <td>1.441108e+00</td>\n",
       "      <td>1.261128e+00</td>\n",
       "      <td>9.215956e-01</td>\n",
       "      <td>8.653206e-01</td>\n",
       "      <td>8.338163e-01</td>\n",
       "    </tr>\n",
       "    <tr>\n",
       "      <th>min</th>\n",
       "      <td>-4.908322e+01</td>\n",
       "      <td>-7.427287e-01</td>\n",
       "      <td>-7.095904e+00</td>\n",
       "      <td>-1.360451e+02</td>\n",
       "      <td>-7.389758e+00</td>\n",
       "      <td>-1.037770e+02</td>\n",
       "      <td>-1.373920e+02</td>\n",
       "      <td>-2.533932e+01</td>\n",
       "      <td>-3.201074e+02</td>\n",
       "      <td>-1.207998e+02</td>\n",
       "    </tr>\n",
       "    <tr>\n",
       "      <th>25%</th>\n",
       "      <td>2.725020e-01</td>\n",
       "      <td>-3.133076e-01</td>\n",
       "      <td>-1.656481e+00</td>\n",
       "      <td>3.441450e-01</td>\n",
       "      <td>-1.132701e+00</td>\n",
       "      <td>-1.335322e+00</td>\n",
       "      <td>-4.657582e-01</td>\n",
       "      <td>-4.902573e-01</td>\n",
       "      <td>-4.302094e-01</td>\n",
       "      <td>-7.356215e-02</td>\n",
       "    </tr>\n",
       "    <tr>\n",
       "      <th>50%</th>\n",
       "      <td>1.467809e+00</td>\n",
       "      <td>-2.654319e-01</td>\n",
       "      <td>-8.730689e-01</td>\n",
       "      <td>5.630269e-01</td>\n",
       "      <td>-5.083687e-03</td>\n",
       "      <td>-1.082718e-02</td>\n",
       "      <td>-5.973865e-02</td>\n",
       "      <td>3.811035e-02</td>\n",
       "      <td>-7.749815e-02</td>\n",
       "      <td>5.718754e-02</td>\n",
       "    </tr>\n",
       "    <tr>\n",
       "      <th>75%</th>\n",
       "      <td>1.805802e+00</td>\n",
       "      <td>-1.677181e-01</td>\n",
       "      <td>2.098543e+00</td>\n",
       "      <td>8.008231e-01</td>\n",
       "      <td>7.130761e-01</td>\n",
       "      <td>1.032979e+00</td>\n",
       "      <td>1.563124e-01</td>\n",
       "      <td>5.340021e-01</td>\n",
       "      <td>2.824285e-01</td>\n",
       "      <td>2.420408e-01</td>\n",
       "    </tr>\n",
       "    <tr>\n",
       "      <th>max</th>\n",
       "      <td>2.685020e+01</td>\n",
       "      <td>6.301699e+01</td>\n",
       "      <td>2.959146e+02</td>\n",
       "      <td>8.773668e+00</td>\n",
       "      <td>6.255446e+02</td>\n",
       "      <td>2.147769e+01</td>\n",
       "      <td>1.151117e+01</td>\n",
       "      <td>2.998904e+02</td>\n",
       "      <td>5.237319e+01</td>\n",
       "      <td>7.849261e+01</td>\n",
       "    </tr>\n",
       "  </tbody>\n",
       "</table>\n",
       "</div>"
      ],
      "text/plain": [
       "                  0             1             2             3             4  \\\n",
       "count  1.048575e+06  1.048575e+06  1.048575e+06  1.048575e+06  1.048575e+06   \n",
       "mean  -1.003208e-14  1.043056e-13 -1.841066e-14  1.608968e-14 -2.438807e-15   \n",
       "std    3.438560e+00  3.010794e+00  2.581744e+00  2.403965e+00  1.942608e+00   \n",
       "min   -4.908322e+01 -7.427287e-01 -7.095904e+00 -1.360451e+02 -7.389758e+00   \n",
       "25%    2.725020e-01 -3.133076e-01 -1.656481e+00  3.441450e-01 -1.132701e+00   \n",
       "50%    1.467809e+00 -2.654319e-01 -8.730689e-01  5.630269e-01 -5.083687e-03   \n",
       "75%    1.805802e+00 -1.677181e-01  2.098543e+00  8.008231e-01  7.130761e-01   \n",
       "max    2.685020e+01  6.301699e+01  2.959146e+02  8.773668e+00  6.255446e+02   \n",
       "\n",
       "                  5             6             7             8             9  \n",
       "count  1.048575e+06  1.048575e+06  1.048575e+06  1.048575e+06  1.048575e+06  \n",
       "mean   1.068753e-14 -1.842106e-14  2.309136e-15 -8.492347e-15  6.278594e-15  \n",
       "std    1.441108e+00  1.261128e+00  9.215956e-01  8.653206e-01  8.338163e-01  \n",
       "min   -1.037770e+02 -1.373920e+02 -2.533932e+01 -3.201074e+02 -1.207998e+02  \n",
       "25%   -1.335322e+00 -4.657582e-01 -4.902573e-01 -4.302094e-01 -7.356215e-02  \n",
       "50%   -1.082718e-02 -5.973865e-02  3.811035e-02 -7.749815e-02  5.718754e-02  \n",
       "75%    1.032979e+00  1.563124e-01  5.340021e-01  2.824285e-01  2.420408e-01  \n",
       "max    2.147769e+01  1.151117e+01  2.998904e+02  5.237319e+01  7.849261e+01  "
      ]
     },
     "execution_count": 15,
     "metadata": {},
     "output_type": "execute_result"
    }
   ],
   "source": [
    "data_pca.describe()"
   ]
  },
  {
   "cell_type": "code",
   "execution_count": 24,
   "metadata": {},
   "outputs": [],
   "source": [
    "from sklearn import preprocessing"
   ]
  },
  {
   "cell_type": "code",
   "execution_count": 25,
   "metadata": {},
   "outputs": [],
   "source": [
    "std_scale = preprocessing.StandardScaler().fit(data_pca)"
   ]
  },
  {
   "cell_type": "code",
   "execution_count": 26,
   "metadata": {},
   "outputs": [],
   "source": [
    "data_std = std_scale.transform(data_pca)"
   ]
  },
  {
   "cell_type": "code",
   "execution_count": 47,
   "metadata": {},
   "outputs": [
    {
     "data": {
      "text/html": [
       "<div>\n",
       "<style scoped>\n",
       "    .dataframe tbody tr th:only-of-type {\n",
       "        vertical-align: middle;\n",
       "    }\n",
       "\n",
       "    .dataframe tbody tr th {\n",
       "        vertical-align: top;\n",
       "    }\n",
       "\n",
       "    .dataframe thead th {\n",
       "        text-align: right;\n",
       "    }\n",
       "</style>\n",
       "<table border=\"1\" class=\"dataframe\">\n",
       "  <thead>\n",
       "    <tr style=\"text-align: right;\">\n",
       "      <th></th>\n",
       "      <th>0</th>\n",
       "      <th>1</th>\n",
       "      <th>2</th>\n",
       "      <th>3</th>\n",
       "      <th>4</th>\n",
       "      <th>5</th>\n",
       "      <th>6</th>\n",
       "      <th>7</th>\n",
       "      <th>8</th>\n",
       "      <th>9</th>\n",
       "    </tr>\n",
       "  </thead>\n",
       "  <tbody>\n",
       "    <tr>\n",
       "      <th>count</th>\n",
       "      <td>1.048575e+06</td>\n",
       "      <td>1.048575e+06</td>\n",
       "      <td>1.048575e+06</td>\n",
       "      <td>1.048575e+06</td>\n",
       "      <td>1.048575e+06</td>\n",
       "      <td>1.048575e+06</td>\n",
       "      <td>1.048575e+06</td>\n",
       "      <td>1.048575e+06</td>\n",
       "      <td>1.048575e+06</td>\n",
       "      <td>1.048575e+06</td>\n",
       "    </tr>\n",
       "    <tr>\n",
       "      <th>mean</th>\n",
       "      <td>4.743389e-18</td>\n",
       "      <td>-7.125248e-18</td>\n",
       "      <td>-2.164341e-17</td>\n",
       "      <td>5.610752e-18</td>\n",
       "      <td>-4.092867e-18</td>\n",
       "      <td>1.470451e-17</td>\n",
       "      <td>-7.901131e-18</td>\n",
       "      <td>-6.342589e-18</td>\n",
       "      <td>-2.443523e-17</td>\n",
       "      <td>3.306820e-18</td>\n",
       "    </tr>\n",
       "    <tr>\n",
       "      <th>std</th>\n",
       "      <td>1.000000e+00</td>\n",
       "      <td>1.000000e+00</td>\n",
       "      <td>1.000000e+00</td>\n",
       "      <td>1.000000e+00</td>\n",
       "      <td>1.000000e+00</td>\n",
       "      <td>1.000000e+00</td>\n",
       "      <td>1.000000e+00</td>\n",
       "      <td>1.000000e+00</td>\n",
       "      <td>1.000000e+00</td>\n",
       "      <td>1.000000e+00</td>\n",
       "    </tr>\n",
       "    <tr>\n",
       "      <th>min</th>\n",
       "      <td>-1.427436e+01</td>\n",
       "      <td>-2.466888e-01</td>\n",
       "      <td>-2.748494e+00</td>\n",
       "      <td>-5.659197e+01</td>\n",
       "      <td>-3.804041e+00</td>\n",
       "      <td>-7.201195e+01</td>\n",
       "      <td>-1.089438e+02</td>\n",
       "      <td>-2.749507e+01</td>\n",
       "      <td>-3.699295e+02</td>\n",
       "      <td>-1.448758e+02</td>\n",
       "    </tr>\n",
       "    <tr>\n",
       "      <th>25%</th>\n",
       "      <td>7.924890e-02</td>\n",
       "      <td>-1.040615e-01</td>\n",
       "      <td>-6.416134e-01</td>\n",
       "      <td>1.431573e-01</td>\n",
       "      <td>-5.830827e-01</td>\n",
       "      <td>-9.265944e-01</td>\n",
       "      <td>-3.693188e-01</td>\n",
       "      <td>-5.319660e-01</td>\n",
       "      <td>-4.971679e-01</td>\n",
       "      <td>-8.822349e-02</td>\n",
       "    </tr>\n",
       "    <tr>\n",
       "      <th>50%</th>\n",
       "      <td>4.268676e-01</td>\n",
       "      <td>-8.816014e-02</td>\n",
       "      <td>-3.381704e-01</td>\n",
       "      <td>2.342077e-01</td>\n",
       "      <td>-2.616940e-03</td>\n",
       "      <td>-7.513096e-03</td>\n",
       "      <td>-4.736923e-02</td>\n",
       "      <td>4.135260e-02</td>\n",
       "      <td>-8.956009e-02</td>\n",
       "      <td>6.858533e-02</td>\n",
       "    </tr>\n",
       "    <tr>\n",
       "      <th>75%</th>\n",
       "      <td>5.251624e-01</td>\n",
       "      <td>-5.570564e-02</td>\n",
       "      <td>8.128399e-01</td>\n",
       "      <td>3.331261e-01</td>\n",
       "      <td>3.670716e-01</td>\n",
       "      <td>7.167951e-01</td>\n",
       "      <td>1.239465e-01</td>\n",
       "      <td>5.794324e-01</td>\n",
       "      <td>3.263862e-01</td>\n",
       "      <td>2.902808e-01</td>\n",
       "    </tr>\n",
       "    <tr>\n",
       "      <th>max</th>\n",
       "      <td>7.808562e+00</td>\n",
       "      <td>2.093036e+01</td>\n",
       "      <td>1.146182e+02</td>\n",
       "      <td>3.649667e+00</td>\n",
       "      <td>3.220129e+02</td>\n",
       "      <td>1.490360e+01</td>\n",
       "      <td>9.127682e+00</td>\n",
       "      <td>3.254036e+02</td>\n",
       "      <td>6.052464e+01</td>\n",
       "      <td>9.413662e+01</td>\n",
       "    </tr>\n",
       "  </tbody>\n",
       "</table>\n",
       "</div>"
      ],
      "text/plain": [
       "                  0             1             2             3             4  \\\n",
       "count  1.048575e+06  1.048575e+06  1.048575e+06  1.048575e+06  1.048575e+06   \n",
       "mean   4.743389e-18 -7.125248e-18 -2.164341e-17  5.610752e-18 -4.092867e-18   \n",
       "std    1.000000e+00  1.000000e+00  1.000000e+00  1.000000e+00  1.000000e+00   \n",
       "min   -1.427436e+01 -2.466888e-01 -2.748494e+00 -5.659197e+01 -3.804041e+00   \n",
       "25%    7.924890e-02 -1.040615e-01 -6.416134e-01  1.431573e-01 -5.830827e-01   \n",
       "50%    4.268676e-01 -8.816014e-02 -3.381704e-01  2.342077e-01 -2.616940e-03   \n",
       "75%    5.251624e-01 -5.570564e-02  8.128399e-01  3.331261e-01  3.670716e-01   \n",
       "max    7.808562e+00  2.093036e+01  1.146182e+02  3.649667e+00  3.220129e+02   \n",
       "\n",
       "                  5             6             7             8             9  \n",
       "count  1.048575e+06  1.048575e+06  1.048575e+06  1.048575e+06  1.048575e+06  \n",
       "mean   1.470451e-17 -7.901131e-18 -6.342589e-18 -2.443523e-17  3.306820e-18  \n",
       "std    1.000000e+00  1.000000e+00  1.000000e+00  1.000000e+00  1.000000e+00  \n",
       "min   -7.201195e+01 -1.089438e+02 -2.749507e+01 -3.699295e+02 -1.448758e+02  \n",
       "25%   -9.265944e-01 -3.693188e-01 -5.319660e-01 -4.971679e-01 -8.822349e-02  \n",
       "50%   -7.513096e-03 -4.736923e-02  4.135260e-02 -8.956009e-02  6.858533e-02  \n",
       "75%    7.167951e-01  1.239465e-01  5.794324e-01  3.263862e-01  2.902808e-01  \n",
       "max    1.490360e+01  9.127682e+00  3.254036e+02  6.052464e+01  9.413662e+01  "
      ]
     },
     "execution_count": 47,
     "metadata": {},
     "output_type": "execute_result"
    }
   ],
   "source": [
    "pd.DataFrame(data_std).describe()"
   ]
  },
  {
   "cell_type": "code",
   "execution_count": 45,
   "metadata": {},
   "outputs": [
    {
     "name": "stdout",
     "output_type": "stream",
     "text": [
      "mean of variable 0 is 0.00\n",
      "mean of variable 1 is -0.00\n",
      "mean of variable 2 is -0.00\n",
      "mean of variable 3 is 0.00\n",
      "mean of variable 4 is -0.00\n",
      "mean of variable 5 is 0.00\n",
      "mean of variable 6 is -0.00\n",
      "mean of variable 7 is -0.00\n",
      "mean of variable 8 is -0.00\n",
      "mean of variable 9 is 0.00\n"
     ]
    }
   ],
   "source": [
    "for var,mean in enumerate([data_std[:,i].mean() for i in range(10)]):\n",
    "    print ('mean of variable {} is {:.2f}'.format(var,mean))"
   ]
  },
  {
   "cell_type": "code",
   "execution_count": 46,
   "metadata": {},
   "outputs": [
    {
     "name": "stdout",
     "output_type": "stream",
     "text": [
      "std of variable 0 is 1.00\n",
      "std of variable 1 is 1.00\n",
      "std of variable 2 is 1.00\n",
      "std of variable 3 is 1.00\n",
      "std of variable 4 is 1.00\n",
      "std of variable 5 is 1.00\n",
      "std of variable 6 is 1.00\n",
      "std of variable 7 is 1.00\n",
      "std of variable 8 is 1.00\n",
      "std of variable 9 is 1.00\n"
     ]
    }
   ],
   "source": [
    "for var,std in enumerate([data_std[:,i].std() for i in range(10)]):\n",
    "    print ('std of variable {} is {:.2f}'.format(var,std))"
   ]
  },
  {
   "cell_type": "code",
   "execution_count": 16,
   "metadata": {},
   "outputs": [],
   "source": [
    "def manhattan_distance(start, end):\n",
    "    return sum(abs(e - s) for s,e in zip(start, end))"
   ]
  },
  {
   "cell_type": "code",
   "execution_count": 17,
   "metadata": {},
   "outputs": [],
   "source": [
    "start = np.repeat(0,10)"
   ]
  },
  {
   "cell_type": "code",
   "execution_count": 53,
   "metadata": {},
   "outputs": [
    {
     "data": {
      "text/plain": [
       "array([ 0.5361754 , -0.09386056, -0.59125359,  0.27401209,  0.21039142,\n",
       "       -1.04664592,  0.01416134, -0.9271838 , -0.08196971,  0.26306241])"
      ]
     },
     "execution_count": 53,
     "metadata": {},
     "output_type": "execute_result"
    }
   ],
   "source": [
    "data_std[0,:]"
   ]
  },
  {
   "cell_type": "code",
   "execution_count": 50,
   "metadata": {},
   "outputs": [
    {
     "name": "stdout",
     "output_type": "stream",
     "text": [
      "4.0387162438246165\n",
      "3.658323533916952\n",
      "7.97840759639423\n"
     ]
    }
   ],
   "source": [
    "for i in range(3):\n",
    "    print (manhattan_distance(start,data_std[i,:]))    "
   ]
  },
  {
   "cell_type": "code",
   "execution_count": 61,
   "metadata": {},
   "outputs": [],
   "source": [
    "score = []\n",
    "l = len(data_std)\n",
    "for i in range(l):\n",
    "    score.append(manhattan_distance(start,data_std[i,:]))  "
   ]
  },
  {
   "cell_type": "code",
   "execution_count": 63,
   "metadata": {},
   "outputs": [],
   "source": [
    "score = [round(s,1) for s in score]"
   ]
  },
  {
   "cell_type": "code",
   "execution_count": 66,
   "metadata": {},
   "outputs": [],
   "source": [
    "import matplotlib.pyplot as plt\n",
    "import seaborn as sns"
   ]
  },
  {
   "cell_type": "code",
   "execution_count": 68,
   "metadata": {},
   "outputs": [
    {
     "data": {
      "image/png": "[encoded data removed]",
      "text/plain": [
       "<matplotlib.figure.Figure at 0x11a88a048>"
      ]
     },
     "metadata": {},
     "output_type": "display_data"
    }
   ],
   "source": [
    "sns.distplot(score)\n",
    "plt.show()"
   ]
  },
  {
   "cell_type": "code",
   "execution_count": 78,
   "metadata": {},
   "outputs": [
    {
     "data": {
      "image/png": "[encoded data removed]",
      "text/plain": [
       "<matplotlib.figure.Figure at 0x11d555358>"
      ]
     },
     "metadata": {},
     "output_type": "display_data"
    }
   ],
   "source": [
    "xhigh = 200\n",
    "sns.distplot(list(filter(lambda x: x <xhigh, score)))\n",
    "plt.xlim(xmax=xhigh)\n",
    "plt.show()"
   ]
  },
  {
   "cell_type": "code",
   "execution_count": 87,
   "metadata": {},
   "outputs": [
    {
     "data": {
      "text/plain": [
       "376.7594139956054"
      ]
     },
     "execution_count": 87,
     "metadata": {},
     "output_type": "execute_result"
    }
   ],
   "source": [
    "np.percentile(score, 99.999)"
   ]
  },
  {
   "cell_type": "code",
   "execution_count": 88,
   "metadata": {},
   "outputs": [
    {
     "data": {
      "text/plain": [
       "(array([ 22920,  28608,  81045,  97788, 210764, 246250, 262368, 456014,\n",
       "        508285, 815071, 846614]),)"
      ]
     },
     "execution_count": 88,
     "metadata": {},
     "output_type": "execute_result"
    }
   ],
   "source": [
    "np.where(np.array(score) > 377) "
   ]
  },
  {
   "cell_type": "code",
   "execution_count": null,
   "metadata": {},
   "outputs": [],
   "source": []
  }
 ],
 "metadata": {
  "kernelspec": {
   "display_name": "Python 3",
   "language": "python",
   "name": "python3"
  },
  "language_info": {
   "codemirror_mode": {
    "name": "ipython",
    "version": 3
   },
   "file_extension": ".py",
   "mimetype": "text/x-python",
   "name": "python",
   "nbconvert_exporter": "python",
   "pygments_lexer": "ipython3",
   "version": "3.6.3"
  }
 },
 "nbformat": 4,
 "nbformat_minor": 2
}
