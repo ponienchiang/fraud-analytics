{
 "cells": [
  {
   "cell_type": "code",
   "execution_count": 108,
   "metadata": {},
   "outputs": [],
   "source": [
    "import pandas as pd\n",
    "import numpy as np"
   ]
  },
  {
   "cell_type": "code",
   "execution_count": 109,
   "metadata": {},
   "outputs": [],
   "source": [
    "data_full = pd.read_excel('/Users/chiang/Desktop/USC/s2/DSO562/w2/NY property 1 million.xlsx')"
   ]
  },
  {
   "cell_type": "code",
   "execution_count": 110,
   "metadata": {},
   "outputs": [],
   "source": [
    "backup= data_full"
   ]
  },
  {
   "cell_type": "code",
   "execution_count": 111,
   "metadata": {},
   "outputs": [],
   "source": [
    "def get_matched_value(string):\n",
    "    val = ref_table.loc[string]\n",
    "    return val\n",
    "\n",
    "def boro_input(col_name):\n",
    "    global ref_table\n",
    "    data_full[col_name]=data_full[col_name].replace(0, np.nan)\n",
    "    ref_table = data_full[['BORO',col_name]].groupby('BORO').mean()\n",
    "    ref_table = round(ref_table)\n",
    "    data_full['AVG_'+col_name] = data_full['BORO'].apply(get_matched_value) \n",
    "    data_full[col_name].fillna(data_full['AVG_'+col_name],inplace=True ) "
   ]
  },
  {
   "cell_type": "code",
   "execution_count": 112,
   "metadata": {},
   "outputs": [
    {
     "data": {
      "text/plain": [
       "Index(['RECORD', 'BBLE', 'BLOCK', 'LOT', 'EASEMENT', 'OWNER', 'BLDGCL',\n",
       "       'TAXCLASS', 'LTFRONT', 'LTDEPTH', 'STORIES', 'FULLVAL', 'AVLAND',\n",
       "       'AVTOT', 'EXLAND', 'EXTOT', 'EXCD1', 'STADDR', 'ZIP', 'EXMPTCL',\n",
       "       'BLDFRONT', 'BLDDEPTH', 'AVLAND2', 'AVTOT2', 'EXLAND2', 'EXTOT2',\n",
       "       'EXCD2', 'PERIOD', 'YEAR', 'VALTYPE'],\n",
       "      dtype='object')"
      ]
     },
     "execution_count": 112,
     "metadata": {},
     "output_type": "execute_result"
    }
   ],
   "source": [
    "data_full.columns"
   ]
  },
  {
   "cell_type": "code",
   "execution_count": 118,
   "metadata": {},
   "outputs": [],
   "source": [
    "data_full['NA_COUNT_PRE'] = data_full.isna().sum(axis=1)"
   ]
  },
  {
   "cell_type": "code",
   "execution_count": 119,
   "metadata": {},
   "outputs": [],
   "source": [
    "# drop'BLOCK','OWNER','STADDR','AVLAND2', 'AVTOT2', 'EXLAND2', 'EXTOT2','EXCD2', 'PERIOD', 'YEAR', 'VALTYPE'"
   ]
  },
  {
   "cell_type": "code",
   "execution_count": 120,
   "metadata": {},
   "outputs": [],
   "source": [
    "data_full = data_full.drop(columns=['BLOCK', 'OWNER','STADDR','AVLAND2','AVTOT2','EXLAND2','EXTOT2','EXCD2','PERIOD','YEAR','VALTYPE'])"
   ]
  },
  {
   "cell_type": "code",
   "execution_count": 121,
   "metadata": {},
   "outputs": [],
   "source": [
    "data_full['BORO'] = data_full['BBLE'].str[:1]"
   ]
  },
  {
   "cell_type": "code",
   "execution_count": 122,
   "metadata": {},
   "outputs": [
    {
     "data": {
      "text/plain": [
       "Index(['RECORD', 'BBLE', 'LOT', 'EASEMENT', 'BLDGCL', 'TAXCLASS', 'LTFRONT',\n",
       "       'LTDEPTH', 'STORIES', 'FULLVAL', 'AVLAND', 'AVTOT', 'EXLAND', 'EXTOT',\n",
       "       'EXCD1', 'ZIP', 'EXMPTCL', 'BLDFRONT', 'BLDDEPTH', 'NA_COUNT_PRE',\n",
       "       'BORO'],\n",
       "      dtype='object')"
      ]
     },
     "execution_count": 122,
     "metadata": {},
     "output_type": "execute_result"
    }
   ],
   "source": [
    "data_full.columns"
   ]
  },
  {
   "cell_type": "code",
   "execution_count": 123,
   "metadata": {},
   "outputs": [
    {
     "data": {
      "text/html": [
       "<div>\n",
       "<style scoped>\n",
       "    .dataframe tbody tr th:only-of-type {\n",
       "        vertical-align: middle;\n",
       "    }\n",
       "\n",
       "    .dataframe tbody tr th {\n",
       "        vertical-align: top;\n",
       "    }\n",
       "\n",
       "    .dataframe thead th {\n",
       "        text-align: right;\n",
       "    }\n",
       "</style>\n",
       "<table border=\"1\" class=\"dataframe\">\n",
       "  <thead>\n",
       "    <tr style=\"text-align: right;\">\n",
       "      <th></th>\n",
       "      <th>RECORD</th>\n",
       "      <th>LOT</th>\n",
       "      <th>LTFRONT</th>\n",
       "      <th>LTDEPTH</th>\n",
       "      <th>STORIES</th>\n",
       "      <th>FULLVAL</th>\n",
       "      <th>AVLAND</th>\n",
       "      <th>AVTOT</th>\n",
       "      <th>EXLAND</th>\n",
       "      <th>EXTOT</th>\n",
       "      <th>EXCD1</th>\n",
       "      <th>ZIP</th>\n",
       "      <th>BLDFRONT</th>\n",
       "      <th>BLDDEPTH</th>\n",
       "      <th>NA_COUNT_PRE</th>\n",
       "    </tr>\n",
       "  </thead>\n",
       "  <tbody>\n",
       "    <tr>\n",
       "      <th>count</th>\n",
       "      <td>1.048575e+06</td>\n",
       "      <td>1.048575e+06</td>\n",
       "      <td>1.048575e+06</td>\n",
       "      <td>1.048575e+06</td>\n",
       "      <td>996433.000000</td>\n",
       "      <td>1.048575e+06</td>\n",
       "      <td>1.048575e+06</td>\n",
       "      <td>1.048575e+06</td>\n",
       "      <td>1.048575e+06</td>\n",
       "      <td>1.048575e+06</td>\n",
       "      <td>622642.000000</td>\n",
       "      <td>1.022219e+06</td>\n",
       "      <td>1.048575e+06</td>\n",
       "      <td>1.048575e+06</td>\n",
       "      <td>1.048575e+06</td>\n",
       "    </tr>\n",
       "    <tr>\n",
       "      <th>mean</th>\n",
       "      <td>5.242880e+05</td>\n",
       "      <td>3.700924e+02</td>\n",
       "      <td>3.617425e+01</td>\n",
       "      <td>8.827643e+01</td>\n",
       "      <td>5.063363</td>\n",
       "      <td>8.804877e+05</td>\n",
       "      <td>8.599503e+04</td>\n",
       "      <td>2.307582e+05</td>\n",
       "      <td>3.681179e+04</td>\n",
       "      <td>9.254381e+04</td>\n",
       "      <td>1604.500100</td>\n",
       "      <td>1.093532e+04</td>\n",
       "      <td>2.301872e+01</td>\n",
       "      <td>4.007421e+01</td>\n",
       "      <td>6.663956e+00</td>\n",
       "    </tr>\n",
       "    <tr>\n",
       "      <th>std</th>\n",
       "      <td>3.026977e+05</td>\n",
       "      <td>8.605382e+02</td>\n",
       "      <td>7.373356e+01</td>\n",
       "      <td>7.547885e+01</td>\n",
       "      <td>8.431372</td>\n",
       "      <td>1.170293e+07</td>\n",
       "      <td>4.100755e+06</td>\n",
       "      <td>6.951206e+06</td>\n",
       "      <td>4.024330e+06</td>\n",
       "      <td>6.578281e+06</td>\n",
       "      <td>1388.131676</td>\n",
       "      <td>5.265759e+02</td>\n",
       "      <td>3.578847e+01</td>\n",
       "      <td>4.303640e+01</td>\n",
       "      <td>1.514894e+00</td>\n",
       "    </tr>\n",
       "    <tr>\n",
       "      <th>min</th>\n",
       "      <td>1.000000e+00</td>\n",
       "      <td>1.000000e+00</td>\n",
       "      <td>0.000000e+00</td>\n",
       "      <td>0.000000e+00</td>\n",
       "      <td>1.000000</td>\n",
       "      <td>0.000000e+00</td>\n",
       "      <td>0.000000e+00</td>\n",
       "      <td>0.000000e+00</td>\n",
       "      <td>0.000000e+00</td>\n",
       "      <td>0.000000e+00</td>\n",
       "      <td>1010.000000</td>\n",
       "      <td>1.000100e+04</td>\n",
       "      <td>0.000000e+00</td>\n",
       "      <td>0.000000e+00</td>\n",
       "      <td>1.000000e+00</td>\n",
       "    </tr>\n",
       "    <tr>\n",
       "      <th>25%</th>\n",
       "      <td>2.621445e+05</td>\n",
       "      <td>2.300000e+01</td>\n",
       "      <td>1.900000e+01</td>\n",
       "      <td>8.000000e+01</td>\n",
       "      <td>2.000000</td>\n",
       "      <td>3.030000e+05</td>\n",
       "      <td>9.160000e+03</td>\n",
       "      <td>1.838500e+04</td>\n",
       "      <td>0.000000e+00</td>\n",
       "      <td>0.000000e+00</td>\n",
       "      <td>1017.000000</td>\n",
       "      <td>1.045300e+04</td>\n",
       "      <td>1.500000e+01</td>\n",
       "      <td>2.600000e+01</td>\n",
       "      <td>6.000000e+00</td>\n",
       "    </tr>\n",
       "    <tr>\n",
       "      <th>50%</th>\n",
       "      <td>5.242880e+05</td>\n",
       "      <td>4.900000e+01</td>\n",
       "      <td>2.500000e+01</td>\n",
       "      <td>1.000000e+02</td>\n",
       "      <td>2.000000</td>\n",
       "      <td>4.460000e+05</td>\n",
       "      <td>1.364600e+04</td>\n",
       "      <td>2.533900e+04</td>\n",
       "      <td>1.620000e+03</td>\n",
       "      <td>1.620000e+03</td>\n",
       "      <td>1017.000000</td>\n",
       "      <td>1.121500e+04</td>\n",
       "      <td>2.000000e+01</td>\n",
       "      <td>3.900000e+01</td>\n",
       "      <td>7.000000e+00</td>\n",
       "    </tr>\n",
       "    <tr>\n",
       "      <th>75%</th>\n",
       "      <td>7.864315e+05</td>\n",
       "      <td>1.460000e+02</td>\n",
       "      <td>4.000000e+01</td>\n",
       "      <td>1.000000e+02</td>\n",
       "      <td>3.000000</td>\n",
       "      <td>6.190000e+05</td>\n",
       "      <td>1.970600e+04</td>\n",
       "      <td>4.609500e+04</td>\n",
       "      <td>1.620000e+03</td>\n",
       "      <td>2.090000e+03</td>\n",
       "      <td>1017.000000</td>\n",
       "      <td>1.136400e+04</td>\n",
       "      <td>2.400000e+01</td>\n",
       "      <td>5.100000e+01</td>\n",
       "      <td>8.000000e+00</td>\n",
       "    </tr>\n",
       "    <tr>\n",
       "      <th>max</th>\n",
       "      <td>1.048575e+06</td>\n",
       "      <td>9.978000e+03</td>\n",
       "      <td>9.999000e+03</td>\n",
       "      <td>9.999000e+03</td>\n",
       "      <td>119.000000</td>\n",
       "      <td>6.150000e+09</td>\n",
       "      <td>2.668500e+09</td>\n",
       "      <td>4.668309e+09</td>\n",
       "      <td>2.668500e+09</td>\n",
       "      <td>4.668309e+09</td>\n",
       "      <td>7170.000000</td>\n",
       "      <td>3.380300e+04</td>\n",
       "      <td>7.575000e+03</td>\n",
       "      <td>9.393000e+03</td>\n",
       "      <td>1.200000e+01</td>\n",
       "    </tr>\n",
       "  </tbody>\n",
       "</table>\n",
       "</div>"
      ],
      "text/plain": [
       "             RECORD           LOT       LTFRONT       LTDEPTH        STORIES  \\\n",
       "count  1.048575e+06  1.048575e+06  1.048575e+06  1.048575e+06  996433.000000   \n",
       "mean   5.242880e+05  3.700924e+02  3.617425e+01  8.827643e+01       5.063363   \n",
       "std    3.026977e+05  8.605382e+02  7.373356e+01  7.547885e+01       8.431372   \n",
       "min    1.000000e+00  1.000000e+00  0.000000e+00  0.000000e+00       1.000000   \n",
       "25%    2.621445e+05  2.300000e+01  1.900000e+01  8.000000e+01       2.000000   \n",
       "50%    5.242880e+05  4.900000e+01  2.500000e+01  1.000000e+02       2.000000   \n",
       "75%    7.864315e+05  1.460000e+02  4.000000e+01  1.000000e+02       3.000000   \n",
       "max    1.048575e+06  9.978000e+03  9.999000e+03  9.999000e+03     119.000000   \n",
       "\n",
       "            FULLVAL        AVLAND         AVTOT        EXLAND         EXTOT  \\\n",
       "count  1.048575e+06  1.048575e+06  1.048575e+06  1.048575e+06  1.048575e+06   \n",
       "mean   8.804877e+05  8.599503e+04  2.307582e+05  3.681179e+04  9.254381e+04   \n",
       "std    1.170293e+07  4.100755e+06  6.951206e+06  4.024330e+06  6.578281e+06   \n",
       "min    0.000000e+00  0.000000e+00  0.000000e+00  0.000000e+00  0.000000e+00   \n",
       "25%    3.030000e+05  9.160000e+03  1.838500e+04  0.000000e+00  0.000000e+00   \n",
       "50%    4.460000e+05  1.364600e+04  2.533900e+04  1.620000e+03  1.620000e+03   \n",
       "75%    6.190000e+05  1.970600e+04  4.609500e+04  1.620000e+03  2.090000e+03   \n",
       "max    6.150000e+09  2.668500e+09  4.668309e+09  2.668500e+09  4.668309e+09   \n",
       "\n",
       "               EXCD1           ZIP      BLDFRONT      BLDDEPTH  NA_COUNT_PRE  \n",
       "count  622642.000000  1.022219e+06  1.048575e+06  1.048575e+06  1.048575e+06  \n",
       "mean     1604.500100  1.093532e+04  2.301872e+01  4.007421e+01  6.663956e+00  \n",
       "std      1388.131676  5.265759e+02  3.578847e+01  4.303640e+01  1.514894e+00  \n",
       "min      1010.000000  1.000100e+04  0.000000e+00  0.000000e+00  1.000000e+00  \n",
       "25%      1017.000000  1.045300e+04  1.500000e+01  2.600000e+01  6.000000e+00  \n",
       "50%      1017.000000  1.121500e+04  2.000000e+01  3.900000e+01  7.000000e+00  \n",
       "75%      1017.000000  1.136400e+04  2.400000e+01  5.100000e+01  8.000000e+00  \n",
       "max      7170.000000  3.380300e+04  7.575000e+03  9.393000e+03  1.200000e+01  "
      ]
     },
     "execution_count": 123,
     "metadata": {},
     "output_type": "execute_result"
    }
   ],
   "source": [
    "data_full.describe()"
   ]
  },
  {
   "cell_type": "code",
   "execution_count": 124,
   "metadata": {},
   "outputs": [
    {
     "name": "stdout",
     "output_type": "stream",
     "text": [
      "<class 'pandas.core.frame.DataFrame'>\n",
      "RangeIndex: 1048575 entries, 0 to 1048574\n",
      "Data columns (total 21 columns):\n",
      "RECORD          1048575 non-null int64\n",
      "BBLE            1048575 non-null object\n",
      "LOT             1048575 non-null int64\n",
      "EASEMENT        4043 non-null object\n",
      "BLDGCL          1048575 non-null object\n",
      "TAXCLASS        1048575 non-null object\n",
      "LTFRONT         1048575 non-null int64\n",
      "LTDEPTH         1048575 non-null int64\n",
      "STORIES         996433 non-null float64\n",
      "FULLVAL         1048575 non-null int64\n",
      "AVLAND          1048575 non-null int64\n",
      "AVTOT           1048575 non-null int64\n",
      "EXLAND          1048575 non-null int64\n",
      "EXTOT           1048575 non-null int64\n",
      "EXCD1           622642 non-null float64\n",
      "ZIP             1022219 non-null float64\n",
      "EXMPTCL         14992 non-null object\n",
      "BLDFRONT        1048575 non-null int64\n",
      "BLDDEPTH        1048575 non-null int64\n",
      "NA_COUNT_PRE    1048575 non-null int64\n",
      "BORO            1048575 non-null object\n",
      "dtypes: float64(3), int64(12), object(6)\n",
      "memory usage: 168.0+ MB\n"
     ]
    }
   ],
   "source": [
    "data_full.info()"
   ]
  },
  {
   "cell_type": "code",
   "execution_count": 125,
   "metadata": {},
   "outputs": [],
   "source": [
    "#LTFRONT LTDEPTH STORIES ZIP BLDFRONT BLDDEPTH\n",
    "#replace 0 and nan"
   ]
  },
  {
   "cell_type": "code",
   "execution_count": 126,
   "metadata": {},
   "outputs": [
    {
     "name": "stdout",
     "output_type": "stream",
     "text": [
      "processing LTFRONT ...\n",
      "processing LTDEPTH ...\n",
      "processing STORIES ...\n",
      "processing ZIP ...\n",
      "processing BLDFRONT ...\n",
      "processing BLDDEPTH ...\n"
     ]
    }
   ],
   "source": [
    "for c in ['LTFRONT', 'LTDEPTH', 'STORIES', 'ZIP', 'BLDFRONT', 'BLDDEPTH']:\n",
    "    print('processing {} ...'.format(c))\n",
    "    boro_input(c)    "
   ]
  },
  {
   "cell_type": "code",
   "execution_count": 127,
   "metadata": {},
   "outputs": [
    {
     "data": {
      "text/html": [
       "<div>\n",
       "<style scoped>\n",
       "    .dataframe tbody tr th:only-of-type {\n",
       "        vertical-align: middle;\n",
       "    }\n",
       "\n",
       "    .dataframe tbody tr th {\n",
       "        vertical-align: top;\n",
       "    }\n",
       "\n",
       "    .dataframe thead th {\n",
       "        text-align: right;\n",
       "    }\n",
       "</style>\n",
       "<table border=\"1\" class=\"dataframe\">\n",
       "  <thead>\n",
       "    <tr style=\"text-align: right;\">\n",
       "      <th></th>\n",
       "      <th>RECORD</th>\n",
       "      <th>LOT</th>\n",
       "      <th>LTFRONT</th>\n",
       "      <th>LTDEPTH</th>\n",
       "      <th>STORIES</th>\n",
       "      <th>FULLVAL</th>\n",
       "      <th>AVLAND</th>\n",
       "      <th>AVTOT</th>\n",
       "      <th>EXLAND</th>\n",
       "      <th>EXTOT</th>\n",
       "      <th>...</th>\n",
       "      <th>ZIP</th>\n",
       "      <th>BLDFRONT</th>\n",
       "      <th>BLDDEPTH</th>\n",
       "      <th>NA_COUNT_PRE</th>\n",
       "      <th>AVG_LTFRONT</th>\n",
       "      <th>AVG_LTDEPTH</th>\n",
       "      <th>AVG_STORIES</th>\n",
       "      <th>AVG_ZIP</th>\n",
       "      <th>AVG_BLDFRONT</th>\n",
       "      <th>AVG_BLDDEPTH</th>\n",
       "    </tr>\n",
       "  </thead>\n",
       "  <tbody>\n",
       "    <tr>\n",
       "      <th>count</th>\n",
       "      <td>1.048575e+06</td>\n",
       "      <td>1.048575e+06</td>\n",
       "      <td>1.048575e+06</td>\n",
       "      <td>1.048575e+06</td>\n",
       "      <td>1.048575e+06</td>\n",
       "      <td>1.048575e+06</td>\n",
       "      <td>1.048575e+06</td>\n",
       "      <td>1.048575e+06</td>\n",
       "      <td>1.048575e+06</td>\n",
       "      <td>1.048575e+06</td>\n",
       "      <td>...</td>\n",
       "      <td>1.048575e+06</td>\n",
       "      <td>1.048575e+06</td>\n",
       "      <td>1.048575e+06</td>\n",
       "      <td>1.048575e+06</td>\n",
       "      <td>1.048575e+06</td>\n",
       "      <td>1.048575e+06</td>\n",
       "      <td>1.048575e+06</td>\n",
       "      <td>1.048575e+06</td>\n",
       "      <td>1.048575e+06</td>\n",
       "      <td>1.048575e+06</td>\n",
       "    </tr>\n",
       "    <tr>\n",
       "      <th>mean</th>\n",
       "      <td>5.242880e+05</td>\n",
       "      <td>3.700924e+02</td>\n",
       "      <td>4.579210e+01</td>\n",
       "      <td>1.063619e+02</td>\n",
       "      <td>5.041698e+00</td>\n",
       "      <td>8.804877e+05</td>\n",
       "      <td>8.599503e+04</td>\n",
       "      <td>2.307582e+05</td>\n",
       "      <td>3.681179e+04</td>\n",
       "      <td>9.254381e+04</td>\n",
       "      <td>...</td>\n",
       "      <td>1.093295e+04</td>\n",
       "      <td>3.242548e+01</td>\n",
       "      <td>5.497370e+01</td>\n",
       "      <td>6.663956e+00</td>\n",
       "      <td>4.568983e+01</td>\n",
       "      <td>1.061558e+02</td>\n",
       "      <td>5.224963e+00</td>\n",
       "      <td>1.093308e+04</td>\n",
       "      <td>3.243511e+01</td>\n",
       "      <td>5.493858e+01</td>\n",
       "    </tr>\n",
       "    <tr>\n",
       "      <th>std</th>\n",
       "      <td>3.026977e+05</td>\n",
       "      <td>8.605382e+02</td>\n",
       "      <td>7.276721e+01</td>\n",
       "      <td>6.486276e+01</td>\n",
       "      <td>8.292891e+00</td>\n",
       "      <td>1.170293e+07</td>\n",
       "      <td>4.100755e+06</td>\n",
       "      <td>6.951206e+06</td>\n",
       "      <td>4.024330e+06</td>\n",
       "      <td>6.578281e+06</td>\n",
       "      <td>...</td>\n",
       "      <td>5.261774e+02</td>\n",
       "      <td>3.563474e+01</td>\n",
       "      <td>4.029975e+01</td>\n",
       "      <td>1.514894e+00</td>\n",
       "      <td>1.525503e+01</td>\n",
       "      <td>6.120366e+00</td>\n",
       "      <td>5.564073e+00</td>\n",
       "      <td>5.205395e+02</td>\n",
       "      <td>1.529673e+01</td>\n",
       "      <td>1.942839e+01</td>\n",
       "    </tr>\n",
       "    <tr>\n",
       "      <th>min</th>\n",
       "      <td>1.000000e+00</td>\n",
       "      <td>1.000000e+00</td>\n",
       "      <td>1.000000e+00</td>\n",
       "      <td>1.000000e+00</td>\n",
       "      <td>1.000000e+00</td>\n",
       "      <td>0.000000e+00</td>\n",
       "      <td>0.000000e+00</td>\n",
       "      <td>0.000000e+00</td>\n",
       "      <td>0.000000e+00</td>\n",
       "      <td>0.000000e+00</td>\n",
       "      <td>...</td>\n",
       "      <td>1.000100e+04</td>\n",
       "      <td>1.000000e+00</td>\n",
       "      <td>1.000000e+00</td>\n",
       "      <td>1.000000e+00</td>\n",
       "      <td>3.300000e+01</td>\n",
       "      <td>1.010000e+02</td>\n",
       "      <td>2.000000e+00</td>\n",
       "      <td>1.003500e+04</td>\n",
       "      <td>2.500000e+01</td>\n",
       "      <td>4.000000e+01</td>\n",
       "    </tr>\n",
       "    <tr>\n",
       "      <th>25%</th>\n",
       "      <td>2.621445e+05</td>\n",
       "      <td>2.300000e+01</td>\n",
       "      <td>2.100000e+01</td>\n",
       "      <td>1.000000e+02</td>\n",
       "      <td>2.000000e+00</td>\n",
       "      <td>3.030000e+05</td>\n",
       "      <td>9.160000e+03</td>\n",
       "      <td>1.838500e+04</td>\n",
       "      <td>0.000000e+00</td>\n",
       "      <td>0.000000e+00</td>\n",
       "      <td>...</td>\n",
       "      <td>1.045200e+04</td>\n",
       "      <td>2.000000e+01</td>\n",
       "      <td>3.700000e+01</td>\n",
       "      <td>6.000000e+00</td>\n",
       "      <td>3.300000e+01</td>\n",
       "      <td>1.010000e+02</td>\n",
       "      <td>3.000000e+00</td>\n",
       "      <td>1.046400e+04</td>\n",
       "      <td>2.500000e+01</td>\n",
       "      <td>4.400000e+01</td>\n",
       "    </tr>\n",
       "    <tr>\n",
       "      <th>50%</th>\n",
       "      <td>5.242880e+05</td>\n",
       "      <td>4.900000e+01</td>\n",
       "      <td>3.000000e+01</td>\n",
       "      <td>1.000000e+02</td>\n",
       "      <td>2.000000e+00</td>\n",
       "      <td>4.460000e+05</td>\n",
       "      <td>1.364600e+04</td>\n",
       "      <td>2.533900e+04</td>\n",
       "      <td>1.620000e+03</td>\n",
       "      <td>1.620000e+03</td>\n",
       "      <td>...</td>\n",
       "      <td>1.121500e+04</td>\n",
       "      <td>2.200000e+01</td>\n",
       "      <td>4.600000e+01</td>\n",
       "      <td>7.000000e+00</td>\n",
       "      <td>4.100000e+01</td>\n",
       "      <td>1.040000e+02</td>\n",
       "      <td>3.000000e+00</td>\n",
       "      <td>1.122000e+04</td>\n",
       "      <td>2.600000e+01</td>\n",
       "      <td>5.200000e+01</td>\n",
       "    </tr>\n",
       "    <tr>\n",
       "      <th>75%</th>\n",
       "      <td>7.864315e+05</td>\n",
       "      <td>1.460000e+02</td>\n",
       "      <td>4.900000e+01</td>\n",
       "      <td>1.040000e+02</td>\n",
       "      <td>3.000000e+00</td>\n",
       "      <td>6.190000e+05</td>\n",
       "      <td>1.970600e+04</td>\n",
       "      <td>4.609500e+04</td>\n",
       "      <td>1.620000e+03</td>\n",
       "      <td>2.090000e+03</td>\n",
       "      <td>...</td>\n",
       "      <td>1.136400e+04</td>\n",
       "      <td>2.700000e+01</td>\n",
       "      <td>5.800000e+01</td>\n",
       "      <td>8.000000e+00</td>\n",
       "      <td>4.800000e+01</td>\n",
       "      <td>1.070000e+02</td>\n",
       "      <td>3.000000e+00</td>\n",
       "      <td>1.138000e+04</td>\n",
       "      <td>2.600000e+01</td>\n",
       "      <td>5.200000e+01</td>\n",
       "    </tr>\n",
       "    <tr>\n",
       "      <th>max</th>\n",
       "      <td>1.048575e+06</td>\n",
       "      <td>9.978000e+03</td>\n",
       "      <td>9.999000e+03</td>\n",
       "      <td>9.999000e+03</td>\n",
       "      <td>1.190000e+02</td>\n",
       "      <td>6.150000e+09</td>\n",
       "      <td>2.668500e+09</td>\n",
       "      <td>4.668309e+09</td>\n",
       "      <td>2.668500e+09</td>\n",
       "      <td>4.668309e+09</td>\n",
       "      <td>...</td>\n",
       "      <td>3.380300e+04</td>\n",
       "      <td>7.575000e+03</td>\n",
       "      <td>9.393000e+03</td>\n",
       "      <td>1.200000e+01</td>\n",
       "      <td>8.100000e+01</td>\n",
       "      <td>1.200000e+02</td>\n",
       "      <td>1.900000e+01</td>\n",
       "      <td>1.138000e+04</td>\n",
       "      <td>7.000000e+01</td>\n",
       "      <td>1.020000e+02</td>\n",
       "    </tr>\n",
       "  </tbody>\n",
       "</table>\n",
       "<p>8 rows × 21 columns</p>\n",
       "</div>"
      ],
      "text/plain": [
       "             RECORD           LOT       LTFRONT       LTDEPTH       STORIES  \\\n",
       "count  1.048575e+06  1.048575e+06  1.048575e+06  1.048575e+06  1.048575e+06   \n",
       "mean   5.242880e+05  3.700924e+02  4.579210e+01  1.063619e+02  5.041698e+00   \n",
       "std    3.026977e+05  8.605382e+02  7.276721e+01  6.486276e+01  8.292891e+00   \n",
       "min    1.000000e+00  1.000000e+00  1.000000e+00  1.000000e+00  1.000000e+00   \n",
       "25%    2.621445e+05  2.300000e+01  2.100000e+01  1.000000e+02  2.000000e+00   \n",
       "50%    5.242880e+05  4.900000e+01  3.000000e+01  1.000000e+02  2.000000e+00   \n",
       "75%    7.864315e+05  1.460000e+02  4.900000e+01  1.040000e+02  3.000000e+00   \n",
       "max    1.048575e+06  9.978000e+03  9.999000e+03  9.999000e+03  1.190000e+02   \n",
       "\n",
       "            FULLVAL        AVLAND         AVTOT        EXLAND         EXTOT  \\\n",
       "count  1.048575e+06  1.048575e+06  1.048575e+06  1.048575e+06  1.048575e+06   \n",
       "mean   8.804877e+05  8.599503e+04  2.307582e+05  3.681179e+04  9.254381e+04   \n",
       "std    1.170293e+07  4.100755e+06  6.951206e+06  4.024330e+06  6.578281e+06   \n",
       "min    0.000000e+00  0.000000e+00  0.000000e+00  0.000000e+00  0.000000e+00   \n",
       "25%    3.030000e+05  9.160000e+03  1.838500e+04  0.000000e+00  0.000000e+00   \n",
       "50%    4.460000e+05  1.364600e+04  2.533900e+04  1.620000e+03  1.620000e+03   \n",
       "75%    6.190000e+05  1.970600e+04  4.609500e+04  1.620000e+03  2.090000e+03   \n",
       "max    6.150000e+09  2.668500e+09  4.668309e+09  2.668500e+09  4.668309e+09   \n",
       "\n",
       "           ...                ZIP      BLDFRONT      BLDDEPTH  NA_COUNT_PRE  \\\n",
       "count      ...       1.048575e+06  1.048575e+06  1.048575e+06  1.048575e+06   \n",
       "mean       ...       1.093295e+04  3.242548e+01  5.497370e+01  6.663956e+00   \n",
       "std        ...       5.261774e+02  3.563474e+01  4.029975e+01  1.514894e+00   \n",
       "min        ...       1.000100e+04  1.000000e+00  1.000000e+00  1.000000e+00   \n",
       "25%        ...       1.045200e+04  2.000000e+01  3.700000e+01  6.000000e+00   \n",
       "50%        ...       1.121500e+04  2.200000e+01  4.600000e+01  7.000000e+00   \n",
       "75%        ...       1.136400e+04  2.700000e+01  5.800000e+01  8.000000e+00   \n",
       "max        ...       3.380300e+04  7.575000e+03  9.393000e+03  1.200000e+01   \n",
       "\n",
       "        AVG_LTFRONT   AVG_LTDEPTH   AVG_STORIES       AVG_ZIP  AVG_BLDFRONT  \\\n",
       "count  1.048575e+06  1.048575e+06  1.048575e+06  1.048575e+06  1.048575e+06   \n",
       "mean   4.568983e+01  1.061558e+02  5.224963e+00  1.093308e+04  3.243511e+01   \n",
       "std    1.525503e+01  6.120366e+00  5.564073e+00  5.205395e+02  1.529673e+01   \n",
       "min    3.300000e+01  1.010000e+02  2.000000e+00  1.003500e+04  2.500000e+01   \n",
       "25%    3.300000e+01  1.010000e+02  3.000000e+00  1.046400e+04  2.500000e+01   \n",
       "50%    4.100000e+01  1.040000e+02  3.000000e+00  1.122000e+04  2.600000e+01   \n",
       "75%    4.800000e+01  1.070000e+02  3.000000e+00  1.138000e+04  2.600000e+01   \n",
       "max    8.100000e+01  1.200000e+02  1.900000e+01  1.138000e+04  7.000000e+01   \n",
       "\n",
       "       AVG_BLDDEPTH  \n",
       "count  1.048575e+06  \n",
       "mean   5.493858e+01  \n",
       "std    1.942839e+01  \n",
       "min    4.000000e+01  \n",
       "25%    4.400000e+01  \n",
       "50%    5.200000e+01  \n",
       "75%    5.200000e+01  \n",
       "max    1.020000e+02  \n",
       "\n",
       "[8 rows x 21 columns]"
      ]
     },
     "execution_count": 127,
     "metadata": {},
     "output_type": "execute_result"
    }
   ],
   "source": [
    "data_full.describe()"
   ]
  },
  {
   "cell_type": "code",
   "execution_count": 128,
   "metadata": {},
   "outputs": [
    {
     "name": "stdout",
     "output_type": "stream",
     "text": [
      "<class 'pandas.core.frame.DataFrame'>\n",
      "RangeIndex: 1048575 entries, 0 to 1048574\n",
      "Data columns (total 27 columns):\n",
      "RECORD          1048575 non-null int64\n",
      "BBLE            1048575 non-null object\n",
      "LOT             1048575 non-null int64\n",
      "EASEMENT        4043 non-null object\n",
      "BLDGCL          1048575 non-null object\n",
      "TAXCLASS        1048575 non-null object\n",
      "LTFRONT         1048575 non-null float64\n",
      "LTDEPTH         1048575 non-null float64\n",
      "STORIES         1048575 non-null float64\n",
      "FULLVAL         1048575 non-null int64\n",
      "AVLAND          1048575 non-null int64\n",
      "AVTOT           1048575 non-null int64\n",
      "EXLAND          1048575 non-null int64\n",
      "EXTOT           1048575 non-null int64\n",
      "EXCD1           622642 non-null float64\n",
      "ZIP             1048575 non-null float64\n",
      "EXMPTCL         14992 non-null object\n",
      "BLDFRONT        1048575 non-null float64\n",
      "BLDDEPTH        1048575 non-null float64\n",
      "NA_COUNT_PRE    1048575 non-null int64\n",
      "BORO            1048575 non-null object\n",
      "AVG_LTFRONT     1048575 non-null float64\n",
      "AVG_LTDEPTH     1048575 non-null float64\n",
      "AVG_STORIES     1048575 non-null float64\n",
      "AVG_ZIP         1048575 non-null float64\n",
      "AVG_BLDFRONT    1048575 non-null float64\n",
      "AVG_BLDDEPTH    1048575 non-null float64\n",
      "dtypes: float64(13), int64(8), object(6)\n",
      "memory usage: 216.0+ MB\n"
     ]
    }
   ],
   "source": [
    "data_full.info()"
   ]
  },
  {
   "cell_type": "code",
   "execution_count": 129,
   "metadata": {},
   "outputs": [],
   "source": [
    "data_full['NA_COUNT_POST'] = data_full.isna().sum(axis=1)"
   ]
  },
  {
   "cell_type": "code",
   "execution_count": 130,
   "metadata": {},
   "outputs": [
    {
     "data": {
      "text/html": [
       "<div>\n",
       "<style scoped>\n",
       "    .dataframe tbody tr th:only-of-type {\n",
       "        vertical-align: middle;\n",
       "    }\n",
       "\n",
       "    .dataframe tbody tr th {\n",
       "        vertical-align: top;\n",
       "    }\n",
       "\n",
       "    .dataframe thead th {\n",
       "        text-align: right;\n",
       "    }\n",
       "</style>\n",
       "<table border=\"1\" class=\"dataframe\">\n",
       "  <thead>\n",
       "    <tr style=\"text-align: right;\">\n",
       "      <th></th>\n",
       "      <th>RECORD</th>\n",
       "      <th>LOT</th>\n",
       "      <th>LTFRONT</th>\n",
       "      <th>LTDEPTH</th>\n",
       "      <th>STORIES</th>\n",
       "      <th>FULLVAL</th>\n",
       "      <th>AVLAND</th>\n",
       "      <th>AVTOT</th>\n",
       "      <th>EXLAND</th>\n",
       "      <th>EXTOT</th>\n",
       "      <th>...</th>\n",
       "      <th>BLDFRONT</th>\n",
       "      <th>BLDDEPTH</th>\n",
       "      <th>NA_COUNT_PRE</th>\n",
       "      <th>AVG_LTFRONT</th>\n",
       "      <th>AVG_LTDEPTH</th>\n",
       "      <th>AVG_STORIES</th>\n",
       "      <th>AVG_ZIP</th>\n",
       "      <th>AVG_BLDFRONT</th>\n",
       "      <th>AVG_BLDDEPTH</th>\n",
       "      <th>NA_COUNT_POST</th>\n",
       "    </tr>\n",
       "  </thead>\n",
       "  <tbody>\n",
       "    <tr>\n",
       "      <th>count</th>\n",
       "      <td>1.048575e+06</td>\n",
       "      <td>1.048575e+06</td>\n",
       "      <td>1.048575e+06</td>\n",
       "      <td>1.048575e+06</td>\n",
       "      <td>1.048575e+06</td>\n",
       "      <td>1.048575e+06</td>\n",
       "      <td>1.048575e+06</td>\n",
       "      <td>1.048575e+06</td>\n",
       "      <td>1.048575e+06</td>\n",
       "      <td>1.048575e+06</td>\n",
       "      <td>...</td>\n",
       "      <td>1.048575e+06</td>\n",
       "      <td>1.048575e+06</td>\n",
       "      <td>1.048575e+06</td>\n",
       "      <td>1.048575e+06</td>\n",
       "      <td>1.048575e+06</td>\n",
       "      <td>1.048575e+06</td>\n",
       "      <td>1.048575e+06</td>\n",
       "      <td>1.048575e+06</td>\n",
       "      <td>1.048575e+06</td>\n",
       "      <td>1.048575e+06</td>\n",
       "    </tr>\n",
       "    <tr>\n",
       "      <th>mean</th>\n",
       "      <td>5.242880e+05</td>\n",
       "      <td>3.700924e+02</td>\n",
       "      <td>4.579210e+01</td>\n",
       "      <td>1.063619e+02</td>\n",
       "      <td>5.041698e+00</td>\n",
       "      <td>8.804877e+05</td>\n",
       "      <td>8.599503e+04</td>\n",
       "      <td>2.307582e+05</td>\n",
       "      <td>3.681179e+04</td>\n",
       "      <td>9.254381e+04</td>\n",
       "      <td>...</td>\n",
       "      <td>3.242548e+01</td>\n",
       "      <td>5.497370e+01</td>\n",
       "      <td>6.663956e+00</td>\n",
       "      <td>4.568983e+01</td>\n",
       "      <td>1.061558e+02</td>\n",
       "      <td>5.224963e+00</td>\n",
       "      <td>1.093308e+04</td>\n",
       "      <td>3.243511e+01</td>\n",
       "      <td>5.493858e+01</td>\n",
       "      <td>2.388049e+00</td>\n",
       "    </tr>\n",
       "    <tr>\n",
       "      <th>std</th>\n",
       "      <td>3.026977e+05</td>\n",
       "      <td>8.605382e+02</td>\n",
       "      <td>7.276721e+01</td>\n",
       "      <td>6.486276e+01</td>\n",
       "      <td>8.292891e+00</td>\n",
       "      <td>1.170293e+07</td>\n",
       "      <td>4.100755e+06</td>\n",
       "      <td>6.951206e+06</td>\n",
       "      <td>4.024330e+06</td>\n",
       "      <td>6.578281e+06</td>\n",
       "      <td>...</td>\n",
       "      <td>3.563474e+01</td>\n",
       "      <td>4.029975e+01</td>\n",
       "      <td>1.514894e+00</td>\n",
       "      <td>1.525503e+01</td>\n",
       "      <td>6.120366e+00</td>\n",
       "      <td>5.564073e+00</td>\n",
       "      <td>5.205395e+02</td>\n",
       "      <td>1.529673e+01</td>\n",
       "      <td>1.942839e+01</td>\n",
       "      <td>5.172707e-01</td>\n",
       "    </tr>\n",
       "    <tr>\n",
       "      <th>min</th>\n",
       "      <td>1.000000e+00</td>\n",
       "      <td>1.000000e+00</td>\n",
       "      <td>1.000000e+00</td>\n",
       "      <td>1.000000e+00</td>\n",
       "      <td>1.000000e+00</td>\n",
       "      <td>0.000000e+00</td>\n",
       "      <td>0.000000e+00</td>\n",
       "      <td>0.000000e+00</td>\n",
       "      <td>0.000000e+00</td>\n",
       "      <td>0.000000e+00</td>\n",
       "      <td>...</td>\n",
       "      <td>1.000000e+00</td>\n",
       "      <td>1.000000e+00</td>\n",
       "      <td>1.000000e+00</td>\n",
       "      <td>3.300000e+01</td>\n",
       "      <td>1.010000e+02</td>\n",
       "      <td>2.000000e+00</td>\n",
       "      <td>1.003500e+04</td>\n",
       "      <td>2.500000e+01</td>\n",
       "      <td>4.000000e+01</td>\n",
       "      <td>0.000000e+00</td>\n",
       "    </tr>\n",
       "    <tr>\n",
       "      <th>25%</th>\n",
       "      <td>2.621445e+05</td>\n",
       "      <td>2.300000e+01</td>\n",
       "      <td>2.100000e+01</td>\n",
       "      <td>1.000000e+02</td>\n",
       "      <td>2.000000e+00</td>\n",
       "      <td>3.030000e+05</td>\n",
       "      <td>9.160000e+03</td>\n",
       "      <td>1.838500e+04</td>\n",
       "      <td>0.000000e+00</td>\n",
       "      <td>0.000000e+00</td>\n",
       "      <td>...</td>\n",
       "      <td>2.000000e+01</td>\n",
       "      <td>3.700000e+01</td>\n",
       "      <td>6.000000e+00</td>\n",
       "      <td>3.300000e+01</td>\n",
       "      <td>1.010000e+02</td>\n",
       "      <td>3.000000e+00</td>\n",
       "      <td>1.046400e+04</td>\n",
       "      <td>2.500000e+01</td>\n",
       "      <td>4.400000e+01</td>\n",
       "      <td>2.000000e+00</td>\n",
       "    </tr>\n",
       "    <tr>\n",
       "      <th>50%</th>\n",
       "      <td>5.242880e+05</td>\n",
       "      <td>4.900000e+01</td>\n",
       "      <td>3.000000e+01</td>\n",
       "      <td>1.000000e+02</td>\n",
       "      <td>2.000000e+00</td>\n",
       "      <td>4.460000e+05</td>\n",
       "      <td>1.364600e+04</td>\n",
       "      <td>2.533900e+04</td>\n",
       "      <td>1.620000e+03</td>\n",
       "      <td>1.620000e+03</td>\n",
       "      <td>...</td>\n",
       "      <td>2.200000e+01</td>\n",
       "      <td>4.600000e+01</td>\n",
       "      <td>7.000000e+00</td>\n",
       "      <td>4.100000e+01</td>\n",
       "      <td>1.040000e+02</td>\n",
       "      <td>3.000000e+00</td>\n",
       "      <td>1.122000e+04</td>\n",
       "      <td>2.600000e+01</td>\n",
       "      <td>5.200000e+01</td>\n",
       "      <td>2.000000e+00</td>\n",
       "    </tr>\n",
       "    <tr>\n",
       "      <th>75%</th>\n",
       "      <td>7.864315e+05</td>\n",
       "      <td>1.460000e+02</td>\n",
       "      <td>4.900000e+01</td>\n",
       "      <td>1.040000e+02</td>\n",
       "      <td>3.000000e+00</td>\n",
       "      <td>6.190000e+05</td>\n",
       "      <td>1.970600e+04</td>\n",
       "      <td>4.609500e+04</td>\n",
       "      <td>1.620000e+03</td>\n",
       "      <td>2.090000e+03</td>\n",
       "      <td>...</td>\n",
       "      <td>2.700000e+01</td>\n",
       "      <td>5.800000e+01</td>\n",
       "      <td>8.000000e+00</td>\n",
       "      <td>4.800000e+01</td>\n",
       "      <td>1.070000e+02</td>\n",
       "      <td>3.000000e+00</td>\n",
       "      <td>1.138000e+04</td>\n",
       "      <td>2.600000e+01</td>\n",
       "      <td>5.200000e+01</td>\n",
       "      <td>3.000000e+00</td>\n",
       "    </tr>\n",
       "    <tr>\n",
       "      <th>max</th>\n",
       "      <td>1.048575e+06</td>\n",
       "      <td>9.978000e+03</td>\n",
       "      <td>9.999000e+03</td>\n",
       "      <td>9.999000e+03</td>\n",
       "      <td>1.190000e+02</td>\n",
       "      <td>6.150000e+09</td>\n",
       "      <td>2.668500e+09</td>\n",
       "      <td>4.668309e+09</td>\n",
       "      <td>2.668500e+09</td>\n",
       "      <td>4.668309e+09</td>\n",
       "      <td>...</td>\n",
       "      <td>7.575000e+03</td>\n",
       "      <td>9.393000e+03</td>\n",
       "      <td>1.200000e+01</td>\n",
       "      <td>8.100000e+01</td>\n",
       "      <td>1.200000e+02</td>\n",
       "      <td>1.900000e+01</td>\n",
       "      <td>1.138000e+04</td>\n",
       "      <td>7.000000e+01</td>\n",
       "      <td>1.020000e+02</td>\n",
       "      <td>3.000000e+00</td>\n",
       "    </tr>\n",
       "  </tbody>\n",
       "</table>\n",
       "<p>8 rows × 22 columns</p>\n",
       "</div>"
      ],
      "text/plain": [
       "             RECORD           LOT       LTFRONT       LTDEPTH       STORIES  \\\n",
       "count  1.048575e+06  1.048575e+06  1.048575e+06  1.048575e+06  1.048575e+06   \n",
       "mean   5.242880e+05  3.700924e+02  4.579210e+01  1.063619e+02  5.041698e+00   \n",
       "std    3.026977e+05  8.605382e+02  7.276721e+01  6.486276e+01  8.292891e+00   \n",
       "min    1.000000e+00  1.000000e+00  1.000000e+00  1.000000e+00  1.000000e+00   \n",
       "25%    2.621445e+05  2.300000e+01  2.100000e+01  1.000000e+02  2.000000e+00   \n",
       "50%    5.242880e+05  4.900000e+01  3.000000e+01  1.000000e+02  2.000000e+00   \n",
       "75%    7.864315e+05  1.460000e+02  4.900000e+01  1.040000e+02  3.000000e+00   \n",
       "max    1.048575e+06  9.978000e+03  9.999000e+03  9.999000e+03  1.190000e+02   \n",
       "\n",
       "            FULLVAL        AVLAND         AVTOT        EXLAND         EXTOT  \\\n",
       "count  1.048575e+06  1.048575e+06  1.048575e+06  1.048575e+06  1.048575e+06   \n",
       "mean   8.804877e+05  8.599503e+04  2.307582e+05  3.681179e+04  9.254381e+04   \n",
       "std    1.170293e+07  4.100755e+06  6.951206e+06  4.024330e+06  6.578281e+06   \n",
       "min    0.000000e+00  0.000000e+00  0.000000e+00  0.000000e+00  0.000000e+00   \n",
       "25%    3.030000e+05  9.160000e+03  1.838500e+04  0.000000e+00  0.000000e+00   \n",
       "50%    4.460000e+05  1.364600e+04  2.533900e+04  1.620000e+03  1.620000e+03   \n",
       "75%    6.190000e+05  1.970600e+04  4.609500e+04  1.620000e+03  2.090000e+03   \n",
       "max    6.150000e+09  2.668500e+09  4.668309e+09  2.668500e+09  4.668309e+09   \n",
       "\n",
       "           ...            BLDFRONT      BLDDEPTH  NA_COUNT_PRE   AVG_LTFRONT  \\\n",
       "count      ...        1.048575e+06  1.048575e+06  1.048575e+06  1.048575e+06   \n",
       "mean       ...        3.242548e+01  5.497370e+01  6.663956e+00  4.568983e+01   \n",
       "std        ...        3.563474e+01  4.029975e+01  1.514894e+00  1.525503e+01   \n",
       "min        ...        1.000000e+00  1.000000e+00  1.000000e+00  3.300000e+01   \n",
       "25%        ...        2.000000e+01  3.700000e+01  6.000000e+00  3.300000e+01   \n",
       "50%        ...        2.200000e+01  4.600000e+01  7.000000e+00  4.100000e+01   \n",
       "75%        ...        2.700000e+01  5.800000e+01  8.000000e+00  4.800000e+01   \n",
       "max        ...        7.575000e+03  9.393000e+03  1.200000e+01  8.100000e+01   \n",
       "\n",
       "        AVG_LTDEPTH   AVG_STORIES       AVG_ZIP  AVG_BLDFRONT  AVG_BLDDEPTH  \\\n",
       "count  1.048575e+06  1.048575e+06  1.048575e+06  1.048575e+06  1.048575e+06   \n",
       "mean   1.061558e+02  5.224963e+00  1.093308e+04  3.243511e+01  5.493858e+01   \n",
       "std    6.120366e+00  5.564073e+00  5.205395e+02  1.529673e+01  1.942839e+01   \n",
       "min    1.010000e+02  2.000000e+00  1.003500e+04  2.500000e+01  4.000000e+01   \n",
       "25%    1.010000e+02  3.000000e+00  1.046400e+04  2.500000e+01  4.400000e+01   \n",
       "50%    1.040000e+02  3.000000e+00  1.122000e+04  2.600000e+01  5.200000e+01   \n",
       "75%    1.070000e+02  3.000000e+00  1.138000e+04  2.600000e+01  5.200000e+01   \n",
       "max    1.200000e+02  1.900000e+01  1.138000e+04  7.000000e+01  1.020000e+02   \n",
       "\n",
       "       NA_COUNT_POST  \n",
       "count   1.048575e+06  \n",
       "mean    2.388049e+00  \n",
       "std     5.172707e-01  \n",
       "min     0.000000e+00  \n",
       "25%     2.000000e+00  \n",
       "50%     2.000000e+00  \n",
       "75%     3.000000e+00  \n",
       "max     3.000000e+00  \n",
       "\n",
       "[8 rows x 22 columns]"
      ]
     },
     "execution_count": 130,
     "metadata": {},
     "output_type": "execute_result"
    }
   ],
   "source": [
    "data_full.describe()"
   ]
  },
  {
   "cell_type": "code",
   "execution_count": 131,
   "metadata": {},
   "outputs": [],
   "source": [
    "data_full.to_csv('NY_property_v2.csv')"
   ]
  },
  {
   "cell_type": "code",
   "execution_count": 132,
   "metadata": {},
   "outputs": [],
   "source": [
    "import random"
   ]
  },
  {
   "cell_type": "code",
   "execution_count": 134,
   "metadata": {},
   "outputs": [],
   "source": [
    "array = list(np.arange(0,1048575))\n",
    "index = random.sample(array, 100)\n",
    "subset_100 = data_full.iloc[index,:]\n",
    "index = random.sample(array, 10000)\n",
    "subset_10000 = data_full.iloc[index,:]\n",
    "index = random.sample(array, 100000)\n",
    "subset_100000 = data_full.iloc[index,:]"
   ]
  },
  {
   "cell_type": "code",
   "execution_count": 135,
   "metadata": {},
   "outputs": [],
   "source": [
    "pd.DataFrame(subset_100).to_csv('subset_100_v2.csv')\n",
    "pd.DataFrame(subset_10000).to_csv('subset_10000_v2.csv')\n",
    "pd.DataFrame(subset_100000).to_csv('subset_100000_v2.csv')"
   ]
  },
  {
   "cell_type": "code",
   "execution_count": null,
   "metadata": {},
   "outputs": [],
   "source": [
    "#------ 這是分隔線--------------"
   ]
  },
  {
   "cell_type": "code",
   "execution_count": null,
   "metadata": {},
   "outputs": [],
   "source": []
  },
  {
   "cell_type": "code",
   "execution_count": null,
   "metadata": {},
   "outputs": [],
   "source": []
  },
  {
   "cell_type": "code",
   "execution_count": 76,
   "metadata": {},
   "outputs": [],
   "source": [
    "data = pd.read_csv('subset_10000.csv')\n",
    "data = data.iloc[:,1:]"
   ]
  },
  {
   "cell_type": "code",
   "execution_count": 77,
   "metadata": {},
   "outputs": [
    {
     "data": {
      "text/plain": [
       "Index(['RECORD', 'BBLE', 'BLOCK', 'LOT', 'EASEMENT', 'OWNER', 'BLDGCL',\n",
       "       'TAXCLASS', 'LTFRONT', 'LTDEPTH', 'STORIES', 'FULLVAL', 'AVLAND',\n",
       "       'AVTOT', 'EXLAND', 'EXTOT', 'EXCD1', 'STADDR', 'ZIP', 'EXMPTCL',\n",
       "       'BLDFRONT', 'BLDDEPTH', 'AVLAND2', 'AVTOT2', 'EXLAND2', 'EXTOT2',\n",
       "       'EXCD2', 'PERIOD', 'YEAR', 'VALTYPE'],\n",
       "      dtype='object')"
      ]
     },
     "execution_count": 77,
     "metadata": {},
     "output_type": "execute_result"
    }
   ],
   "source": [
    "data.columns"
   ]
  },
  {
   "cell_type": "code",
   "execution_count": 78,
   "metadata": {},
   "outputs": [],
   "source": [
    "data = data.drop(columns=['BLOCK', 'OWNER','STADDR','AVLAND2','AVTOT2','EXLAND2','EXTOT2','EXCD2','PERIOD','YEAR','VALTYPE'])"
   ]
  },
  {
   "cell_type": "code",
   "execution_count": 79,
   "metadata": {},
   "outputs": [],
   "source": [
    "data['BORO'] = data['BBLE'].str[:1]"
   ]
  },
  {
   "cell_type": "code",
   "execution_count": 80,
   "metadata": {},
   "outputs": [
    {
     "data": {
      "text/plain": [
       "Index(['RECORD', 'BBLE', 'LOT', 'EASEMENT', 'BLDGCL', 'TAXCLASS', 'LTFRONT',\n",
       "       'LTDEPTH', 'STORIES', 'FULLVAL', 'AVLAND', 'AVTOT', 'EXLAND', 'EXTOT',\n",
       "       'EXCD1', 'ZIP', 'EXMPTCL', 'BLDFRONT', 'BLDDEPTH', 'BORO'],\n",
       "      dtype='object')"
      ]
     },
     "execution_count": 80,
     "metadata": {},
     "output_type": "execute_result"
    }
   ],
   "source": [
    "data.columns"
   ]
  },
  {
   "cell_type": "code",
   "execution_count": 83,
   "metadata": {},
   "outputs": [],
   "source": [
    "def get_matched_value(string):\n",
    "    val = ref_table.loc[string]\n",
    "    return val\n",
    "\n",
    "def boro_input(col_name):\n",
    "    global ref_table\n",
    "    data[col_name]=data[col_name].replace(0, np.nan)\n",
    "    ref_table = data[['BORO',col_name]].groupby('BORO').mean()\n",
    "    ref_table = round(ref_table)\n",
    "    data['AVG_'+col_name] = data['BORO'].apply(get_matched_value) \n",
    "    data[col_name].fillna(data['AVG_'+col_name],inplace=True )  "
   ]
  },
  {
   "cell_type": "code",
   "execution_count": 84,
   "metadata": {},
   "outputs": [
    {
     "data": {
      "text/plain": [
       "count    10000.00000\n",
       "mean        36.56080\n",
       "std         71.61811\n",
       "min          0.00000\n",
       "25%         19.00000\n",
       "50%         25.00000\n",
       "75%         40.00000\n",
       "max       4318.00000\n",
       "Name: LTFRONT, dtype: float64"
      ]
     },
     "execution_count": 84,
     "metadata": {},
     "output_type": "execute_result"
    }
   ],
   "source": [
    "data['LTFRONT'].describe()"
   ]
  },
  {
   "cell_type": "code",
   "execution_count": 85,
   "metadata": {},
   "outputs": [],
   "source": [
    "boro_input('LTFRONT')"
   ]
  },
  {
   "cell_type": "code",
   "execution_count": 86,
   "metadata": {},
   "outputs": [
    {
     "data": {
      "text/plain": [
       "count    10000.000000\n",
       "mean        45.941100\n",
       "std         70.555478\n",
       "min          1.000000\n",
       "25%         21.000000\n",
       "50%         30.000000\n",
       "75%         50.000000\n",
       "max       4318.000000\n",
       "Name: LTFRONT, dtype: float64"
      ]
     },
     "execution_count": 86,
     "metadata": {},
     "output_type": "execute_result"
    }
   ],
   "source": [
    "data['LTFRONT'].describe()"
   ]
  },
  {
   "cell_type": "code",
   "execution_count": 89,
   "metadata": {},
   "outputs": [
    {
     "data": {
      "text/plain": [
       "count    9470.000000\n",
       "mean        5.028405\n",
       "std         8.339907\n",
       "min         1.000000\n",
       "25%         2.000000\n",
       "50%         2.000000\n",
       "75%         3.000000\n",
       "max        70.000000\n",
       "Name: STORIES, dtype: float64"
      ]
     },
     "execution_count": 89,
     "metadata": {},
     "output_type": "execute_result"
    }
   ],
   "source": [
    "data['STORIES'].describe()"
   ]
  },
  {
   "cell_type": "code",
   "execution_count": 90,
   "metadata": {},
   "outputs": [],
   "source": [
    "boro_input('STORIES')"
   ]
  },
  {
   "cell_type": "code",
   "execution_count": 91,
   "metadata": {},
   "outputs": [
    {
     "data": {
      "text/plain": [
       "count    10000.000000\n",
       "mean         4.996200\n",
       "std          8.194223\n",
       "min          1.000000\n",
       "25%          2.000000\n",
       "50%          2.000000\n",
       "75%          3.000000\n",
       "max         70.000000\n",
       "Name: STORIES, dtype: float64"
      ]
     },
     "execution_count": 91,
     "metadata": {},
     "output_type": "execute_result"
    }
   ],
   "source": [
    "data['STORIES'].describe()"
   ]
  },
  {
   "cell_type": "code",
   "execution_count": 39,
   "metadata": {},
   "outputs": [],
   "source": [
    "#data[data['ZIP'].isna()].sort_values('BLOCK')"
   ]
  },
  {
   "cell_type": "code",
   "execution_count": 11,
   "metadata": {},
   "outputs": [],
   "source": [
    "ref_table = data[['BORO','ZIP']].groupby('BORO').mean()"
   ]
  },
  {
   "cell_type": "code",
   "execution_count": 31,
   "metadata": {},
   "outputs": [
    {
     "data": {
      "text/html": [
       "<div>\n",
       "<style scoped>\n",
       "    .dataframe tbody tr th:only-of-type {\n",
       "        vertical-align: middle;\n",
       "    }\n",
       "\n",
       "    .dataframe tbody tr th {\n",
       "        vertical-align: top;\n",
       "    }\n",
       "\n",
       "    .dataframe thead th {\n",
       "        text-align: right;\n",
       "    }\n",
       "</style>\n",
       "<table border=\"1\" class=\"dataframe\">\n",
       "  <thead>\n",
       "    <tr style=\"text-align: right;\">\n",
       "      <th></th>\n",
       "      <th>ZIP</th>\n",
       "    </tr>\n",
       "    <tr>\n",
       "      <th>BORO</th>\n",
       "      <th></th>\n",
       "    </tr>\n",
       "  </thead>\n",
       "  <tbody>\n",
       "    <tr>\n",
       "      <th>1</th>\n",
       "      <td>10037.0</td>\n",
       "    </tr>\n",
       "    <tr>\n",
       "      <th>2</th>\n",
       "      <td>10464.0</td>\n",
       "    </tr>\n",
       "    <tr>\n",
       "      <th>3</th>\n",
       "      <td>11220.0</td>\n",
       "    </tr>\n",
       "    <tr>\n",
       "      <th>4</th>\n",
       "      <td>11383.0</td>\n",
       "    </tr>\n",
       "    <tr>\n",
       "      <th>5</th>\n",
       "      <td>10308.0</td>\n",
       "    </tr>\n",
       "  </tbody>\n",
       "</table>\n",
       "</div>"
      ],
      "text/plain": [
       "          ZIP\n",
       "BORO         \n",
       "1     10037.0\n",
       "2     10464.0\n",
       "3     11220.0\n",
       "4     11383.0\n",
       "5     10308.0"
      ]
     },
     "execution_count": 31,
     "metadata": {},
     "output_type": "execute_result"
    }
   ],
   "source": [
    "ref_table = round(ref_table)\n",
    "ref_table"
   ]
  },
  {
   "cell_type": "code",
   "execution_count": 18,
   "metadata": {},
   "outputs": [
    {
     "data": {
      "text/plain": [
       "ZIP    10036.621465\n",
       "Name: 1, dtype: float64"
      ]
     },
     "execution_count": 18,
     "metadata": {},
     "output_type": "execute_result"
    }
   ],
   "source": [
    "ref_table.loc['1']"
   ]
  },
  {
   "cell_type": "code",
   "execution_count": 23,
   "metadata": {},
   "outputs": [],
   "source": [
    "def get_matched_value(string):\n",
    "    val = ref_table.loc[string]\n",
    "    return val"
   ]
  },
  {
   "cell_type": "code",
   "execution_count": 28,
   "metadata": {},
   "outputs": [],
   "source": [
    "data['AVG_ZIP'] = data['BORO'].apply(get_matched_value) "
   ]
  },
  {
   "cell_type": "code",
   "execution_count": 37,
   "metadata": {},
   "outputs": [],
   "source": [
    "data['ZIP'].fillna(data['AVG_ZIP'],inplace=True )"
   ]
  },
  {
   "cell_type": "code",
   "execution_count": 41,
   "metadata": {},
   "outputs": [],
   "source": [
    "boro_input('STORIES')"
   ]
  },
  {
   "cell_type": "code",
   "execution_count": 44,
   "metadata": {},
   "outputs": [
    {
     "data": {
      "text/html": [
       "<div>\n",
       "<style scoped>\n",
       "    .dataframe tbody tr th:only-of-type {\n",
       "        vertical-align: middle;\n",
       "    }\n",
       "\n",
       "    .dataframe tbody tr th {\n",
       "        vertical-align: top;\n",
       "    }\n",
       "\n",
       "    .dataframe thead th {\n",
       "        text-align: right;\n",
       "    }\n",
       "</style>\n",
       "<table border=\"1\" class=\"dataframe\">\n",
       "  <thead>\n",
       "    <tr style=\"text-align: right;\">\n",
       "      <th></th>\n",
       "      <th>RECORD</th>\n",
       "      <th>BBLE</th>\n",
       "      <th>BLOCK</th>\n",
       "      <th>LOT</th>\n",
       "      <th>EASEMENT</th>\n",
       "      <th>OWNER</th>\n",
       "      <th>BLDGCL</th>\n",
       "      <th>TAXCLASS</th>\n",
       "      <th>LTFRONT</th>\n",
       "      <th>LTDEPTH</th>\n",
       "      <th>...</th>\n",
       "      <th>AVTOT2</th>\n",
       "      <th>EXLAND2</th>\n",
       "      <th>EXTOT2</th>\n",
       "      <th>EXCD2</th>\n",
       "      <th>PERIOD</th>\n",
       "      <th>YEAR</th>\n",
       "      <th>VALTYPE</th>\n",
       "      <th>BORO</th>\n",
       "      <th>AVG_ZIP</th>\n",
       "      <th>AVG_STORIES</th>\n",
       "    </tr>\n",
       "  </thead>\n",
       "  <tbody>\n",
       "  </tbody>\n",
       "</table>\n",
       "<p>0 rows × 33 columns</p>\n",
       "</div>"
      ],
      "text/plain": [
       "Empty DataFrame\n",
       "Columns: [RECORD, BBLE, BLOCK, LOT, EASEMENT, OWNER, BLDGCL, TAXCLASS, LTFRONT, LTDEPTH, STORIES, FULLVAL, AVLAND, AVTOT, EXLAND, EXTOT, EXCD1, STADDR, ZIP, EXMPTCL, BLDFRONT, BLDDEPTH, AVLAND2, AVTOT2, EXLAND2, EXTOT2, EXCD2, PERIOD, YEAR, VALTYPE, BORO, AVG_ZIP, AVG_STORIES]\n",
       "Index: []\n",
       "\n",
       "[0 rows x 33 columns]"
      ]
     },
     "execution_count": 44,
     "metadata": {},
     "output_type": "execute_result"
    }
   ],
   "source": [
    "data[data['STORIES'].isna()]"
   ]
  },
  {
   "cell_type": "code",
   "execution_count": 46,
   "metadata": {},
   "outputs": [],
   "source": [
    "#data"
   ]
  },
  {
   "cell_type": "code",
   "execution_count": null,
   "metadata": {},
   "outputs": [],
   "source": []
  }
 ],
 "metadata": {
  "kernelspec": {
   "display_name": "Python 3",
   "language": "python",
   "name": "python3"
  },
  "language_info": {
   "codemirror_mode": {
    "name": "ipython",
    "version": 3
   },
   "file_extension": ".py",
   "mimetype": "text/x-python",
   "name": "python",
   "nbconvert_exporter": "python",
   "pygments_lexer": "ipython3",
   "version": "3.6.3"
  }
 },
 "nbformat": 4,
 "nbformat_minor": 2
}
