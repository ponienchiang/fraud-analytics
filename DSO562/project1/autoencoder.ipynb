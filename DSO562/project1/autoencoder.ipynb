{
 "cells": [
  {
   "cell_type": "code",
   "execution_count": 1,
   "metadata": {},
   "outputs": [],
   "source": [
    "import os \n",
    "import pandas as pd\n",
    "import numpy as np\n",
    "import matplotlib.pyplot as plt\n",
    "import seaborn as sns"
   ]
  },
  {
   "cell_type": "code",
   "execution_count": 2,
   "metadata": {},
   "outputs": [],
   "source": [
    "path = os.getcwd()+'/Desktop/USC/s2/DSO562/project1/'"
   ]
  },
  {
   "cell_type": "code",
   "execution_count": 3,
   "metadata": {},
   "outputs": [],
   "source": [
    "data = pd.read_csv(path+'data_pca.csv')"
   ]
  },
  {
   "cell_type": "code",
   "execution_count": 4,
   "metadata": {},
   "outputs": [],
   "source": [
    "data = data.iloc[:,1:]"
   ]
  },
  {
   "cell_type": "code",
   "execution_count": 5,
   "metadata": {},
   "outputs": [],
   "source": [
    "from sklearn import preprocessing"
   ]
  },
  {
   "cell_type": "code",
   "execution_count": 6,
   "metadata": {},
   "outputs": [],
   "source": [
    "scaler  = preprocessing.StandardScaler().fit(data)\n",
    "data = scaler.transform(data)"
   ]
  },
  {
   "cell_type": "code",
   "execution_count": 7,
   "metadata": {},
   "outputs": [
    {
     "data": {
      "text/plain": [
       "numpy.ndarray"
      ]
     },
     "execution_count": 7,
     "metadata": {},
     "output_type": "execute_result"
    }
   ],
   "source": [
    "type(data)"
   ]
  },
  {
   "cell_type": "code",
   "execution_count": 8,
   "metadata": {},
   "outputs": [
    {
     "name": "stdout",
     "output_type": "stream",
     "text": [
      "variable 0's mean is 0.00\n",
      "variable 1's mean is -0.00\n",
      "variable 2's mean is -0.00\n",
      "variable 3's mean is 0.00\n",
      "variable 4's mean is -0.00\n",
      "variable 5's mean is 0.00\n",
      "variable 6's mean is -0.00\n",
      "variable 7's mean is -0.00\n",
      "variable 8's mean is -0.00\n",
      "variable 9's mean is 0.00\n"
     ]
    }
   ],
   "source": [
    "for var,mean in enumerate([data[:,i].mean() for i in range(10)]):\n",
    "    print ('variable {}\\'s mean is {:.2f}'.format(var,mean) )"
   ]
  },
  {
   "cell_type": "code",
   "execution_count": 13,
   "metadata": {},
   "outputs": [
    {
     "name": "stderr",
     "output_type": "stream",
     "text": [
      "/Library/Frameworks/Python.framework/Versions/3.6/lib/python3.6/site-packages/h5py/__init__.py:36: FutureWarning: Conversion of the second argument of issubdtype from `float` to `np.floating` is deprecated. In future, it will be treated as `np.float64 == np.dtype(float).type`.\n",
      "  from ._conv import register_converters as _register_converters\n",
      "Using TensorFlow backend.\n",
      "/Library/Frameworks/Python.framework/Versions/3.6/lib/python3.6/importlib/_bootstrap.py:219: RuntimeWarning: compiletime version 3.5 of module 'tensorflow.python.framework.fast_tensor_util' does not match runtime version 3.6\n",
      "  return f(*args, **kwds)\n"
     ]
    }
   ],
   "source": [
    "from keras.models import Model, load_model\n",
    "from keras.layers import Input, Dense\n",
    "from keras.callbacks import ModelCheckpoint, TensorBoard\n",
    "from keras import regularizers"
   ]
  },
  {
   "cell_type": "code",
   "execution_count": 21,
   "metadata": {},
   "outputs": [],
   "source": [
    "from sklearn.model_selection import train_test_split\n",
    "seed = 46\n",
    "data_train, data_test = train_test_split(data, test_size=0.2, random_state=seed)"
   ]
  },
  {
   "cell_type": "code",
   "execution_count": 22,
   "metadata": {},
   "outputs": [
    {
     "data": {
      "text/plain": [
       "(838860, 10)"
      ]
     },
     "execution_count": 22,
     "metadata": {},
     "output_type": "execute_result"
    }
   ],
   "source": [
    "data_train.shape"
   ]
  },
  {
   "cell_type": "code",
   "execution_count": 23,
   "metadata": {},
   "outputs": [
    {
     "data": {
      "text/plain": [
       "(209715, 10)"
      ]
     },
     "execution_count": 23,
     "metadata": {},
     "output_type": "execute_result"
    }
   ],
   "source": [
    "data_test.shape"
   ]
  },
  {
   "cell_type": "code",
   "execution_count": 24,
   "metadata": {},
   "outputs": [],
   "source": [
    "input_dim =data_train.shape[1]\n",
    "encoding_dim = int(input_dim/2)"
   ]
  },
  {
   "cell_type": "code",
   "execution_count": 25,
   "metadata": {},
   "outputs": [],
   "source": [
    "input_layer = Input(shape=(input_dim, ))\n",
    "encoder = Dense(encoding_dim, activation=\"tanh\", \n",
    "                activity_regularizer=regularizers.l1(10e-5))(input_layer)\n",
    "encoder = Dense(int(encoding_dim / 2), activation=\"relu\")(encoder)\n",
    "decoder = Dense(int(encoding_dim / 2), activation='tanh')(encoder)\n",
    "decoder = Dense(input_dim, activation='relu')(decoder)\n",
    "autoencoder = Model(inputs=input_layer, outputs=decoder)"
   ]
  },
  {
   "cell_type": "code",
   "execution_count": 29,
   "metadata": {},
   "outputs": [
    {
     "name": "stdout",
     "output_type": "stream",
     "text": [
      "Train on 838860 samples, validate on 209715 samples\n",
      "Epoch 1/50\n",
      "838860/838860 [==============================] - 5s - loss: 0.7512 - acc: 0.5579 - val_loss: 0.6800 - val_acc: 0.5592\n",
      "Epoch 2/50\n",
      "838860/838860 [==============================] - 5s - loss: 0.7464 - acc: 0.5585 - val_loss: 0.6766 - val_acc: 0.5616\n",
      "Epoch 3/50\n",
      "838860/838860 [==============================] - 5s - loss: 0.7444 - acc: 0.5582 - val_loss: 0.6769 - val_acc: 0.5590\n",
      "Epoch 4/50\n",
      "838860/838860 [==============================] - 4s - loss: 0.7442 - acc: 0.5570 - val_loss: 0.6743 - val_acc: 0.5590\n",
      "Epoch 5/50\n",
      "838860/838860 [==============================] - 5s - loss: 0.7405 - acc: 0.5583 - val_loss: 0.6732 - val_acc: 0.5590\n",
      "Epoch 6/50\n",
      "838860/838860 [==============================] - 6s - loss: 0.7401 - acc: 0.5580 - val_loss: 0.6727 - val_acc: 0.5590\n",
      "Epoch 7/50\n",
      "838860/838860 [==============================] - 5s - loss: 0.7394 - acc: 0.5583 - val_loss: 0.6727 - val_acc: 0.5589\n",
      "Epoch 8/50\n",
      "838860/838860 [==============================] - 6s - loss: 0.7384 - acc: 0.5585 - val_loss: 0.6712 - val_acc: 0.5599\n",
      "Epoch 9/50\n",
      "838860/838860 [==============================] - 5s - loss: 0.7392 - acc: 0.5584 - val_loss: 0.6718 - val_acc: 0.5624\n",
      "Epoch 10/50\n",
      "838860/838860 [==============================] - 6s - loss: 0.7387 - acc: 0.5579 - val_loss: 0.6710 - val_acc: 0.5599\n",
      "Epoch 11/50\n",
      "838860/838860 [==============================] - 5s - loss: 0.7367 - acc: 0.5591 - val_loss: 0.6709 - val_acc: 0.5625\n",
      "Epoch 12/50\n",
      "838860/838860 [==============================] - 5s - loss: 0.7370 - acc: 0.5587 - val_loss: 0.6700 - val_acc: 0.5590\n",
      "Epoch 13/50\n",
      "838860/838860 [==============================] - 5s - loss: 0.7355 - acc: 0.5589 - val_loss: 0.6688 - val_acc: 0.5625\n",
      "Epoch 14/50\n",
      "838860/838860 [==============================] - 4s - loss: 0.7346 - acc: 0.5587 - val_loss: 0.6686 - val_acc: 0.5599\n",
      "Epoch 15/50\n",
      "838860/838860 [==============================] - 5s - loss: 0.7344 - acc: 0.5589 - val_loss: 0.6678 - val_acc: 0.5590\n",
      "Epoch 16/50\n",
      "838860/838860 [==============================] - 5s - loss: 0.7353 - acc: 0.5586 - val_loss: 0.6676 - val_acc: 0.5599\n",
      "Epoch 17/50\n",
      "838860/838860 [==============================] - 5s - loss: 0.7335 - acc: 0.5586 - val_loss: 0.6670 - val_acc: 0.5599\n",
      "Epoch 18/50\n",
      "838860/838860 [==============================] - 5s - loss: 0.7406 - acc: 0.5570 - val_loss: 0.6694 - val_acc: 0.5598\n",
      "Epoch 19/50\n",
      "838860/838860 [==============================] - 5s - loss: 0.7357 - acc: 0.5600 - val_loss: 0.6693 - val_acc: 0.5617\n",
      "Epoch 20/50\n",
      "838860/838860 [==============================] - 5s - loss: 0.7338 - acc: 0.5597 - val_loss: 0.6679 - val_acc: 0.5625\n",
      "Epoch 21/50\n",
      "838860/838860 [==============================] - 8s - loss: 0.7351 - acc: 0.5590 - val_loss: 0.6715 - val_acc: 0.5609\n",
      "Epoch 22/50\n",
      "838860/838860 [==============================] - 5s - loss: 0.7344 - acc: 0.5596 - val_loss: 0.6884 - val_acc: 0.5931\n",
      "Epoch 23/50\n",
      "838860/838860 [==============================] - 5s - loss: 0.7358 - acc: 0.5617 - val_loss: 0.6668 - val_acc: 0.5625\n",
      "Epoch 24/50\n",
      "838860/838860 [==============================] - 5s - loss: 0.7322 - acc: 0.5585 - val_loss: 0.6665 - val_acc: 0.5651\n",
      "Epoch 25/50\n",
      "838860/838860 [==============================] - 5s - loss: 0.7318 - acc: 0.5587 - val_loss: 0.6660 - val_acc: 0.5599\n",
      "Epoch 26/50\n",
      "838860/838860 [==============================] - 5s - loss: 0.7315 - acc: 0.5588 - val_loss: 0.6656 - val_acc: 0.5625\n",
      "Epoch 27/50\n",
      "838860/838860 [==============================] - 4s - loss: 0.7399 - acc: 0.5573 - val_loss: 0.6717 - val_acc: 0.5592\n",
      "Epoch 28/50\n",
      "838860/838860 [==============================] - 4s - loss: 0.7369 - acc: 0.5596 - val_loss: 0.6675 - val_acc: 0.5564\n",
      "Epoch 29/50\n",
      "838860/838860 [==============================] - 4s - loss: 0.7339 - acc: 0.5581 - val_loss: 0.6659 - val_acc: 0.5577\n",
      "Epoch 30/50\n",
      "838860/838860 [==============================] - 4s - loss: 0.7323 - acc: 0.5582 - val_loss: 0.6667 - val_acc: 0.5590\n",
      "Epoch 31/50\n",
      "838860/838860 [==============================] - 4s - loss: 0.7313 - acc: 0.5584 - val_loss: 0.6653 - val_acc: 0.5616\n",
      "Epoch 32/50\n",
      "838860/838860 [==============================] - 4s - loss: 0.7372 - acc: 0.5568 - val_loss: 0.6686 - val_acc: 0.5590\n",
      "Epoch 33/50\n",
      "838860/838860 [==============================] - 4s - loss: 0.7316 - acc: 0.5571 - val_loss: 0.6663 - val_acc: 0.5564\n",
      "Epoch 34/50\n",
      "838860/838860 [==============================] - 4s - loss: 0.7399 - acc: 0.5569 - val_loss: 0.6707 - val_acc: 0.5564\n",
      "Epoch 35/50\n",
      "838860/838860 [==============================] - 4s - loss: 0.7340 - acc: 0.5588 - val_loss: 0.6683 - val_acc: 0.5625\n",
      "Epoch 36/50\n",
      "838860/838860 [==============================] - 4s - loss: 0.7354 - acc: 0.5571 - val_loss: 0.6666 - val_acc: 0.5629\n",
      "Epoch 37/50\n",
      "838860/838860 [==============================] - 4s - loss: 0.7320 - acc: 0.5589 - val_loss: 0.6661 - val_acc: 0.5577\n",
      "Epoch 38/50\n",
      "838860/838860 [==============================] - 4s - loss: 0.7319 - acc: 0.5598 - val_loss: 0.6662 - val_acc: 0.5590\n",
      "Epoch 39/50\n",
      "838860/838860 [==============================] - 4s - loss: 0.7306 - acc: 0.5597 - val_loss: 0.6672 - val_acc: 0.5625\n",
      "Epoch 40/50\n",
      "838860/838860 [==============================] - 4s - loss: 0.7314 - acc: 0.5599 - val_loss: 0.6652 - val_acc: 0.5616\n",
      "Epoch 41/50\n",
      "838860/838860 [==============================] - 4s - loss: 0.7323 - acc: 0.5596 - val_loss: 0.6676 - val_acc: 0.5590\n",
      "Epoch 42/50\n",
      "838860/838860 [==============================] - 4s - loss: 0.7318 - acc: 0.5580 - val_loss: 0.6672 - val_acc: 0.5625\n",
      "Epoch 43/50\n",
      "838860/838860 [==============================] - 4s - loss: 0.7407 - acc: 0.5572 - val_loss: 0.6706 - val_acc: 0.5565\n",
      "Epoch 44/50\n",
      "838860/838860 [==============================] - 4s - loss: 0.7346 - acc: 0.5565 - val_loss: 0.6709 - val_acc: 0.5599\n",
      "Epoch 45/50\n",
      "838860/838860 [==============================] - 5s - loss: 0.7333 - acc: 0.5603 - val_loss: 0.6673 - val_acc: 0.5590\n",
      "Epoch 46/50\n",
      "838860/838860 [==============================] - 5s - loss: 0.7324 - acc: 0.5590 - val_loss: 0.6661 - val_acc: 0.5629\n",
      "Epoch 47/50\n",
      "838860/838860 [==============================] - 5s - loss: 0.7335 - acc: 0.5599 - val_loss: 0.6662 - val_acc: 0.5577\n",
      "Epoch 48/50\n",
      "838860/838860 [==============================] - 6s - loss: 0.7317 - acc: 0.5591 - val_loss: 0.6662 - val_acc: 0.5599\n",
      "Epoch 49/50\n",
      "838860/838860 [==============================] - 5s - loss: 0.7299 - acc: 0.5590 - val_loss: 0.6651 - val_acc: 0.5651\n",
      "Epoch 50/50\n",
      "838860/838860 [==============================] - 6s - loss: 0.7307 - acc: 0.5587 - val_loss: 0.6653 - val_acc: 0.5564\n"
     ]
    }
   ],
   "source": [
    "nb_epoch = 50\n",
    "batch_size = 500\n",
    "autoencoder.compile(optimizer='adam', \n",
    "                    loss='mean_squared_error', \n",
    "                    metrics=['accuracy'])\n",
    "history = autoencoder.fit(data_train, data_train,\n",
    "                    epochs=nb_epoch,\n",
    "                    batch_size=batch_size,\n",
    "                    shuffle=True,\n",
    "                    validation_data=(data_test, data_test),\n",
    "                    verbose=1)"
   ]
  },
  {
   "cell_type": "code",
   "execution_count": 31,
   "metadata": {},
   "outputs": [
    {
     "data": {
      "image/png": "[encoded data removed]",
      "text/plain": [
       "<matplotlib.figure.Figure at 0x11cf8fa90>"
      ]
     },
     "metadata": {},
     "output_type": "display_data"
    }
   ],
   "source": [
    "plt.plot(history.history['loss'])\n",
    "plt.plot(history.history['val_loss'])\n",
    "plt.title('model loss')\n",
    "plt.ylabel('loss')\n",
    "plt.xlabel('epoch')\n",
    "plt.legend(['train', 'test'], loc='upper right')\n",
    "plt.show()"
   ]
  },
  {
   "cell_type": "code",
   "execution_count": 32,
   "metadata": {},
   "outputs": [],
   "source": [
    "predictions = autoencoder.predict(data)"
   ]
  },
  {
   "cell_type": "code",
   "execution_count": 35,
   "metadata": {},
   "outputs": [],
   "source": [
    "mse = np.mean(np.power(data - predictions, 2), axis=1)"
   ]
  },
  {
   "cell_type": "code",
   "execution_count": 36,
   "metadata": {},
   "outputs": [
    {
     "data": {
      "text/plain": [
       "array([0.27023937, 0.06400142, 0.30289885, ..., 1.66435044, 0.17100302,\n",
       "       0.11059602])"
      ]
     },
     "execution_count": 36,
     "metadata": {},
     "output_type": "execute_result"
    }
   ],
   "source": [
    "mse"
   ]
  },
  {
   "cell_type": "code",
   "execution_count": 40,
   "metadata": {},
   "outputs": [
    {
     "data": {
      "text/plain": [
       "1048575"
      ]
     },
     "execution_count": 40,
     "metadata": {},
     "output_type": "execute_result"
    }
   ],
   "source": [
    "len(mse)"
   ]
  },
  {
   "cell_type": "code",
   "execution_count": 48,
   "metadata": {},
   "outputs": [
    {
     "data": {
      "text/plain": [
       "array([[2.70239373e-01, 6.40014211e-02, 3.02898848e-01, ...,\n",
       "        1.66435044e+00, 1.71003025e-01, 1.10596021e-01],\n",
       "       [0.00000000e+00, 1.00000000e+00, 2.00000000e+00, ...,\n",
       "        1.04857200e+06, 1.04857300e+06, 1.04857400e+06]])"
      ]
     },
     "execution_count": 48,
     "metadata": {},
     "output_type": "execute_result"
    }
   ],
   "source": [
    "np.vstack((mse,np.arange(1048575)))"
   ]
  },
  {
   "cell_type": "code",
   "execution_count": 52,
   "metadata": {},
   "outputs": [],
   "source": [
    "mse_sort = sorted(zip(mse,np.arange(1048575)))"
   ]
  },
  {
   "cell_type": "code",
   "execution_count": 54,
   "metadata": {},
   "outputs": [
    {
     "data": {
      "text/plain": [
       "[(3536.4955676714126, 28608),\n",
       " (3538.8340897336775, 81045),\n",
       " (3538.8340897336775, 97788),\n",
       " (3538.8340897336775, 210764),\n",
       " (3538.8340897336775, 262368),\n",
       " (3538.8340897336775, 815071),\n",
       " (3538.8340897336775, 846614),\n",
       " (5036.072313574934, 246250),\n",
       " (5036.072313574934, 508285),\n",
       " (37490.517606404515, 22920)]"
      ]
     },
     "execution_count": 54,
     "metadata": {},
     "output_type": "execute_result"
    }
   ],
   "source": [
    "mse_sort[-10:]"
   ]
  },
  {
   "cell_type": "code",
   "execution_count": 75,
   "metadata": {},
   "outputs": [],
   "source": [
    "this_list = [e2 for e1,e2 in mse_sort[-10:]]"
   ]
  },
  {
   "cell_type": "code",
   "execution_count": 55,
   "metadata": {},
   "outputs": [],
   "source": [
    "another_list = [ 22920,  28608,  81045,  97788, 210764, 246250, 262368, 456014, 508285, 815071, 846614]"
   ]
  },
  {
   "cell_type": "code",
   "execution_count": 76,
   "metadata": {},
   "outputs": [
    {
     "data": {
      "text/plain": [
       "[28608, 81045, 97788, 210764, 262368, 815071, 846614, 246250, 508285, 22920]"
      ]
     },
     "execution_count": 76,
     "metadata": {},
     "output_type": "execute_result"
    }
   ],
   "source": [
    "this_list"
   ]
  },
  {
   "cell_type": "code",
   "execution_count": 62,
   "metadata": {},
   "outputs": [
    {
     "data": {
      "text/plain": [
       "10"
      ]
     },
     "execution_count": 62,
     "metadata": {},
     "output_type": "execute_result"
    }
   ],
   "source": [
    "len(set(this_list) & set(another_list))"
   ]
  },
  {
   "cell_type": "code",
   "execution_count": 63,
   "metadata": {},
   "outputs": [],
   "source": [
    "that_list = [22920, 246250, 508285, 81045, 97788, 210764, 262368, 815071, 846614, 456014]"
   ]
  },
  {
   "cell_type": "code",
   "execution_count": 80,
   "metadata": {},
   "outputs": [
    {
     "data": {
      "text/plain": [
       "{28608, 456014}"
      ]
     },
     "execution_count": 80,
     "metadata": {},
     "output_type": "execute_result"
    }
   ],
   "source": [
    "set(this_list) ^ set(that_list)"
   ]
  },
  {
   "cell_type": "code",
   "execution_count": 81,
   "metadata": {},
   "outputs": [
    {
     "data": {
      "text/plain": [
       "[720621,\n",
       " 808266,\n",
       " 828889,\n",
       " 830419,\n",
       " 837496,\n",
       " 876350,\n",
       " 970851,\n",
       " 1007689,\n",
       " 545595,\n",
       " 456014,\n",
       " 28608,\n",
       " 81045,\n",
       " 97788,\n",
       " 210764,\n",
       " 262368,\n",
       " 815071,\n",
       " 846614,\n",
       " 246250,\n",
       " 508285,\n",
       " 22920]"
      ]
     },
     "execution_count": 81,
     "metadata": {},
     "output_type": "execute_result"
    }
   ],
   "source": [
    "[e2 for e1,e2 in mse_sort[-20:]]"
   ]
  },
  {
   "cell_type": "code",
   "execution_count": 89,
   "metadata": {},
   "outputs": [],
   "source": [
    "df = pd.DataFrame(mse_sort,columns=['MSE','RECORD'])"
   ]
  },
  {
   "cell_type": "code",
   "execution_count": 90,
   "metadata": {},
   "outputs": [],
   "source": [
    "df = df.iloc[:,[1,0]]"
   ]
  },
  {
   "cell_type": "code",
   "execution_count": 92,
   "metadata": {},
   "outputs": [
    {
     "data": {
      "text/html": [
       "<div>\n",
       "<style scoped>\n",
       "    .dataframe tbody tr th:only-of-type {\n",
       "        vertical-align: middle;\n",
       "    }\n",
       "\n",
       "    .dataframe tbody tr th {\n",
       "        vertical-align: top;\n",
       "    }\n",
       "\n",
       "    .dataframe thead th {\n",
       "        text-align: right;\n",
       "    }\n",
       "</style>\n",
       "<table border=\"1\" class=\"dataframe\">\n",
       "  <thead>\n",
       "    <tr style=\"text-align: right;\">\n",
       "      <th></th>\n",
       "      <th>RECORD</th>\n",
       "      <th>MSE</th>\n",
       "    </tr>\n",
       "  </thead>\n",
       "  <tbody>\n",
       "    <tr>\n",
       "      <th>1048570</th>\n",
       "      <td>815071</td>\n",
       "      <td>3538.834090</td>\n",
       "    </tr>\n",
       "    <tr>\n",
       "      <th>1048571</th>\n",
       "      <td>846614</td>\n",
       "      <td>3538.834090</td>\n",
       "    </tr>\n",
       "    <tr>\n",
       "      <th>1048572</th>\n",
       "      <td>246250</td>\n",
       "      <td>5036.072314</td>\n",
       "    </tr>\n",
       "    <tr>\n",
       "      <th>1048573</th>\n",
       "      <td>508285</td>\n",
       "      <td>5036.072314</td>\n",
       "    </tr>\n",
       "    <tr>\n",
       "      <th>1048574</th>\n",
       "      <td>22920</td>\n",
       "      <td>37490.517606</td>\n",
       "    </tr>\n",
       "  </tbody>\n",
       "</table>\n",
       "</div>"
      ],
      "text/plain": [
       "         RECORD           MSE\n",
       "1048570  815071   3538.834090\n",
       "1048571  846614   3538.834090\n",
       "1048572  246250   5036.072314\n",
       "1048573  508285   5036.072314\n",
       "1048574   22920  37490.517606"
      ]
     },
     "execution_count": 92,
     "metadata": {},
     "output_type": "execute_result"
    }
   ],
   "source": [
    "df.tail()"
   ]
  },
  {
   "cell_type": "code",
   "execution_count": 93,
   "metadata": {},
   "outputs": [],
   "source": [
    "df.to_csv(path+'autoencoder_error_score.csv')"
   ]
  },
  {
   "cell_type": "code",
   "execution_count": null,
   "metadata": {},
   "outputs": [],
   "source": []
  }
 ],
 "metadata": {
  "kernelspec": {
   "display_name": "Python 3",
   "language": "python",
   "name": "python3"
  },
  "language_info": {
   "codemirror_mode": {
    "name": "ipython",
    "version": 3
   },
   "file_extension": ".py",
   "mimetype": "text/x-python",
   "name": "python",
   "nbconvert_exporter": "python",
   "pygments_lexer": "ipython3",
   "version": "3.6.3"
  }
 },
 "nbformat": 4,
 "nbformat_minor": 2
}
