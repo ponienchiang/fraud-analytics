{
 "cells": [
  {
   "cell_type": "code",
   "execution_count": 1,
   "metadata": {},
   "outputs": [],
   "source": [
    "import pandas as pd \n",
    "import numpy as np\n",
    "import re,os\n",
    "from sklearn import preprocessing \n",
    "%matplotlib inline"
   ]
  },
  {
   "cell_type": "code",
   "execution_count": 2,
   "metadata": {},
   "outputs": [],
   "source": [
    "#file = (os.getcwd()+'/NY Property 1 million.xlsx').replace('w4','w2')"
   ]
  },
  {
   "cell_type": "code",
   "execution_count": 4,
   "metadata": {},
   "outputs": [
    {
     "name": "stdout",
     "output_type": "stream",
     "text": [
      "CPU times: user 1.13 s, sys: 175 ms, total: 1.31 s\n",
      "Wall time: 1.35 s\n"
     ]
    }
   ],
   "source": [
    "%%time\n",
    "#data = pd.read_excel(file)\n",
    "data = pd.read_csv('owners.csv')"
   ]
  },
  {
   "cell_type": "code",
   "execution_count": 7,
   "metadata": {},
   "outputs": [],
   "source": [
    "owner=list(data['OWNER'].astype('str'))"
   ]
  },
  {
   "cell_type": "code",
   "execution_count": 4,
   "metadata": {},
   "outputs": [
    {
     "name": "stdout",
     "output_type": "stream",
     "text": [
      "43\n"
     ]
    }
   ],
   "source": [
    "count = 0\n",
    "names = []\n",
    "for name in owner:\n",
    "    if 'john' in name.lower() and 'smith' in name.lower() :\n",
    "        count+=1\n",
    "        names.append(name)\n",
    "print(count)"
   ]
  },
  {
   "cell_type": "code",
   "execution_count": 5,
   "metadata": {},
   "outputs": [
    {
     "data": {
      "text/plain": [
       "['JOHN SMITH',\n",
       " 'SMITH, JOHN H',\n",
       " 'JOHN SMITH',\n",
       " 'SMITH, JOHN L',\n",
       " 'JOHN L SMITH',\n",
       " 'SMITH, JOHNNY',\n",
       " 'SMITH, JOHN',\n",
       " 'SMITH, JR., JOHN L',\n",
       " 'SMITH JOHN J',\n",
       " 'JOHN J SMITH',\n",
       " 'JOHN SMITH',\n",
       " 'JOHN L SMITH',\n",
       " 'SMITH, JOHN CARL',\n",
       " 'JOHN W SMITH',\n",
       " 'SMITH JOHN',\n",
       " 'SMITH, JOHN P',\n",
       " 'SMITH, JOHN E',\n",
       " 'JOHN SMITH JR',\n",
       " 'SMITH JOHN R',\n",
       " 'SMITH JOHN',\n",
       " 'SMITH, JOHN W',\n",
       " 'JOHN SMITH',\n",
       " 'SMITH, JOHN',\n",
       " 'JOHN A SMITH',\n",
       " 'SMITH, GREOGROY JOHN',\n",
       " 'SMITH, JOHN L',\n",
       " 'JOHN SMITH',\n",
       " 'JOHN L SMITH',\n",
       " 'JOHN C SMITH',\n",
       " 'JOHN L SMITH',\n",
       " 'JOHN T SMITH',\n",
       " 'SMITH JOHNSON, CAROL',\n",
       " 'JOHN P SMITH',\n",
       " 'JOHN SMITH',\n",
       " 'JOHN SMITH',\n",
       " 'SMITH JOHN',\n",
       " 'JOHN L SMITH',\n",
       " 'HYSMITH, JOHN W',\n",
       " 'JOHN W SMITH',\n",
       " 'JOHN W SMITH',\n",
       " 'SMITH, JOHN H',\n",
       " 'SMITH, JOHN OLIVER',\n",
       " 'SMITH, JOHN, C.']"
      ]
     },
     "execution_count": 5,
     "metadata": {},
     "output_type": "execute_result"
    }
   ],
   "source": [
    "#this mehod includes johnson and john smith, as long as something else like HYSMITH, JOHN\n",
    "names "
   ]
  },
  {
   "cell_type": "code",
   "execution_count": 6,
   "metadata": {},
   "outputs": [],
   "source": [
    "from difflib import SequenceMatcher\n",
    "def similar(a, b):\n",
    "    return SequenceMatcher(None, a, b).ratio()"
   ]
  },
  {
   "cell_type": "code",
   "execution_count": 15,
   "metadata": {},
   "outputs": [
    {
     "name": "stdout",
     "output_type": "stream",
     "text": [
      "51\n"
     ]
    }
   ],
   "source": [
    "#this process is quite slow though\n",
    "count_matcher = 0\n",
    "names_matcher = []\n",
    "\n",
    "for name in owner:\n",
    "    name_cleaned = name.lower().replace(',','').replace(' ','')\n",
    "    if any([similar(name_cleaned, 'johnsmith') > 0.8, similar(name_cleaned, 'smithjohn') > 0.8,\n",
    "           similar(name_cleaned, 'johnnysmith') > 0.8, similar(name_cleaned, 'smithjohnny') > 0.8]):\n",
    "        count_matcher+=1\n",
    "        names_matcher.append(name)\n",
    "print(count_matcher)"
   ]
  },
  {
   "cell_type": "code",
   "execution_count": 16,
   "metadata": {},
   "outputs": [
    {
     "data": {
      "text/plain": [
       "['JOHN SMITH',\n",
       " 'SMITH, JOHN H',\n",
       " 'JOHN SMITH',\n",
       " 'SMITH, JOHN L',\n",
       " 'JOHN L SMITH',\n",
       " 'SMITH, JOHNNY',\n",
       " 'SMITH, JOHN',\n",
       " 'SMITH, JR., JOHN L',\n",
       " 'SMITH JOHN J',\n",
       " 'JOHN J SMITH',\n",
       " 'SMITH, JOAN E',\n",
       " 'JOHN SMITH',\n",
       " 'JOHN L SMITH',\n",
       " 'SMITH, JOAN',\n",
       " 'SMITH, JOAN T',\n",
       " 'SMITH, SONNY',\n",
       " 'SMITH, JOE',\n",
       " 'SMITH, JOHN CARL',\n",
       " 'JOHN W SMITH',\n",
       " 'SMITH JOHN',\n",
       " 'SMITH, JOHN P',\n",
       " 'SMITH, JOHN E',\n",
       " 'SMITH, JOAN P',\n",
       " 'JOHN SMITH JR',\n",
       " 'SMITH JOHN R',\n",
       " 'SMITH JOHN',\n",
       " 'SMITH, JOHN W',\n",
       " 'JOAN SMITH',\n",
       " 'JOHN SMITH',\n",
       " 'SMITH, JOHN',\n",
       " 'JOHN A SMITH',\n",
       " 'SMITH, JOHN L',\n",
       " 'JOHN SMITH',\n",
       " 'JOHN L SMITH',\n",
       " 'JOANNE SMITH',\n",
       " 'JOHN C SMITH',\n",
       " 'RON SMITH',\n",
       " 'JOHN L SMITH',\n",
       " 'JOHN SAITH',\n",
       " 'JOHN T SMITH',\n",
       " 'JOHN P SMITH',\n",
       " 'JOHN SMITH',\n",
       " 'SMITH JOANNE',\n",
       " 'JOHN SMITH',\n",
       " 'SMITH JOHN',\n",
       " 'JOHN L SMITH',\n",
       " 'HYSMITH, JOHN W',\n",
       " 'JOHN W SMITH',\n",
       " 'JOHN W SMITH',\n",
       " 'SMITH, JOHN H',\n",
       " 'SMITH, JOHN, C.']"
      ]
     },
     "execution_count": 16,
     "metadata": {},
     "output_type": "execute_result"
    }
   ],
   "source": [
    "names_matcher"
   ]
  },
  {
   "cell_type": "code",
   "execution_count": 5,
   "metadata": {},
   "outputs": [],
   "source": [
    "import nltk"
   ]
  },
  {
   "cell_type": "code",
   "execution_count": 8,
   "metadata": {},
   "outputs": [
    {
     "name": "stdout",
     "output_type": "stream",
     "text": [
      "41\n"
     ]
    }
   ],
   "source": [
    "count_nltk = 0\n",
    "names_nltk = []\n",
    "\n",
    "#nltk takes time as well\n",
    "\n",
    "for name in owner:\n",
    "    token = nltk.word_tokenize(name.lower())\n",
    "    if ('john' in token and 'smith' in token) or ('johnny' in token and 'smith' in token):\n",
    "        count_nltk += 1\n",
    "        names_nltk.append(name)\n",
    "print(count_nltk)"
   ]
  },
  {
   "cell_type": "code",
   "execution_count": 19,
   "metadata": {},
   "outputs": [
    {
     "data": {
      "text/plain": [
       "['JOHN SMITH',\n",
       " 'SMITH, JOHN H',\n",
       " 'JOHN SMITH',\n",
       " 'SMITH, JOHN L',\n",
       " 'JOHN L SMITH',\n",
       " 'SMITH, JOHNNY',\n",
       " 'SMITH, JOHN',\n",
       " 'SMITH, JR., JOHN L',\n",
       " 'SMITH JOHN J',\n",
       " 'JOHN J SMITH',\n",
       " 'JOHN SMITH',\n",
       " 'JOHN L SMITH',\n",
       " 'SMITH, JOHN CARL',\n",
       " 'JOHN W SMITH',\n",
       " 'SMITH JOHN',\n",
       " 'SMITH, JOHN P',\n",
       " 'SMITH, JOHN E',\n",
       " 'JOHN SMITH JR',\n",
       " 'SMITH JOHN R',\n",
       " 'SMITH JOHN',\n",
       " 'SMITH, JOHN W',\n",
       " 'JOHN SMITH',\n",
       " 'SMITH, JOHN',\n",
       " 'JOHN A SMITH',\n",
       " 'SMITH, GREOGROY JOHN',\n",
       " 'SMITH, JOHN L',\n",
       " 'JOHN SMITH',\n",
       " 'JOHN L SMITH',\n",
       " 'JOHN C SMITH',\n",
       " 'JOHN L SMITH',\n",
       " 'JOHN T SMITH',\n",
       " 'JOHN P SMITH',\n",
       " 'JOHN SMITH',\n",
       " 'JOHN SMITH',\n",
       " 'SMITH JOHN',\n",
       " 'JOHN L SMITH',\n",
       " 'JOHN W SMITH',\n",
       " 'JOHN W SMITH',\n",
       " 'SMITH, JOHN H',\n",
       " 'SMITH, JOHN OLIVER',\n",
       " 'SMITH, JOHN, C.']"
      ]
     },
     "execution_count": 19,
     "metadata": {},
     "output_type": "execute_result"
    }
   ],
   "source": [
    "names_nltk"
   ]
  },
  {
   "cell_type": "code",
   "execution_count": 18,
   "metadata": {},
   "outputs": [],
   "source": [
    "df = pd.DataFrame(names_nltk,columns=['matched_names'])"
   ]
  },
  {
   "cell_type": "code",
   "execution_count": 31,
   "metadata": {},
   "outputs": [],
   "source": [
    "df.to_csv('matched_names.csv')"
   ]
  },
  {
   "cell_type": "code",
   "execution_count": null,
   "metadata": {},
   "outputs": [],
   "source": []
  }
 ],
 "metadata": {
  "kernelspec": {
   "display_name": "Python 3",
   "language": "python",
   "name": "python3"
  },
  "language_info": {
   "codemirror_mode": {
    "name": "ipython",
    "version": 3
   },
   "file_extension": ".py",
   "mimetype": "text/x-python",
   "name": "python",
   "nbconvert_exporter": "python",
   "pygments_lexer": "ipython3",
   "version": "3.6.3"
  }
 },
 "nbformat": 4,
 "nbformat_minor": 2
}
